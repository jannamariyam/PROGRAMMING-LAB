{
 "cells": [
  {
   "cell_type": "code",
   "execution_count": 8,
   "metadata": {},
   "outputs": [
    {
     "name": "stdout",
     "output_type": "stream",
     "text": [
      "0\n",
      "1\n",
      "1\n",
      "2\n",
      "3\n",
      "5\n",
      "8\n",
      "13\n",
      "21\n",
      "34\n"
     ]
    }
   ],
   "source": [
    "#DISPLAY THE FIBONACCI SERIES BETWEEN 0 TO 50\n",
    "\n",
    "#introducing the initial conditions for while loop\n",
    "a=0\n",
    "b=1\n",
    "sum=0\n",
    "count=1\n",
    "\n",
    "#inserting the values in while loop until the condition inside while loop becomes false\n",
    "while(sum<=50):\n",
    "    count=count+1   #term for repeat the counting\n",
    "    \n",
    "    #introducing the conditions for a fibonacci series\n",
    "    a=b\n",
    "    b=sum\n",
    "    sum=a+b\n",
    "    \n",
    "    #printing the output\n",
    "    print(b)\n",
    "    "
   ]
  },
  {
   "cell_type": "code",
   "execution_count": 16,
   "metadata": {},
   "outputs": [
    {
     "name": "stdout",
     "output_type": "stream",
     "text": [
      "Enter a number :4532\n",
      "reverse of the number is : 2354\n"
     ]
    }
   ],
   "source": [
    "#PROGRAM FOR REVERSE A GIVEN INTEGER NUMBER\n",
    "\n",
    "#applying condition for recieving input\n",
    "n=int(input(\"Enter a number :\"))\n",
    "\n",
    "#introducing initial conditions for while loop\n",
    "rev=0\n",
    "\n",
    "#inserting input value in while loop as per the condition\n",
    "while n>0:\n",
    "    dig=n%10       #using the modulus operator on the given decimal number to get the last digit of it\n",
    "    rev=rev*10+dig #term to find new reversed number\n",
    "    n=n//10        #using floor division operator to divide the decimal number by 10\n",
    "\n",
    "#repeat the above condition inside while loop automatically\n",
    "\n",
    "#print the reversed output\n",
    "print(\"reverse of the number is :\",rev)"
   ]
  },
  {
   "cell_type": "code",
   "execution_count": 18,
   "metadata": {},
   "outputs": [
    {
     "name": "stdout",
     "output_type": "stream",
     "text": [
      "Enter number 1 :272\n",
      "Enter number 2 :1479\n",
      "gcd of 272 and 1479 is : 17\n"
     ]
    }
   ],
   "source": [
    "#PROGRAM TO FIND THE GREATEST COMMON DIVISOR (GCD) OF TWO INTEGERS\n",
    "\n",
    "#applying the conditions for recieving input\n",
    "n1=int(input(\"Enter number 1 :\"))\n",
    "n2=int(input(\"Enter number 2 :\"))\n",
    "first_number=n1\n",
    "second_number=n2\n",
    "\n",
    "#inserting the input numbers into while loop as per the conditions\n",
    "while n2>0:\n",
    "    a=n1%n2   #applying the modulo operator to find modulus of n1 and n2 and store its value in'a'\n",
    "    n1=n2     #store n2 as new n1\n",
    "    n2=a      #store 'a' as new n2\n",
    "    gcd=n1    #recieving new n1 as gcd\n",
    "\n",
    "#print the gcd when 'a' value becomes 0 inside while loop\n",
    "print(\"gcd of %0.1d and %0.1d is : %0.1d\"%(first_number,second_number,gcd))\n",
    "\n",
    "    "
   ]
  },
  {
   "cell_type": "markdown",
   "metadata": {},
   "source": []
  },
  {
   "cell_type": "markdown",
   "metadata": {},
   "source": []
  },
  {
   "cell_type": "code",
   "execution_count": null,
   "metadata": {},
   "outputs": [],
   "source": []
  }
 ],
 "metadata": {
  "kernelspec": {
   "display_name": "Python 3",
   "language": "python",
   "name": "python3"
  },
  "language_info": {
   "codemirror_mode": {
    "name": "ipython",
    "version": 3
   },
   "file_extension": ".py",
   "mimetype": "text/x-python",
   "name": "python",
   "nbconvert_exporter": "python",
   "pygments_lexer": "ipython3",
   "version": "3.8.5"
  }
 },
 "nbformat": 4,
 "nbformat_minor": 4
}
