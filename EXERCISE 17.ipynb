{
 "cells": [
  {
   "cell_type": "code",
   "execution_count": 1,
   "metadata": {},
   "outputs": [
    {
     "name": "stdout",
     "output_type": "stream",
     "text": [
      "Original list of integers :\n",
      "[1, 2, 3, 4, 5, 6, 7, 8, 9, 10]\n",
      "\n",
      " Square every number of the said list :\n",
      "[1, 4, 9, 16, 25, 36, 49, 64, 81, 100]\n",
      "\n",
      " Cube every number of the said list :\n",
      "[1, 8, 27, 64, 125, 216, 343, 512, 729, 1000]\n"
     ]
    }
   ],
   "source": [
    "#EXAMPLE 1\n",
    "\n",
    "#WRITE A PYTHON PROGRAM TO SQUARE AND CUBE EVERY NUMBER IN A GIVEN LIST OF INTEGERS USING LAMBDA\n",
    "\n",
    "nums=[1,2,3,4,5,6,7,8,9,10]\n",
    "print(\"Original list of integers :\")\n",
    "print(nums)\n",
    "print(\"\\n Square every number of the said list :\")\n",
    "square_nums=list(map(lambda x:x**2,nums))\n",
    "print(square_nums)\n",
    "print(\"\\n Cube every number of the said list :\")\n",
    "cube_nums=list(map(lambda x:x**3,nums))\n",
    "print(cube_nums)\n",
    "\n",
    "#OUTPUT\n",
    "\n",
    "\n",
    "# Original list of integers :\n",
    "# [1, 2, 3, 4, 5, 6, 7, 8, 9, 10]\n",
    "\n",
    "# Square every number of the said list :\n",
    "# [1, 4, 9, 16, 25, 36, 49, 64, 81, 100]\n",
    "\n",
    "# Cube every number of the said list :\n",
    "# [1, 8, 27, 64, 125, 216, 343, 512, 729, 1000]"
   ]
  },
  {
   "cell_type": "code",
   "execution_count": 14,
   "metadata": {},
   "outputs": [
    {
     "name": "stdout",
     "output_type": "stream",
     "text": [
      "enter a number :3\n",
      "factorial of 3 is : 6\n"
     ]
    }
   ],
   "source": [
    "#EXAMPLE  2\n",
    "\n",
    "def factorial(n):\n",
    "    if n==0 or n==1: #0!=1!=1\n",
    "        return 1\n",
    "    else:\n",
    "        return(n*factorial(n-1))\n",
    "a=int(input(\"enter a number :\"))\n",
    "b=factorial(a)\n",
    "print(\"factorial of %d is :\"%a,b)"
   ]
  },
  {
   "cell_type": "code",
   "execution_count": 15,
   "metadata": {},
   "outputs": [
    {
     "data": {
      "text/plain": [
       "120"
      ]
     },
     "execution_count": 15,
     "metadata": {},
     "output_type": "execute_result"
    }
   ],
   "source": [
    "factorial(5)"
   ]
  },
  {
   "cell_type": "code",
   "execution_count": 16,
   "metadata": {},
   "outputs": [
    {
     "data": {
      "text/plain": [
       "2"
      ]
     },
     "execution_count": 16,
     "metadata": {},
     "output_type": "execute_result"
    }
   ],
   "source": [
    "factorial(2)"
   ]
  },
  {
   "cell_type": "code",
   "execution_count": 19,
   "metadata": {},
   "outputs": [
    {
     "name": "stdout",
     "output_type": "stream",
     "text": [
      "enter the side of square :2\n",
      "Area of square : 4\n",
      "enter the length of rectangle :4\n",
      "enter the breadth of rectangle :2\n",
      "Area of rectangle : 8\n",
      "enter the value of base of the triangle :6\n",
      "enter height of the triangle :3\n",
      "Area of triangle is : 9.0\n"
     ]
    }
   ],
   "source": [
    "#WRITE LAMBDA FUNCTIONS TO FIND AREA OF SQUARE,RECTANGLE AND TRIANGLE\n",
    "\n",
    "sd=int(input(\"enter the side of square :\"))            #recieving side length of square\n",
    "sqrA=lambda x:x*x                                      #by using lambda function finding area of square\n",
    "print(\"Area of square :\",sqrA(sd))                     #printing area of square\n",
    "\n",
    "l=int(input(\"enter the length of rectangle :\"))        #recieving length of rectangle\n",
    "b=int(input(\"enter the breadth of rectangle :\"))       #recieving breadth of triangle\n",
    "rctnglA=lambda l,b:l*b                                 #by using lambda function finding area of rectangle\n",
    "print(\"Area of rectangle :\",rctnglA(l,b))              #printing area of rectangle\n",
    "\n",
    "B=int(input(\"enter the value of base of the triangle :\"))#recieving length of base of triangle\n",
    "H=int(input(\"enter height of the triangle :\"))           #recieving height of triangle\n",
    "trnglA=lambda B,H:(B*H)/2                                #by using lambda function finding area of triangle\n",
    "print(\"Area of triangle is :\",trnglA(B,H))               #printing area of triangle\n",
    "\n",
    "\n",
    "#OUTPUT\n",
    "\n",
    "# enter the side of square :2\n",
    "# Area of square : 4\n",
    "# enter the length of rectangle :4\n",
    "# enter the breadth of rectangle :2\n",
    "# Area of rectangle : 8\n",
    "# enter the value of base of the triangle :6\n",
    "# enter height of the triangle :3\n",
    "# Area of triangle is : 9.0"
   ]
  },
  {
   "cell_type": "code",
   "execution_count": 20,
   "metadata": {},
   "outputs": [],
   "source": [
    "#EXAMPLE  3\n",
    "\n",
    "a=lambda x,y=2:x+y"
   ]
  },
  {
   "cell_type": "code",
   "execution_count": 21,
   "metadata": {},
   "outputs": [
    {
     "data": {
      "text/plain": [
       "5"
      ]
     },
     "execution_count": 21,
     "metadata": {},
     "output_type": "execute_result"
    }
   ],
   "source": [
    "a(3)"
   ]
  },
  {
   "cell_type": "code",
   "execution_count": 22,
   "metadata": {},
   "outputs": [
    {
     "data": {
      "text/plain": [
       "8"
      ]
     },
     "execution_count": 22,
     "metadata": {},
     "output_type": "execute_result"
    }
   ],
   "source": [
    "a(3,5)"
   ]
  },
  {
   "cell_type": "code",
   "execution_count": 23,
   "metadata": {},
   "outputs": [
    {
     "data": {
      "text/plain": [
       "2"
      ]
     },
     "execution_count": 23,
     "metadata": {},
     "output_type": "execute_result"
    }
   ],
   "source": [
    "a(0)"
   ]
  },
  {
   "cell_type": "code",
   "execution_count": 24,
   "metadata": {},
   "outputs": [
    {
     "data": {
      "text/plain": [
       "9"
      ]
     },
     "execution_count": 24,
     "metadata": {},
     "output_type": "execute_result"
    }
   ],
   "source": [
    "a(0,9)"
   ]
  },
  {
   "cell_type": "code",
   "execution_count": 25,
   "metadata": {},
   "outputs": [],
   "source": [
    "#EXAMPLE  4\n",
    "\n",
    "b=lambda *z:z"
   ]
  },
  {
   "cell_type": "code",
   "execution_count": 26,
   "metadata": {},
   "outputs": [
    {
     "data": {
      "text/plain": [
       "(23, 'zyx')"
      ]
     },
     "execution_count": 26,
     "metadata": {},
     "output_type": "execute_result"
    }
   ],
   "source": [
    "b(23,'zyx')"
   ]
  },
  {
   "cell_type": "code",
   "execution_count": 27,
   "metadata": {},
   "outputs": [
    {
     "data": {
      "text/plain": [
       "(42,)"
      ]
     },
     "execution_count": 27,
     "metadata": {},
     "output_type": "execute_result"
    }
   ],
   "source": [
    "b(42)"
   ]
  },
  {
   "cell_type": "code",
   "execution_count": 28,
   "metadata": {},
   "outputs": [
    {
     "name": "stdout",
     "output_type": "stream",
     "text": [
      "enter a number :2\n",
      "17\n"
     ]
    }
   ],
   "source": [
    "#EXAMPLE 5\n",
    "\n",
    "#WRITE A PYTHON PROGRAM TO CREATE A LAMBDA FUNCTION THAT ADDS 15 TO A GIVEN NUMBER PASSED IN AS AN ARGUMENT,ALSO CREATE A LAMBDA\n",
    "#FUNCTION THAT MULTIPLIES ARGUMENT X WITH ARGUMENT Y AND PRINT THE RESULT\n",
    "\n",
    "a=int(input(\"enter a number :\"))\n",
    "r=lambda a:a+15\n",
    "print(r(a))"
   ]
  },
  {
   "cell_type": "code",
   "execution_count": 29,
   "metadata": {},
   "outputs": [
    {
     "data": {
      "text/plain": [
       "20"
      ]
     },
     "execution_count": 29,
     "metadata": {},
     "output_type": "execute_result"
    }
   ],
   "source": [
    "r(5)"
   ]
  },
  {
   "cell_type": "code",
   "execution_count": 30,
   "metadata": {},
   "outputs": [
    {
     "data": {
      "text/plain": [
       "22"
      ]
     },
     "execution_count": 30,
     "metadata": {},
     "output_type": "execute_result"
    }
   ],
   "source": [
    "r(7)"
   ]
  },
  {
   "cell_type": "code",
   "execution_count": 32,
   "metadata": {},
   "outputs": [
    {
     "name": "stdout",
     "output_type": "stream",
     "text": [
      "enter first number x :3\n",
      "enter second number y :4\n",
      "12\n"
     ]
    }
   ],
   "source": [
    "x=int(input(\"enter first number x :\"))\n",
    "y=int(input(\"enter second number y :\"))\n",
    "r=lambda x,y:x*y\n",
    "print(r(x,y))"
   ]
  },
  {
   "cell_type": "code",
   "execution_count": 33,
   "metadata": {},
   "outputs": [
    {
     "data": {
      "text/plain": [
       "2"
      ]
     },
     "execution_count": 33,
     "metadata": {},
     "output_type": "execute_result"
    }
   ],
   "source": [
    "r(1,2)"
   ]
  },
  {
   "cell_type": "code",
   "execution_count": 34,
   "metadata": {},
   "outputs": [
    {
     "data": {
      "text/plain": [
       "30"
      ]
     },
     "execution_count": 34,
     "metadata": {},
     "output_type": "execute_result"
    }
   ],
   "source": [
    "r(6,5)"
   ]
  },
  {
   "cell_type": "code",
   "execution_count": 38,
   "metadata": {},
   "outputs": [
    {
     "name": "stdout",
     "output_type": "stream",
     "text": [
      "original list of integers :\n",
      "[1, 2, 3, 4, 5, 6, 7, 8, 9, 10]\n",
      "\n",
      "Even numbers from said list:\n",
      "[2, 4, 6, 8, 10]\n",
      "\n",
      "Odd numbers from said list :\n",
      "[1, 3, 5, 7, 9]\n"
     ]
    }
   ],
   "source": [
    "#EXAMPLE 6\n",
    "\n",
    "#WRITE A PYTHON PROGRAM TO FILTER A LIST OF INTEGERS USING LAMBDA\n",
    "\n",
    "nums=[1,2,3,4,5,6,7,8,9,10]\n",
    "print(\"original list of integers :\")\n",
    "print(nums)\n",
    "print(\"\\nEven numbers from said list:\")\n",
    "even_nums=list(filter(lambda x:x%2==0,nums))\n",
    "print(even_nums)\n",
    "print(\"\\nOdd numbers from said list :\")\n",
    "odd_nums=list(filter(lambda x:x%2!=0,nums))\n",
    "print(odd_nums)"
   ]
  },
  {
   "cell_type": "code",
   "execution_count": null,
   "metadata": {},
   "outputs": [],
   "source": []
  }
 ],
 "metadata": {
  "kernelspec": {
   "display_name": "Python 3",
   "language": "python",
   "name": "python3"
  },
  "language_info": {
   "codemirror_mode": {
    "name": "ipython",
    "version": 3
   },
   "file_extension": ".py",
   "mimetype": "text/x-python",
   "name": "python",
   "nbconvert_exporter": "python",
   "pygments_lexer": "ipython3",
   "version": "3.8.5"
  }
 },
 "nbformat": 4,
 "nbformat_minor": 4
}
