{
 "cells": [
  {
   "cell_type": "code",
   "execution_count": 7,
   "metadata": {},
   "outputs": [
    {
     "name": "stdout",
     "output_type": "stream",
     "text": [
      "Enter the name of employee :shreya\n",
      "Enter salary of employee :\n",
      "Name of employee = shreya \n",
      "salary is = 8000\n"
     ]
    }
   ],
   "source": [
    "#CREATE A FUNCTION SHOW EMPLOYEE() IN SUCH A WAY THAT IT SHOULD ACCEPT EMPLOYEE NAME,AND IT'S SALARY AND DISPLAY BOTH ,AND IF \n",
    "#THE SALARY IS MISSING IN FUNCTION CALL IT SHOULD SHOW IT AS 8000\n",
    "\n",
    "\n",
    "n=input(\"Enter the name of employee :\")        #recieving input name\n",
    "s=input(\"Enter salary of employee :\")          #recieving input salary\n",
    "def showEmployee(name,salary=\"8000\"):          #defining a function showEmployee with arguments name and salary\n",
    "    print(\"Name of employee = %s \\nsalary is = %s\"%(name,salary))  #printing name and salary as output\n",
    "\n",
    "#using if condition to recieve inserted salary or stored data corresponding to the variable salary\n",
    "if(s==\"\"):               #if salary s=null value print the value stored for salary in function definition\n",
    "    showEmployee(n)      \n",
    "else:                    #else print the output corresponding to input \n",
    "    showEmployee(n,s)\n",
    "    \n",
    "#OUTPUT\n",
    "\n",
    "#Enter the name of employee :SONA\n",
    "#Enter salary of employee :30000\n",
    "#Name of employee = SONA \n",
    "#salary is = 30000\n",
    "\n",
    "#Enter the name of employee :shreya\n",
    "#Enter salary of employee :\n",
    "#Name of employee = shreya \n",
    "#salary is = 8000\n"
   ]
  },
  {
   "cell_type": "code",
   "execution_count": 8,
   "metadata": {},
   "outputs": [
    {
     "name": "stdout",
     "output_type": "stream",
     "text": [
      "enter first number :6\n",
      "enter second number :2\n",
      "addition,subtraction,division and multiplication results of 6 and 2 are :\n"
     ]
    },
    {
     "data": {
      "text/plain": [
       "(8, 4, 3.0, 12)"
      ]
     },
     "execution_count": 8,
     "metadata": {},
     "output_type": "execute_result"
    }
   ],
   "source": [
    "#WRITE A FUNCTION CALCULATE SUCH THAT IT CAN ACCEPT TWO VARIABLES AND CALCULATE THE ADDITION,SUBTRACTION,\n",
    "#DIVISION AND MULTIPLICATION OF IT.AND ALSO IT MUST RETURN ALL VALUES IN A SINGLE RETURN CALL AND DISPLAY THE RESULTS\n",
    "\n",
    "n1=int(input(\"enter first number :\"))      #recieving the firdt number\n",
    "n2=int(input(\"enter second number :\"))     #recieving the second number\n",
    "def calculator(a,b):                       #defining a function calculator()\n",
    "    ad=a+b                                 #eqation for addition\n",
    "    sb=a-b                                 #equation for subtraction\n",
    "    dv=a/b                                 #equation for division\n",
    "    mt=a*b                                 #equation for multiplication\n",
    "    print(\"addition,subtraction,division and multiplication results of %d and %d are :\"%(a,b)) #printing output\n",
    "    return(ad,sb,dv,mt)                    #return the output values\n",
    "calculator(n1,n2)                          #closing term for introduced function\n",
    "\n",
    "#OUTPUT\n",
    "\n",
    "# enter first number :6\n",
    "# enter second number :2\n",
    "# addition,subtraction,division and multiplication results of 6 and 2 are :\n",
    "# (8, 4, 3.0, 12)\n",
    "    "
   ]
  },
  {
   "cell_type": "code",
   "execution_count": 1,
   "metadata": {},
   "outputs": [
    {
     "name": "stdout",
     "output_type": "stream",
     "text": [
      "the minimum of the numbers is :\n"
     ]
    },
    {
     "data": {
      "text/plain": [
       "3"
      ]
     },
     "execution_count": 1,
     "metadata": {},
     "output_type": "execute_result"
    }
   ],
   "source": [
    "#WRITE A FUNCTION FUNC1() SUCH THAT IT CAN ACCEPT A VARIABLE LENGTH OF ARGUMENTS AND RETURN THE MINIMUM AMONG ALL ARGUMENTS \n",
    "#VALUES.PRINT THE RESULT\n",
    "\n",
    "def func1(*num):               #introducing a function func1()\n",
    "    m=min(num)                 #condition for minimum\n",
    "    print(\"the minimum of the numbers is :\")  #printing the output\n",
    "    return m                                  #return the minimum value into output\n",
    "func1(3,4,5,6)                                #closing term for corresponding function"
   ]
  },
  {
   "cell_type": "code",
   "execution_count": 2,
   "metadata": {},
   "outputs": [
    {
     "name": "stdout",
     "output_type": "stream",
     "text": [
      "the minimum of the numbers is :\n"
     ]
    },
    {
     "data": {
      "text/plain": [
       "2"
      ]
     },
     "execution_count": 2,
     "metadata": {},
     "output_type": "execute_result"
    }
   ],
   "source": [
    "func1(8,5,6,4,3,2)"
   ]
  },
  {
   "cell_type": "code",
   "execution_count": 2,
   "metadata": {},
   "outputs": [
    {
     "name": "stdout",
     "output_type": "stream",
     "text": [
      "\n",
      "Data type of argument : <class 'dict'>\n",
      "Firstname is Sita\n",
      "Lastname is Sharma\n",
      "Age is 22\n",
      "Phone is 1234567890\n",
      "\n",
      "Data type of argument : <class 'dict'>\n",
      "Firstname is John\n",
      "Lastname is wood\n",
      "Email is johnwood@nomail.com\n",
      "Country is India\n",
      "Age is 25\n",
      "Phone is 9876543210\n"
     ]
    }
   ],
   "source": [
    "#example\n",
    "\n",
    "def intro(**data):\n",
    "    print(\"\\nData type of argument :\",type(data))\n",
    "    for key,value in data.items():\n",
    "        print(\"{} is {}\".format(key,value))\n",
    "\n",
    "intro(Firstname=\"Sita\",Lastname=\"Sharma\",Age=22,Phone=1234567890)\n",
    "intro(Firstname=\"John\",Lastname=\"wood\",Email=\"johnwood@nomail.com\",Country=\"India\",Age=25,Phone=9876543210)"
   ]
  },
  {
   "cell_type": "code",
   "execution_count": 3,
   "metadata": {},
   "outputs": [
    {
     "name": "stdout",
     "output_type": "stream",
     "text": [
      "arg1 is: 10\n",
      "arg2 is: 20\n",
      "additional non keyword arg : 30\n",
      "additional non keyword arg : 40\n",
      "additional keyword arg 'foo':50\n",
      "additional keyword arg 'bar':60\n"
     ]
    }
   ],
   "source": [
    "#example\n",
    "\n",
    "def newfoo(arg1,arg2,*nonKWtuple,**KWdict):\n",
    "    'display regular args and all variable args'\n",
    "    print('arg1 is:',arg1)\n",
    "    print('arg2 is:',arg2)\n",
    "    for eachnonKWtuple in nonKWtuple:\n",
    "        print('additional non keyword arg :',eachnonKWtuple)\n",
    "    for eachKWdict in  KWdict.keys():\n",
    "        print(\"additional keyword arg '%s':%s\"%(eachKWdict,KWdict[eachKWdict]) )\n",
    "\n",
    "newfoo(10,20,30,40,foo=50,bar=60)"
   ]
  },
  {
   "cell_type": "code",
   "execution_count": 4,
   "metadata": {},
   "outputs": [
    {
     "name": "stdout",
     "output_type": "stream",
     "text": [
      "sum : 8\n",
      "sum : 22\n",
      "sum : 17\n"
     ]
    }
   ],
   "source": [
    "#example\n",
    "\n",
    "def adder(*num):\n",
    "    sum=0\n",
    "    for n in num:\n",
    "        sum=sum+n\n",
    "    print(\"sum :\",sum)\n",
    "\n",
    "adder(3,5)\n",
    "adder(4,5,6,7)\n",
    "adder(1,2,3,5,6)"
   ]
  },
  {
   "cell_type": "code",
   "execution_count": 5,
   "metadata": {},
   "outputs": [
    {
     "name": "stdout",
     "output_type": "stream",
     "text": [
      "arg1 is : wolf\n",
      "arg2 is : 3\n",
      "additional non-keyword arg: projects\n",
      "additional keyword arg 'freud':90\n",
      "additional keyword arg 'gample':96\n"
     ]
    }
   ],
   "source": [
    "#example\n",
    "\n",
    "def newfoo(arg1,arg2,*nkw,**kw):\n",
    "    'display regular args and all variable args'\n",
    "    print('arg1 is :',arg1)\n",
    "    print('arg2 is :',arg2)\n",
    "    for eachNKW in nkw:\n",
    "        print('additional non-keyword arg:',eachNKW)\n",
    "    for eachKW in kw.keys():\n",
    "        print(\"additional keyword arg '%s':%s\"%(eachKW,kw[eachKW]))\n",
    "\n",
    "newfoo('wolf',3,'projects',freud=90,gample=96)"
   ]
  },
  {
   "cell_type": "code",
   "execution_count": 6,
   "metadata": {},
   "outputs": [
    {
     "name": "stdout",
     "output_type": "stream",
     "text": [
      "formal arg1: 1220\n",
      "formal arg2: 740.0\n",
      "Xtra arg c : grail\n"
     ]
    }
   ],
   "source": [
    "#example\n",
    "\n",
    "def dictVarArgs(arg1,arg2='defaultB',**theRest):\n",
    "    'display 2 regular args and keyword variable args'\n",
    "    print('formal arg1:',arg1)\n",
    "    print('formal arg2:',arg2)\n",
    "    for eachXtrArg in theRest.keys():\n",
    "        print('Xtra arg %s : %s'%(eachXtrArg,str(theRest[eachXtrArg])))\n",
    "\n",
    "dictVarArgs(1220,740.0,c='grail')"
   ]
  },
  {
   "cell_type": "code",
   "execution_count": 7,
   "metadata": {},
   "outputs": [
    {
     "name": "stdout",
     "output_type": "stream",
     "text": [
      "formal arg 1: abc\n",
      "formal arg 2: defaultB\n"
     ]
    }
   ],
   "source": [
    "#example\n",
    "\n",
    "def tupleVarArgs(arg1,arg2='defaultB',*theRest):\n",
    "    'display regular args and non-keyword variable args'\n",
    "    print('formal arg 1:',arg1)\n",
    "    print('formal arg 2:',arg2)\n",
    "    for eachXtrArg in theRest:\n",
    "        print('another arg:',eachXtrArg)\n",
    "tupleVarArgs('abc')"
   ]
  },
  {
   "cell_type": "code",
   "execution_count": null,
   "metadata": {},
   "outputs": [],
   "source": []
  }
 ],
 "metadata": {
  "kernelspec": {
   "display_name": "Python 3",
   "language": "python",
   "name": "python3"
  },
  "language_info": {
   "codemirror_mode": {
    "name": "ipython",
    "version": 3
   },
   "file_extension": ".py",
   "mimetype": "text/x-python",
   "name": "python",
   "nbconvert_exporter": "python",
   "pygments_lexer": "ipython3",
   "version": "3.8.5"
  }
 },
 "nbformat": 4,
 "nbformat_minor": 4
}
