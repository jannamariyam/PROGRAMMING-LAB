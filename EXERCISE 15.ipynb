{
 "cells": [
  {
   "cell_type": "code",
   "execution_count": 8,
   "metadata": {},
   "outputs": [
    {
     "name": "stdout",
     "output_type": "stream",
     "text": [
      "enter the value of a :1\n",
      "enter the value of b :3\n",
      "enter the value of c :5\n"
     ]
    },
    {
     "data": {
      "text/plain": [
       "'sum = 1 + 3 + 5 = 9'"
      ]
     },
     "execution_count": 8,
     "metadata": {},
     "output_type": "execute_result"
    }
   ],
   "source": [
    "\n",
    "#WRITE A PYTHON FUNCTION TO CALCULATE THE SUM OF THREE GIVEN NUMBERS,IF THE VALUES ARE EQUAL THEN RETURN THRICE THEIR SUM\n",
    "\n",
    "def sum_thrice(a,b,c):                           #defining a function sum_thrice(a,b,c) with function arguments\n",
    "    sum=a+b+c                                    #introducing the equation to calculate sum\n",
    "    if a==b==c:                                  #applying into if loop to check the equivalency of a,b and c\n",
    "        sum=3*sum                                #condition correspoding to if loop\n",
    "        return(\" 3 x (a+b+c) is : %d \"%sum)      #return the output when if condition is true\n",
    "    else:                                        #moving into else loop when if condition is false\n",
    "        return(\"sum = %d + %d + %d = %d\"%(a,b,c,sum)) #return the output corresponding to else loop\n",
    "a=int(input(\"enter the value of a :\"))           #recieving the input value a\n",
    "b=int(input(\"enter the value of b :\"))           #recieving the input value b\n",
    "c=int(input(\"enter the value of c :\"))           #recieving the input value c\n",
    "sum_thrice(a,b,c)                                #condition to print output corresponding to applied function\n",
    "\n",
    "\n",
    "# OUTPUT\n",
    "\n",
    "# enter the value of a :3\n",
    "# enter the value of b :3\n",
    "# enter the value of c :3\n",
    "# ' 3 x (a+b+c) is : 27 '\n",
    "\n",
    "# enter the value of a :1\n",
    "# enter the value of b :3\n",
    "# enter the value of c :5\n",
    "# 'sum = 1 + 3 + 5 = 9'\n"
   ]
  },
  {
   "cell_type": "code",
   "execution_count": 3,
   "metadata": {},
   "outputs": [
    {
     "name": "stdout",
     "output_type": "stream",
     "text": [
      "enter a string :janna\n"
     ]
    },
    {
     "data": {
      "text/plain": [
       "'Isjanna'"
      ]
     },
     "execution_count": 3,
     "metadata": {},
     "output_type": "execute_result"
    }
   ],
   "source": [
    "#WRITE A PYTHON FUNCTION TO GET A NEW STRING FROM A GIVEN STRING WHERE \"IS\" HAS BEEN ADDED TO THE FRONT.IF THE GIVEN STRING \n",
    "#ALREADY BEGINS WITH \"IS\" THEN RETURN THE STRING UNCHANGED\n",
    "\n",
    "def astring(str):                      #defining a function astring\n",
    "    \n",
    "#applying if loop to check whether 'Is' is present in the string    \n",
    "    if len(str)>=2 and str[:2]==\"Is\": #check whether the string have length greater than two and first charecter is 'Is'\n",
    "        return str                    #return the same string when if condition is true \n",
    "    else:                             #moving into else loop when if condition is false\n",
    "        return(\"Is\" + str)            #return 'Is' before the string\n",
    "str=input(\"enter a string :\")         #recieving the input string\n",
    "astring(str)                          #condition to print output corresponding to defined function\n",
    "\n",
    "\n",
    "#OUTPUT\n",
    "\n",
    "# enter a string :Isarray\n",
    "# 'Isarray'\n",
    "\n",
    "# enter a string :janna\n",
    "# 'Isjanna'\n"
   ]
  },
  {
   "cell_type": "code",
   "execution_count": 5,
   "metadata": {},
   "outputs": [
    {
     "name": "stdout",
     "output_type": "stream",
     "text": [
      "enter a number :345\n",
      "sum of digits of given number is : 12\n"
     ]
    }
   ],
   "source": [
    "#WRITE A PYTHON FUNCTION TO FIND SUM OF DIGITS OF A NUMBER\n",
    "\n",
    "n=int(input(\"enter a number :\"))     #recieving an input number\n",
    "def sum_digits(n):                   #defining a function sum_digits(n) \n",
    "    s=0                              #introducing initial condition for while loop\n",
    "    while n:\n",
    "        \n",
    "        #condition to calculate sum of digits|initialy s is zero,then store value corresponding to n mod 10 in new s\n",
    "        #in next iteration with new n,  s store previous n%10 and new s store previous s+n%10\n",
    "        s = s+(n%10)\n",
    "        #by using floor division round the result down to the nearest whole number,and store a new n\n",
    "        n //=10\n",
    "    return s   #return the s value\n",
    "print(\"sum of digits of given number is :\",sum_digits(n))  #printing the output corresponding to defined function\n",
    "\n",
    "\n",
    "#OUTPUT\n",
    "\n",
    "# enter a number :345\n",
    "# sum of digits of given number is : 12\n"
   ]
  },
  {
   "cell_type": "code",
   "execution_count": 18,
   "metadata": {},
   "outputs": [
    {
     "name": "stdout",
     "output_type": "stream",
     "text": [
      "enter a number :320\n",
      "the factors of 320 are :\n",
      "1\n",
      "2\n",
      "4\n",
      "5\n",
      "8\n",
      "10\n",
      "16\n",
      "20\n",
      "32\n",
      "40\n",
      "64\n",
      "80\n",
      "160\n",
      "320\n"
     ]
    }
   ],
   "source": [
    "#WRITE A PYTHON FUNCTION TO GENERATE ALL THE FACTORS OF A NUMBER\n",
    "\n",
    "def print_factors(x):                  #defining a function def print_factors(x)\n",
    "    print(\"the factors of %d are :\"%x) #printing the output statement\n",
    "    for i in range(1,x+1):             #introducing for loop to iterate i over range  1 to x+1\n",
    "        if x%i == 0:                   #applying if condition to print exact factors\n",
    "            print(i)                   #printing corresponding statement of if loop\n",
    "x=int(input(\"enter a number :\"))       #recieving input number\n",
    "print_factors(x)                       #condition to print output corresponding to recieved input\n",
    "\n",
    "#OUTPUT\n",
    "\n",
    "# enter a number :320\n",
    "# the factors of 320 are :\n",
    "# 1\n",
    "# 2\n",
    "# 4\n",
    "# 5\n",
    "# 8\n",
    "# 10\n",
    "# 16\n",
    "# 20\n",
    "# 32\n",
    "# 40\n",
    "# 64\n",
    "# 80\n",
    "# 160\n",
    "# 320"
   ]
  },
  {
   "cell_type": "code",
   "execution_count": 7,
   "metadata": {},
   "outputs": [
    {
     "name": "stdout",
     "output_type": "stream",
     "text": [
      "the principal amount is :8000\n",
      "the time period in year is :6\n",
      "the rate of interest is :8\n",
      "the simple interest is : 3840.0\n"
     ]
    },
    {
     "data": {
      "text/plain": [
       "3840.0"
      ]
     },
     "execution_count": 7,
     "metadata": {},
     "output_type": "execute_result"
    }
   ],
   "source": [
    "#WRITE A PYTHON FUNCTION TO CALCULATE THE SIMPLE INTEREST.(USE KEYWORD ARGUMENTS)\n",
    "\n",
    "def simple_interest(p,t,r):                  #defining a function simple_interest with keyword arguments p,t,r\n",
    "    si=(p*t*r)/100                           #introducing equation to find simple interest\n",
    "    print(\"the simple interest is :\",si)     #printing the output statement\n",
    "    return si                                #return the value of simple interest as output\n",
    "p=int(input(\"the principal amount is :\"))    #recieving input value of p\n",
    "t=int(input(\"the time period in year is :\")) #recieving input value of t\n",
    "r=int(input(\"the rate of interest is :\"))    #recieving input value of r\n",
    "simple_interest(p,t,r)                       #condition to print output corresponding to defined function\n",
    "\n",
    "#OUTPUT\n",
    "\n",
    "# the principal amount is :8000\n",
    "# the time period in year is :6\n",
    "# the rate of interest is :8\n",
    "# the simple interest is : 3840.0\n"
   ]
  },
  {
   "cell_type": "code",
   "execution_count": null,
   "metadata": {},
   "outputs": [],
   "source": []
  },
  {
   "cell_type": "code",
   "execution_count": null,
   "metadata": {},
   "outputs": [],
   "source": []
  }
 ],
 "metadata": {
  "kernelspec": {
   "display_name": "Python 3",
   "language": "python",
   "name": "python3"
  },
  "language_info": {
   "codemirror_mode": {
    "name": "ipython",
    "version": 3
   },
   "file_extension": ".py",
   "mimetype": "text/x-python",
   "name": "python",
   "nbconvert_exporter": "python",
   "pygments_lexer": "ipython3",
   "version": "3.8.5"
  }
 },
 "nbformat": 4,
 "nbformat_minor": 4
}
