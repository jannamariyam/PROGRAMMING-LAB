{
 "cells": [
  {
   "cell_type": "code",
   "execution_count": 8,
   "metadata": {},
   "outputs": [
    {
     "name": "stdout",
     "output_type": "stream",
     "text": [
      "enter number of elements in your list 3\n",
      "enter number 1 :-90\n",
      "enter number 2 :-6\n",
      "enter number 3 :7\n",
      "integer number list : [-90, -6, 7]\n",
      "positive nmbr list is: [7]\n"
     ]
    }
   ],
   "source": [
    "#GENERATE POSITIVE LIST OF NUMBERS FROM A GIVEN LIST OF INTEGERS\n",
    "\n",
    "no_of_elements=int(input(\"enter number of elements in your list \"))    #recieving number of elements in list\n",
    "nmbrlist=list()                                                        #creating an empty list\n",
    "i=0                                                                    #inserting initial condition of for loop\n",
    "for i in range(no_of_elements):                                        #introduce 'for' loop to recieve numbers\n",
    "                   i=i+1                                               #term to continue for loop upto range\n",
    "                   number=int(input(\"enter number %d :\"%i))\n",
    "                   nmbrlist.append(number)                             #appending the numbers in nmbrlist\n",
    "print(\"integer number list :\",nmbrlist)                                #printing nmbrlist\n",
    "pstvnmbrlist=[i for i in nmbrlist if i>0]                              #applying conditions for the numbers inside new list\n",
    "print(\"positive nmbr list is:\",pstvnmbrlist)                           #printing new list\n",
    "                   \n",
    "                   \n",
    "\n"
   ]
  },
  {
   "cell_type": "code",
   "execution_count": 9,
   "metadata": {},
   "outputs": [
    {
     "name": "stdout",
     "output_type": "stream",
     "text": [
      "number of elements in your list4\n",
      "enter number 1 :3\n",
      "enter number 2 :7\n",
      "enter number 3 :2\n",
      "enter number 4 :1\n",
      "number list : [3, 7, 2, 1]\n",
      "square list is : [9, 49, 4, 1]\n"
     ]
    }
   ],
   "source": [
    "#SQUARE OF N NUMBERS\n",
    "no_ofelmnts=int(input(\"number of elements in your list :\")) #recieving number of elements in list\n",
    "nmbrlist=list()                                             #creating an empty list\n",
    "i=0                                                         #introducing initial condition of for loop\n",
    "for i in range(no_ofelmnts):                                #applying'for' loop to reciev numbers\n",
    "    i=i+1                                                   #term for continuation inside for loop\n",
    "    number=int(input(\"enter number %d :\"%i))                #recieving the numbers one by one\n",
    "    nmbrlist.append(number)                                 #appending the numbers in the nmbrlist\n",
    "print(\"number list :\",nmbrlist)                             #printing the number list\n",
    "                                   \n",
    "s=[i*i for i in nmbrlist]                                   #condition for elements in new list\n",
    "print(\"square list is :\",s)                                 #printing the new list\n"
   ]
  },
  {
   "cell_type": "code",
   "execution_count": 16,
   "metadata": {},
   "outputs": [
    {
     "name": "stdout",
     "output_type": "stream",
     "text": [
      "enter a word :rose\n",
      "letter list : ['r', 'o', 's', 'e']\n",
      "vowel list of given word : ['o', 'e']\n"
     ]
    }
   ],
   "source": [
    "#FORM A LIST OF VOWELS SELECTED FROM A GIVEN WORD\n",
    "\n",
    "wrd=input(\"enter a word :\")             #recieving a word\n",
    "                     \n",
    "letters=[letter for letter in wrd]     #creating a list of letters in given word     \n",
    "print(\"letter list :\",letters)         #printing the letter list                     \n",
    "vowels=['a','e','i','o','u']           #recieving a vowel list                   \n",
    "new_list=[letter for letter in wrd if letter in vowels] #applying condition for elements in new list\n",
    "print(\"vowel list of given word :\",new_list)    #printing the new list\n"
   ]
  },
  {
   "cell_type": "markdown",
   "metadata": {},
   "source": []
  },
  {
   "cell_type": "markdown",
   "metadata": {},
   "source": []
  },
  {
   "cell_type": "code",
   "execution_count": 18,
   "metadata": {},
   "outputs": [
    {
     "name": "stdout",
     "output_type": "stream",
     "text": [
      "enter a word :moon\n",
      "letter list : ['m', 'o', 'o', 'n']\n",
      "ordinal value: ['m : 109', 'o : 111', 'o : 111', 'n : 110']\n"
     ]
    }
   ],
   "source": [
    "#LIST ORDINAL VALUE OF EACH ELEMENT OF A WORD\n",
    "#HINT:USE ord() to get ordinal values\n",
    "\n",
    "word=input(\"enter a word :\")                         #recieving a word\n",
    "letters=[letter for letter in word]                  #creating letter list of given word\n",
    "print(\"letter list :\",letters)                       #printing the letter list\n",
    "ordinalList=[(\"%s : %d\"%(i,ord(i))) for i in letters]#applying condition for the elements in new list(recieving ordinal value)\n",
    "print(\"ordinal value:\",ordinalList)                  #printing new list\n"
   ]
  },
  {
   "cell_type": "code",
   "execution_count": null,
   "metadata": {},
   "outputs": [],
   "source": [
    "\n",
    "                   \n",
    "                   "
   ]
  },
  {
   "cell_type": "code",
   "execution_count": null,
   "metadata": {},
   "outputs": [],
   "source": []
  }
 ],
 "metadata": {
  "kernelspec": {
   "display_name": "Python 3",
   "language": "python",
   "name": "python3"
  }
 },
 "nbformat": 4,
 "nbformat_minor": 4
}
