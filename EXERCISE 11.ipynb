{
 "cells": [
  {
   "cell_type": "code",
   "execution_count": 1,
   "metadata": {},
   "outputs": [
    {
     "name": "stdout",
     "output_type": "stream",
     "text": [
      "('n', 'o', 'h', 't', 'y', 'p')\n"
     ]
    }
   ],
   "source": [
    "#PYTHON PROGRAM TO REVERSE A TUPLE\n",
    "\n",
    "x = (\"python\")    #creating a tuple\n",
    "y=reversed(x)     #reversing the tuple\n",
    "print(tuple(y))   #printing the reversed tuple\n"
   ]
  },
  {
   "cell_type": "code",
   "execution_count": 11,
   "metadata": {},
   "outputs": [
    {
     "name": "stdout",
     "output_type": "stream",
     "text": [
      "average value of elements inside the given tuple is : 3.2\n"
     ]
    }
   ],
   "source": [
    "#PYTHON PROGRAM TO CALCULATE THE AVERAGE VALUE OF THE NUMBERS IN A GIVEN TUPLE\n",
    "\n",
    "x=(1,2,3,4,6)           #creating a tuple\n",
    "average=(sum(x)/len(x)) #introducing equqtion to calculate average\n",
    "y=average               #storing average in y\n",
    "print(\"average value of elements inside the given tuple is :\",y)  #printing average value as output\n"
   ]
  },
  {
   "cell_type": "code",
   "execution_count": 14,
   "metadata": {},
   "outputs": [
    {
     "name": "stdout",
     "output_type": "stream",
     "text": [
      "The index of a: 3\n"
     ]
    }
   ],
   "source": [
    "#PYTHON PROGRAM TO FIND THE INDEX OF AN ITEM OF A TUPLE\n",
    "\n",
    "spellingtuple=('a','p','p','l','e')    #creating a tuple\n",
    "index=spellingtuple.index('l')         #searching of the index of an item inside the tuple\n",
    "print('The index of a:',index)         #printing the index value of searched item as output"
   ]
  },
  {
   "cell_type": "code",
   "execution_count": 3,
   "metadata": {},
   "outputs": [
    {
     "name": "stdout",
     "output_type": "stream",
     "text": [
      "('a', 'i', 'o', 'u')\n"
     ]
    }
   ],
   "source": [
    "#PYTHON PROGRAM TO REMOVE AN ITEM FROM TUPLE\n",
    "\n",
    "vowels_tuple=('a','e','i','o','u')    #creating a tuple\n",
    "a=vowels_tuple                        #storing the tuple inside 'a'\n",
    "\n",
    "new=a[0:1]+a[2:]                      #it is not possible to remove single element in tuple using del operator\n",
    "                                      #hence create a new tuple by removing unwanted element\n",
    "print(new)                            #print new tuple"
   ]
  },
  {
   "cell_type": "code",
   "execution_count": 4,
   "metadata": {},
   "outputs": [
    {
     "name": "stdout",
     "output_type": "stream",
     "text": [
      "third element in the given tuple is : J\n",
      "third element from the last of the given tuple is : M\n"
     ]
    }
   ],
   "source": [
    "#PYTHON PROGRAM TO GET THE THIRD ELEMENT AND THIRD ELEMENT FROM LAST OF A TUPLE\n",
    "\n",
    "name_tuple=('R','A','J','K','U','M','A','R')                  #creating a tuple\n",
    "a=name_tuple                                                  #storing the tuple inside 'a'\n",
    "item1=a[2]                                                    #gaving information about the items wanted to print\n",
    "item2=a[-3]        \n",
    "print(\"third element in the given tuple is :\",item1)          #printing the selected items as output\n",
    "print(\"third element from the last of the given tuple is :\",item2)"
   ]
  },
  {
   "cell_type": "code",
   "execution_count": null,
   "metadata": {},
   "outputs": [],
   "source": []
  }
 ],
 "metadata": {
  "kernelspec": {
   "display_name": "Python 3",
   "language": "python",
   "name": "python3"
  },
  "language_info": {
   "codemirror_mode": {
    "name": "ipython",
    "version": 3
   },
   "file_extension": ".py",
   "mimetype": "text/x-python",
   "name": "python",
   "nbconvert_exporter": "python",
   "pygments_lexer": "ipython3",
   "version": "3.8.5"
  }
 },
 "nbformat": 4,
 "nbformat_minor": 4
}
