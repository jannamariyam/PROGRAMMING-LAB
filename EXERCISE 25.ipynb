{
 "cells": [
  {
   "cell_type": "code",
   "execution_count": 2,
   "metadata": {},
   "outputs": [
    {
     "name": "stdout",
     "output_type": "stream",
     "text": [
      "If a caret(^) is the first charecter immideately inside the open left bracket,this symbolizes a directive to not match any of the charecters in the given charecter set.\n",
      "\n"
     ]
    }
   ],
   "source": [
    "#create a file test.txt and retrieve all lines that contain \"the\"\n",
    "\n",
    "import re\n",
    "file=open(\"test.txt\",\"r\")\n",
    "lineList=file.readlines()\n",
    "for i in lineList:\n",
    "    m=re.search('the',i)\n",
    "    if m!=None:\n",
    "        print(i)\n",
    "        \n",
    "        "
   ]
  },
  {
   "cell_type": "code",
   "execution_count": 3,
   "metadata": {},
   "outputs": [
    {
     "name": "stdout",
     "output_type": "stream",
     "text": [
      "If a caret(^) is the first charecter immideately inside the open left bracket,this symbolizes a directive to not match any of the charecters in the given charecter set.\n",
      "\n"
     ]
    }
   ],
   "source": [
    "\n",
    "import re\n",
    "l=re.compile('the')\n",
    "f=open('test.txt','r')\n",
    "lines=f.readlines()\n",
    "for line in lines:\n",
    "    if(l.search(line)):\n",
    "        print(line)\n"
   ]
  },
  {
   "cell_type": "code",
   "execution_count": 8,
   "metadata": {},
   "outputs": [
    {
     "name": "stdout",
     "output_type": "stream",
     "text": [
      "If a caret(^) is the first charecter immideately inside the open left bracket,this symbolizes a directive to not match any of the charecters in the given charecter set.\n",
      "\n",
      "The asterisk or star operator(*) will match zero or more occurences of RE immidiately to its left\n"
     ]
    }
   ],
   "source": [
    "#Retrieve all lines that contain \"the\" with lower or upper case letter\n",
    "\n",
    "\n",
    "import re\n",
    "l=re.compile('the',re.I)\n",
    "f=open(\"test.txt\",\"r\")\n",
    "lines=f.readlines()\n",
    "for line in lines:\n",
    "    if(l.search(line)):\n",
    "        print(line)\n",
    "\n"
   ]
  },
  {
   "cell_type": "code",
   "execution_count": 9,
   "metadata": {},
   "outputs": [
    {
     "name": "stdout",
     "output_type": "stream",
     "text": [
      "If a caret(^) is the first charecter immideately inside the open left bracket,this symbolizes a directive to not match any of the charecters in the given charecter set.\n",
      "\n"
     ]
    }
   ],
   "source": [
    "import re\n",
    "l=re.compile('the|THE')\n",
    "f=open(\"test.txt\",\"r\")\n",
    "lines=f.readlines()\n",
    "for line in lines:\n",
    "    if(l.search(line)):\n",
    "        print(line)"
   ]
  },
  {
   "cell_type": "code",
   "execution_count": 15,
   "metadata": {},
   "outputs": [
    {
     "name": "stdout",
     "output_type": "stream",
     "text": [
      "She looks so cute\n",
      "\n",
      "This book is very good to read\n"
     ]
    }
   ],
   "source": [
    "# 3.RETRIEVE LINES THAT HAVE 2 CONSECUTIVE O'S\n",
    "\n",
    "import re\n",
    "l=re.compile('oo')\n",
    "f=open('test.txt','r')\n",
    "lines=f.readlines()\n",
    "for line in lines:\n",
    "    if(l.search(line)):\n",
    "        print(line)"
   ]
  },
  {
   "cell_type": "code",
   "execution_count": 1,
   "metadata": {},
   "outputs": [
    {
     "name": "stdout",
     "output_type": "stream",
     "text": [
      "The asterisk or star operator(*) will match zero or more occurences of RE immidiately to its left.\n",
      "\n",
      "in some dresses she looks so pretty\n",
      "\n"
     ]
    }
   ],
   "source": [
    "#4.retrieve lines that contain a letter string consisting of 's' then any charecter,then e such as she\n",
    "\n",
    "import re\n",
    "l=re.compile('s.e')\n",
    "f=open('test.txt','r')\n",
    "lines=f.readlines()\n",
    "for line in lines:\n",
    "    if(l.search(line)):\n",
    "        print(line)"
   ]
  },
  {
   "cell_type": "code",
   "execution_count": 3,
   "metadata": {},
   "outputs": [
    {
     "name": "stdout",
     "output_type": "stream",
     "text": [
      "in some dresses she looks so pretty\n",
      "\n"
     ]
    }
   ],
   "source": [
    "import re\n",
    "l=re.compile('^s|\\ss.e\\s')\n",
    "f=open('test.txt','r')\n",
    "lines=f.readlines()\n",
    "for line in lines:\n",
    "    if(l.search(line)):\n",
    "        print(line)"
   ]
  },
  {
   "cell_type": "code",
   "execution_count": 4,
   "metadata": {},
   "outputs": [
    {
     "name": "stdout",
     "output_type": "stream",
     "text": [
      "She looks so cute\n",
      "\n",
      "in some dresses she looks so pretty\n",
      "\n"
     ]
    }
   ],
   "source": [
    "# 5.Retrieve lines with three letter word that starts with S and ends with e \n",
    "import re\n",
    "l=re.compile('^s|\\ss.e\\s',re.I)\n",
    "f=open('test.txt','r')\n",
    "lines=f.readlines()\n",
    "for line in lines:\n",
    "    if(l.search(line)):\n",
    "        print(line)"
   ]
  },
  {
   "cell_type": "code",
   "execution_count": 7,
   "metadata": {},
   "outputs": [
    {
     "name": "stdout",
     "output_type": "stream",
     "text": [
      "ammu have an address book\n"
     ]
    }
   ],
   "source": [
    "# 6.retrieve lines that start with a\n",
    "\n",
    "import re\n",
    "l=re.compile('^a')\n",
    "f=open('test.txt','r')\n",
    "lines=f.readlines()\n",
    "for line in lines:\n",
    "    if(l.search(line)):\n",
    "        print(line)"
   ]
  },
  {
   "cell_type": "code",
   "execution_count": 28,
   "metadata": {},
   "outputs": [
    {
     "name": "stdout",
     "output_type": "stream",
     "text": [
      "arun\n",
      "\n",
      "arjun\n"
     ]
    }
   ],
   "source": [
    "#7.retrieve lines that starts with a and ends with n\n",
    "\n",
    "import re\n",
    "l=re.compile('^a\\w+n$')\n",
    "f=open('test.txt','r')\n",
    "lines=f.readlines()\n",
    "for line in lines:\n",
    "    if(l.search(line)):\n",
    "        print(line)\n"
   ]
  },
  {
   "cell_type": "code",
   "execution_count": 44,
   "metadata": {},
   "outputs": [
    {
     "name": "stdout",
     "output_type": "stream",
     "text": [
      "15.12.21\n",
      "\n",
      "23.5.12\n"
     ]
    }
   ],
   "source": [
    "#8.retrieve all lines with a date in the form of one or '2 digits',a'dot','2 digits'\n",
    "\n",
    "import re\n",
    "l=re.compile('(\\d\\d?)\\.(\\d\\d?)\\.\\d\\d$')\n",
    "f=open('test.txt','r')\n",
    "lines=f.readlines()\n",
    "for line in lines:\n",
    "    if(l.search(line)):\n",
    "        print(line)"
   ]
  },
  {
   "cell_type": "code",
   "execution_count": null,
   "metadata": {
    "collapsed": true
   },
   "outputs": [],
   "source": []
  }
 ],
 "metadata": {
  "kernelspec": {
   "display_name": "Python 3",
   "language": "python",
   "name": "python3"
  },
  "language_info": {
   "codemirror_mode": {
    "name": "ipython",
    "version": 3
   },
   "file_extension": ".py",
   "mimetype": "text/x-python",
   "name": "python",
   "nbconvert_exporter": "python",
   "pygments_lexer": "ipython3",
   "version": "3.6.3"
  }
 },
 "nbformat": 4,
 "nbformat_minor": 2
}
