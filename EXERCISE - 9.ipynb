{
 "cells": [
  {
   "cell_type": "code",
   "execution_count": 1,
   "metadata": {},
   "outputs": [
    {
     "name": "stdout",
     "output_type": "stream",
     "text": [
      "Enter a number :5\n",
      "5 * 1 = 5\n",
      "5 * 2 = 10\n",
      "5 * 3 = 15\n",
      "5 * 4 = 20\n",
      "5 * 5 = 25\n",
      "5 * 6 = 30\n",
      "5 * 7 = 35\n",
      "5 * 8 = 40\n",
      "5 * 9 = 45\n",
      "5 * 10 = 50\n"
     ]
    }
   ],
   "source": [
    "#PRINT THE MULTIPLICATION TABLE OF A NUMBER\n",
    "\n",
    "#applying the condition for recieving input\n",
    "n=int(input(\"Enter a number :\"))\n",
    "\n",
    "#introducing initial condition for while loop\n",
    "i=1\n",
    "\n",
    "#inserting the input value in while loop as per the condition\n",
    "while i<=10:\n",
    "    print(n,\"*\",i,\"=\",n*i)    #printing the output\n",
    "    i=i+1                     #term for repeating calculation inside the loop until while condition is false"
   ]
  },
  {
   "cell_type": "code",
   "execution_count": 2,
   "metadata": {},
   "outputs": [
    {
     "name": "stdout",
     "output_type": "stream",
     "text": [
      "Enter a number :6\n",
      "factorial of 6 (6 !) is : 720\n"
     ]
    }
   ],
   "source": [
    "#WRITE A LOOP TO FIND FACTORIAL OF ANY NUMBER ENTERED BY USER\n",
    "\n",
    "#applying conditions for recieving input\n",
    "n=int(input(\"Enter a number :\"))\n",
    "\n",
    "#introducing initial conditions for while loop\n",
    "fac=1\n",
    "i=1\n",
    "\n",
    "#inserting input value in while loop as per the condition\n",
    "while i<= n:\n",
    "    fac=fac*i      #introducing equation for calculating factorial\n",
    "    i=i+1          #term for repeating the calculation until the condition inside the while loop is false\n",
    "    \n",
    "#printing the output\n",
    "print(\"factorial of %0.1d (%0.1d !) is : %0.1d\"%(n,n,fac))"
   ]
  },
  {
   "cell_type": "code",
   "execution_count": 6,
   "metadata": {},
   "outputs": [
    {
     "name": "stdout",
     "output_type": "stream",
     "text": [
      "Enter a number :30125\n",
      "n = 3012\n",
      "n = 301\n",
      "n = 30\n",
      "n = 3\n",
      "n = 0\n",
      "number of digits  : 5\n"
     ]
    }
   ],
   "source": [
    "#GIVEN A NUMBER,COUNT THE TOTAL NUMBER OF DIGITS IN A NUMBER\n",
    "\n",
    "#applying the condition for recieving input\n",
    "n=int(input(\"Enter a number :\"))\n",
    "\n",
    "#introducing the initial condition for while loop\n",
    "count=0\n",
    "\n",
    "#counting number of digits in n using while loop\n",
    "while n>0:\n",
    "    count=count+1\n",
    "    n=n//10           #inserting a floor division operator to divide the decimel number by 10,counting continue upto n=0\n",
    "    print(\"n =\",n)    #printing the n value for each steps\n",
    "print(\"number of digits  : %0.1d\"%count)    #printing the output\n",
    "    "
   ]
  },
  {
   "cell_type": "code",
   "execution_count": null,
   "metadata": {},
   "outputs": [],
   "source": []
  },
  {
   "cell_type": "code",
   "execution_count": null,
   "metadata": {},
   "outputs": [],
   "source": []
  },
  {
   "cell_type": "markdown",
   "metadata": {},
   "source": [
    "##### "
   ]
  }
 ],
 "metadata": {
  "kernelspec": {
   "display_name": "Python 3",
   "language": "python",
   "name": "python3"
  },
  "language_info": {
   "codemirror_mode": {
    "name": "ipython",
    "version": 3
   },
   "file_extension": ".py",
   "mimetype": "text/x-python",
   "name": "python",
   "nbconvert_exporter": "python",
   "pygments_lexer": "ipython3",
   "version": "3.8.5"
  }
 },
 "nbformat": 4,
 "nbformat_minor": 4
}
