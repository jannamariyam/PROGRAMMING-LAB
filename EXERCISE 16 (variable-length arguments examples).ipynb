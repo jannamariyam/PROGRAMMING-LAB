{
 "cells": [
  {
   "cell_type": "code",
   "execution_count": 3,
   "metadata": {},
   "outputs": [],
   "source": [
    "#example 1\n",
    "\n",
    "def tupleVarArgs(arg1,arg2='defaultB',*theRest):\n",
    "    'display regular args and non-keyword variable args'\n",
    "    print('formal arg 1:',arg1)\n",
    "    print('formal arg 2:',arg2)\n",
    "    for eachXtrArg in theRest:\n",
    "        print('another arg:',eachXtrArg)\n",
    "\n"
   ]
  },
  {
   "cell_type": "code",
   "execution_count": 2,
   "metadata": {},
   "outputs": [
    {
     "name": "stdout",
     "output_type": "stream",
     "text": [
      "formal arg 1: 23\n",
      "formal arg 2: 4.56\n"
     ]
    }
   ],
   "source": [
    "tupleVarArgs(23,4.56)"
   ]
  },
  {
   "cell_type": "code",
   "execution_count": 4,
   "metadata": {},
   "outputs": [
    {
     "name": "stdout",
     "output_type": "stream",
     "text": [
      "formal arg 1: abc\n",
      "formal arg 2: defaultB\n"
     ]
    }
   ],
   "source": [
    "tupleVarArgs('abc')"
   ]
  },
  {
   "cell_type": "code",
   "execution_count": 5,
   "metadata": {},
   "outputs": [
    {
     "name": "stdout",
     "output_type": "stream",
     "text": [
      "formal arg 1: abc\n",
      "formal arg 2: 123\n",
      "another arg: xyz\n",
      "another arg: 456.789\n"
     ]
    }
   ],
   "source": [
    "tupleVarArgs('abc',123,'xyz',456.789)"
   ]
  },
  {
   "cell_type": "code",
   "execution_count": 8,
   "metadata": {},
   "outputs": [],
   "source": [
    "# EXAMPLE 2\n",
    "\n",
    "def dictVarArgs(arg1,arg2='defaultB',**theRest):\n",
    "    'display 2 regular args and keyword variable args'\n",
    "    print('formal arg1:',arg1)\n",
    "    print('formal arg2:',arg2)\n",
    "    for eachXtrArg in theRest.keys():\n",
    "        print('Xtra arg %s : %s'%(eachXtrArg,str(theRest[eachXtrArg])))"
   ]
  },
  {
   "cell_type": "code",
   "execution_count": 9,
   "metadata": {},
   "outputs": [
    {
     "name": "stdout",
     "output_type": "stream",
     "text": [
      "formal arg1: 1220\n",
      "formal arg2: 740.0\n",
      "Xtra arg c : grail\n"
     ]
    }
   ],
   "source": [
    "dictVarArgs(1220,740.0,c='grail')"
   ]
  },
  {
   "cell_type": "code",
   "execution_count": 10,
   "metadata": {},
   "outputs": [
    {
     "name": "stdout",
     "output_type": "stream",
     "text": [
      "formal arg1: one\n",
      "formal arg2: defaultB\n",
      "Xtra arg d : 10\n",
      "Xtra arg e : zoo\n",
      "Xtra arg men : ('fred', 'allen')\n"
     ]
    }
   ],
   "source": [
    "dictVarArgs('one',d=10,e='zoo',men=('fred','allen'))"
   ]
  },
  {
   "cell_type": "code",
   "execution_count": 4,
   "metadata": {},
   "outputs": [],
   "source": [
    "#EXAMPLE 3\n",
    "\n",
    "def newfoo(arg1,arg2,*nkw,**kw):\n",
    "    'display regular args and all variable args'\n",
    "    print('arg1 is :',arg1)\n",
    "    print('arg2 is :',arg2)\n",
    "    for eachNKW in nkw:\n",
    "        print('additional non-keyword arg:',eachNKW)\n",
    "    for eachKW in kw.keys():\n",
    "        print(\"additional keyword arg '%s':%s\"%(eachKW,kw[eachKW]))"
   ]
  },
  {
   "cell_type": "code",
   "execution_count": 5,
   "metadata": {},
   "outputs": [
    {
     "name": "stdout",
     "output_type": "stream",
     "text": [
      "arg1 is : wolf\n",
      "arg2 is : 3\n",
      "additional non-keyword arg: projects\n",
      "additional keyword arg 'freud':90\n",
      "additional keyword arg 'gample':96\n"
     ]
    }
   ],
   "source": [
    "newfoo('wolf',3,'projects',freud=90,gample=96)"
   ]
  },
  {
   "cell_type": "code",
   "execution_count": 6,
   "metadata": {},
   "outputs": [],
   "source": [
    "#EXAMPLE 4\n",
    "\n",
    "def adder(*num):\n",
    "    sum=0\n",
    "    for n in num:\n",
    "        sum=sum+n\n",
    "    print(\"sum :\",sum)\n",
    "    "
   ]
  },
  {
   "cell_type": "code",
   "execution_count": 7,
   "metadata": {},
   "outputs": [
    {
     "name": "stdout",
     "output_type": "stream",
     "text": [
      "sum : 8\n",
      "sum : 22\n",
      "sum : 17\n"
     ]
    }
   ],
   "source": [
    "adder(3,5)\n",
    "adder(4,5,6,7)\n",
    "adder(1,2,3,5,6)"
   ]
  },
  {
   "cell_type": "code",
   "execution_count": 9,
   "metadata": {},
   "outputs": [],
   "source": [
    "#EXAMPLE 5\n",
    "\n",
    "def intro(**data):\n",
    "    print(\"\\nData type of argument :\",type(data))\n",
    "    for key,value in data.items():\n",
    "        print(\"{} is {}\".format(key,value))\n",
    "        "
   ]
  },
  {
   "cell_type": "code",
   "execution_count": 10,
   "metadata": {},
   "outputs": [
    {
     "name": "stdout",
     "output_type": "stream",
     "text": [
      "\n",
      "Data type of argument : <class 'dict'>\n",
      "Firstname is Sita\n",
      "Lastname is Sharma\n",
      "Age is 22\n",
      "Phone is 1234567890\n",
      "\n",
      "Data type of argument : <class 'dict'>\n",
      "Firstname is John\n",
      "Lastname is wood\n",
      "Email is johnwood@nomail.com\n",
      "Country is India\n",
      "Age is 25\n",
      "Phone is 9876543210\n"
     ]
    }
   ],
   "source": [
    "intro(Firstname=\"Sita\",Lastname=\"Sharma\",Age=22,Phone=1234567890)\n",
    "intro(Firstname=\"John\",Lastname=\"wood\",Email=\"johnwood@nomail.com\",Country=\"India\",Age=25,Phone=9876543210)"
   ]
  },
  {
   "cell_type": "code",
   "execution_count": 12,
   "metadata": {},
   "outputs": [],
   "source": [
    "#EXAMPLE 6\n",
    "\n",
    "\n",
    "def newfoo(arg1,arg2,*nonKWtuple,**KWdict):\n",
    "    'display regular args and all variable args'\n",
    "    print('arg1 is:',arg1)\n",
    "    print('arg2 is:',arg2)\n",
    "    for eachnonKWtuple in nonKWtuple:\n",
    "        print('additional non keyword arg :',eachnonKWtuple)\n",
    "    for eachKWdict in  KWdict.keys():\n",
    "        print(\"additional keyword arg '%s':%s\"%(eachKWdict,KWdict[eachKWdict]) )\n",
    "        "
   ]
  },
  {
   "cell_type": "code",
   "execution_count": 13,
   "metadata": {},
   "outputs": [
    {
     "name": "stdout",
     "output_type": "stream",
     "text": [
      "arg1 is: 10\n",
      "arg2 is: 20\n",
      "additional non keyword arg : 30\n",
      "additional non keyword arg : 40\n",
      "additional keyword arg 'foo':50\n",
      "additional keyword arg 'bar':60\n"
     ]
    }
   ],
   "source": [
    "newfoo(10,20,30,40,foo=50,bar=60)"
   ]
  },
  {
   "cell_type": "code",
   "execution_count": 15,
   "metadata": {},
   "outputs": [
    {
     "name": "stdout",
     "output_type": "stream",
     "text": [
      "arg1 is: 2\n",
      "arg2 is: 4\n",
      "additional non keyword arg : 6\n",
      "additional non keyword arg : 8\n",
      "additional keyword arg 'foo':10\n",
      "additional keyword arg 'bar':12\n"
     ]
    }
   ],
   "source": [
    "newfoo(2,4,*(6,8),**{'foo':10,'bar':12})"
   ]
  },
  {
   "cell_type": "code",
   "execution_count": 16,
   "metadata": {},
   "outputs": [
    {
     "name": "stdout",
     "output_type": "stream",
     "text": [
      "arg1 is: 1\n",
      "arg2 is: 2\n",
      "additional non keyword arg : 3\n",
      "additional non keyword arg : 6\n",
      "additional non keyword arg : 7\n",
      "additional non keyword arg : 8\n",
      "additional keyword arg 'x':4\n",
      "additional keyword arg 'y':5\n",
      "additional keyword arg 'z':9\n"
     ]
    }
   ],
   "source": [
    "aTuple=(6,7,8)\n",
    "aDict={'z':9}\n",
    "newfoo(1,2,3,x=4,y=5,*aTuple,**aDict)"
   ]
  },
  {
   "cell_type": "code",
   "execution_count": null,
   "metadata": {},
   "outputs": [],
   "source": []
  }
 ],
 "metadata": {
  "kernelspec": {
   "display_name": "Python 3",
   "language": "python",
   "name": "python3"
  },
  "language_info": {
   "codemirror_mode": {
    "name": "ipython",
    "version": 3
   },
   "file_extension": ".py",
   "mimetype": "text/x-python",
   "name": "python",
   "nbconvert_exporter": "python",
   "pygments_lexer": "ipython3",
   "version": "3.8.5"
  }
 },
 "nbformat": 4,
 "nbformat_minor": 4
}
