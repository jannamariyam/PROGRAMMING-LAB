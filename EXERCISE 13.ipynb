{
 "cells": [
  {
   "cell_type": "code",
   "execution_count": 1,
   "metadata": {},
   "outputs": [
    {
     "name": "stdout",
     "output_type": "stream",
     "text": [
      "Ascending order is : [('alan', 4), ('benny', 20), ('chinju', 42), ('davis', 50), ('fida', 17), ('omar', 23)]\n",
      "Descending order is : [('omar', 23), ('fida', 17), ('davis', 50), ('chinju', 42), ('benny', 20), ('alan', 4)]\n",
      "The real order of dictionary is: [('alan', 4), ('benny', 20), ('chinju', 42), ('davis', 50), ('fida', 17), ('omar', 23)]\n"
     ]
    }
   ],
   "source": [
    "#SORT DICIONARY IN ASCENDING AND DESCENTING ORDER\n",
    "\n",
    "dict={'chinju':42,'alan':4,'benny':20,'fida':17,'omar':23,'davis':50} #recieving a dictionary\n",
    "l1=list(dict.items())                                                 #converting dictionary into list l1 using item() method\n",
    "l1.sort()                                                             #sorting the list\n",
    "print('Ascending order is :',l1)                                      #printing the sorted list(ascending order)\n",
    "l2=list(dict.items())                                                 #converting dictionary into list l2 using item() method\n",
    "l2.sort(reverse=True)                                                 #sort the list in the reverse order\n",
    "print('Descending order is :',l2)                                     #printing the reversed sorted list(descending) order\n",
    "print('The real order of dictionary is:',l1)                          #printing the real dictionary(ascending order)\n",
    "\n",
    "\n",
    "#OUTPUT\n",
    "\n",
    "#Ascending order is : [('alan', 4), ('benny', 20), ('chinju', 42), ('davis', 50), ('fida', 17), ('omar', 23)]\n",
    "#Descending order is : [('omar', 23), ('fida', 17), ('davis', 50), ('chinju', 42), ('benny', 20), ('alan', 4)]\n",
    "#The real order of dictionary is: [('alan', 4), ('benny', 20), ('chinju', 42), ('davis', 50), ('fida', 17), ('omar', 23)]\n",
    "\n"
   ]
  },
  {
   "cell_type": "code",
   "execution_count": 2,
   "metadata": {},
   "outputs": [
    {
     "name": "stdout",
     "output_type": "stream",
     "text": [
      "animals : {'tiger': 2, 'lion': 7, 'bear': 2, 'deer': 5, 'cat': 1, 'cow': 3, 'rabbit': 10}\n"
     ]
    }
   ],
   "source": [
    "#MERGE TWO DICTIONARIES\n",
    "\n",
    "animals={'tiger':2,'lion':7,'bear':2,'deer':5}  #recieving one dictionary\n",
    "pet_animals={'cat':1,'cow':3,'rabbit':10}       #recieving another dictionary\n",
    "animals.update(pet_animals)                     #adding two dictionaries using '.update'\n",
    "print(\"animals :\",animals)                      #printing the updated first dictionary\n",
    "\n",
    "#OUTPUT\n",
    "\n",
    "#animals : {'tiger': 2, 'lion': 7, 'bear': 2, 'deer': 5, 'cat': 1, 'cow': 3, 'rabbit': 10}"
   ]
  },
  {
   "cell_type": "code",
   "execution_count": 7,
   "metadata": {},
   "outputs": [
    {
     "name": "stdout",
     "output_type": "stream",
     "text": [
      "Enter number of integers :4\n",
      "enter integer 1 :908\n",
      "over\n",
      "enter integer 2 :56\n",
      "56\n",
      "enter integer 3 :89\n",
      "89\n",
      "enter integer 4 :345\n",
      "over\n",
      "given integer list is : ['over', 56, 89, 'over']\n"
     ]
    }
   ],
   "source": [
    "#PROMPT THE USER FOR A LIST OF INTEGERS.FOR ALL VALUES GREATER THAN 100 STORE 'OVER' INSTEADN\n",
    "\n",
    "nmbrOfIntegers=int(input('Enter number of integers :'))   #recieving number of integers inside the list\n",
    "nmbrList=list()                                           #creating an empty list\n",
    "i=0                                                       #introducing the initial condition for 'for' loop\n",
    "#applying for loop to check the condition and print appropriate statement\n",
    "for i in range(nmbrOfIntegers):\n",
    "    i=i+1                               #condition to continue for loop\n",
    "    nmbr=input(\"enter integer %d :\"%i)  #recieving integers \n",
    "    nmbr=int(nmbr)\n",
    "    #introducing inner if loop to chech whether nmbr is greater than 100 or not\n",
    "    if(nmbr>100):                       \n",
    "        print(\"over\")           #printing \"over\" when if condition is true\n",
    "        nmbrList.append(\"over\") #appending the result into list\n",
    "    #moving into else loop when if condition is false\n",
    "    else:\n",
    "        print(nmbr)             #printing the number \n",
    "        nmbrList.append(nmbr)   #appending the number into list\n",
    "print(\"given integer list is :\",nmbrList)    #printing the final list\n",
    "\n",
    "# OUTPUT\n",
    "# Enter number of integers :4\n",
    "# enter integer 1 :908\n",
    "# over\n",
    "# enter integer 2 :56\n",
    "# 56\n",
    "# enter integer 3 :89\n",
    "# 89\n",
    "# enter integer 4 :345\n",
    "# over\n",
    "# given integer list is : ['over', 56, 89, 'over']\n",
    "        \n",
    "    "
   ]
  },
  {
   "cell_type": "code",
   "execution_count": 16,
   "metadata": {
    "scrolled": true
   },
   "outputs": [
    {
     "name": "stdout",
     "output_type": "stream",
     "text": [
      "Enter the number of names inside your list :4\n",
      "Enter integer 1 :anu\n",
      "Enter integer 2 :sona\n",
      "Enter integer 3 :sankar\n",
      "Enter integer 4 :boban\n",
      "Name list is : ['anu', 'sona', 'sankar', 'boban']\n",
      "per char frequency in name list is : \n",
      " {'a': 5, 'n': 4, 'u': 1, 's': 2, 'o': 2, 'k': 1, 'r': 1, 'b': 2}\n",
      "number of 'a' in the given name list is : 5\n"
     ]
    }
   ],
   "source": [
    "#STORE A LIST OF FIRST NAMES.COUNT THE OCCURENCES OF A WITHIN THE LIST\n",
    "\n",
    "nmbrOfNames=int(input(\"Enter the number of names inside your list :\")) #recieving number of elements in  list\n",
    "nameList=list()                                                        #creating an empty list\n",
    "i=0                                                                    #introducing initial condition for 'for' loop\n",
    "for i in range(nmbrOfNames):                                           #applying for loop to recieving each elements of list\n",
    "    i=i+1                                                              #term to continue\n",
    "    name=input(\"Enter integer %d :\"%i)                                 #recieving the elements of list\n",
    "    nameList.append(name)                                              #appending the elments in list\n",
    "print(\"Name list is :\",nameList)                                       #printing the list\n",
    "chrctrList=[i for ele in nameList for i in ele]    #creating a charecter list of each elements in list using list comprehension\n",
    "frequencies={}                                     #creating an empty dictionary\n",
    "\n",
    "#introducing for loop to count each charecters\n",
    "#initialy the charecter list is empty,hence count the first nmbr as 1(it is in chrctrList and not in frequencies)\n",
    "#if the same charecter repeats inner if loop will be true ,hence count that charecter ,add its count by one\n",
    "#continuing this loop for each charecters in chrctrList and store in frequencies dictionary\n",
    "for char in chrctrList:                            \n",
    "    if char in frequencies:                        \n",
    "        frequencies[char]=frequencies[char]+1\n",
    "    else:\n",
    "        frequencies[char]=1\n",
    "print(\"per char frequency in name list is : \\n {}\".format(frequencies)) #printing per char frequency dictionary as output\n",
    "dict=frequencies['a']                                                   #recieving the dictionary of 'a'\n",
    "print(\"number of 'a' in the given name list is :\",dict)                 #print the number of a's\n",
    "\n",
    "#OUTPUT\n",
    "\n",
    "# Enter the number of names inside your list :4\n",
    "# Enter integer 1 :anu\n",
    "# Enter integer 2 :sona\n",
    "# Enter integer 3 :sankar\n",
    "# Enter integer 4 :boban\n",
    "# Name list is : ['anu', 'sona', 'sankar', 'boban']\n",
    "# per char frequency in name list is : \n",
    "#  {'a': 5, 'n': 4, 'u': 1, 's': 2, 'o': 2, 'k': 1, 'r': 1, 'b': 2}\n",
    "# number of 'a' in the given name list is : 5\n"
   ]
  },
  {
   "cell_type": "code",
   "execution_count": 34,
   "metadata": {
    "scrolled": true
   },
   "outputs": [
    {
     "name": "stdout",
     "output_type": "stream",
     "text": [
      "enter the number of integers in list 1 :3\n",
      "enter integer number 1 :1\n",
      "enter integer number 2 :2\n",
      "enter integer number 3 :3\n",
      "given number list 1 is : [1, 2, 3]\n",
      "enter the number of integers in list 2 :4\n",
      "enter name 1:2\n",
      "enter name 2:3\n",
      "enter name 3:6\n",
      "enter name 4:7\n",
      "given number list 2 is : [2, 3, 6, 7]\n",
      "a) the given lists are of different length\n",
      "sum of elements in list 1 : 6\n",
      "sum of elements in list 2 : 18\n",
      "b) two lists sums to different value\n",
      "c) common elements in both list : {2, 3}\n",
      " number of common elements is : 2\n"
     ]
    }
   ],
   "source": [
    "#ENTER 2 LIST OF INTEGERS ,CHECK\n",
    "#(a) whether list are of same length\n",
    "#(b) whether list sums to same value\n",
    "#(c) whether any value occur in both\n",
    "\n",
    "nmbrOf1=int(input(\"enter the number of integers in list 1 :\")) #recieving number of elements in list1\n",
    "intgrList1=list()                                              #creating an empty list\n",
    "i=0                                                            #introducing initial condition for 'for' loop\n",
    "#applying for loop to recieve each elements of list1\n",
    "for i in range(nmbrOf1):\n",
    "    i=i+1                                               #term to continue for loop\n",
    "    number1=int(input(\"enter integer number %d :\"%i))   #recieving the elements of list 1\n",
    "    intgrList1.append(number1)                          #appending the elements in list 1\n",
    "print (\"given number list 1 is :\",intgrList1)           #printing the first list\n",
    "nmbrOf2=int(input(\"enter the number of integers in list 2 :\"))#recieving number of elementsin list 2\n",
    "intgrList2=list()                                             #creating an empty list \n",
    "i=0                                                           #introducing initial condition fo 'for' loop\n",
    "#applying for loop to recieve each elements of list2\n",
    "for i in range(nmbrOf2):                   \n",
    "    i=i+1                                    #term to continue for loop\n",
    "    number2=int(input(\"enter name %d:\"%i))   #recieving the elements of list 2\n",
    "    intgrList2.append(number2)               #appending the elements of list 2\n",
    "print(\"given number list 2 is :\",intgrList2) #printing the second list\n",
    "\n",
    "s1=set(intgrList1)     #converting the first list to set 1\n",
    "s2=set(intgrList2)     #converting the second list to set 2\n",
    "#using if loop check the length of 2 sets and compare them\n",
    "if len(s1)==len(s2):   \n",
    "    print(\"a) the two given lists are of same length\")    #printing corresponding statement when if condition is true\n",
    "else:\n",
    "    print(\"a) the given lists are of different length\")   #printing correspoding statement of else loop\n",
    "    \n",
    "    \n",
    "sumOfList1=sum(intgrList1)                           #store the sum of list 1\n",
    "sumOfList2=sum(intgrList2)                           #store the sum of list 2\n",
    "print(\"sum of elements in list 1 :\",sumOfList1)      #print sum of list 1\n",
    "print(\"sum of elements in list 2 :\",sumOfList2)      #print sumof list 2\n",
    "#using if loop compare the sums and print appropriate statements as per the conditions in question\n",
    "if sumOfList1==sumOfList2:    \n",
    "    print(\"b) two lists sums to same value\")\n",
    "else:\n",
    "    print(\"b) two lists sums to different value\")\n",
    "    \n",
    "i1=s1&s2      #store the intersection of both sets\n",
    "#applying if loop to check the presence of common terms and to print corresponding statements\n",
    "if i1==set():\n",
    "    print(\"c) no common elements present\")\n",
    "else:\n",
    "    print(\"c) common elements in both list :\",i1)\n",
    "\n",
    "    \n",
    "#counting number of elements in the set of common elements        \n",
    "count=0\n",
    "for num in i1:\n",
    "    if num in i1:\n",
    "        count=count+1\n",
    "print(\" number of common elements is :\",count)   #printing the number of elements in common elements set\n",
    "\n",
    "# OUTPUT\n",
    "\n",
    "# enter the number of integers in list 1 :3\n",
    "# enter integer number 1 :1\n",
    "# enter integer number 2 :2\n",
    "# enter integer number 3 :3\n",
    "# given number list 1 is : [1, 2, 3]\n",
    "# enter the number of integers in list 2 :4\n",
    "# enter name 1:2\n",
    "# enter name 2:3\n",
    "# enter name 3:6\n",
    "# enter name 4:7\n",
    "# given number list 2 is : [2, 3, 6, 7]\n",
    "# a) the given lists are of different length\n",
    "# sum of elements in list 1 : 6\n",
    "# sum of elements in list 2 : 18\n",
    "# b) two lists sums to different value\n",
    "# c) common elements in both list : {2, 3}\n",
    "# number of common elements is : 2\n",
    "    \n"
   ]
  },
  {
   "cell_type": "markdown",
   "metadata": {},
   "source": []
  },
  {
   "cell_type": "code",
   "execution_count": 40,
   "metadata": {},
   "outputs": [
    {
     "name": "stdout",
     "output_type": "stream",
     "text": [
      "number of colors in list 1 :3\n",
      "enter color 1 :red\n",
      "enter color 2 :green\n",
      "enter color 3 :black\n",
      "first color list is : ['red', 'green', 'black']\n",
      "number of colors in list2 :4\n",
      "enter color 1 :blue\n",
      "enter color 2 :green\n",
      "enter color 3 :pink\n",
      "enter color 4 :violet\n",
      "second color list is : ['blue', 'green', 'pink', 'violet']\n",
      "The colors in first color list and not in second color list are :  {'red', 'black'}\n"
     ]
    }
   ],
   "source": [
    "#PRINT OUT ALL COLORS FROM COLOR-LIST1 NOT CONTAINEDIN COLOR-LIST2\n",
    "count1=int(input(\"number of colors in list 1 :\"))   #recieving number of elements in list1\n",
    "colorList1=list()                                   #creating an empty list\n",
    "i=0                                                 #introducing initial condition for 'for' loop\n",
    "#applying for loop to recieve elements of list 1\n",
    "for i in range(count1):\n",
    "    i=i+1                                   #term to continue for loop\n",
    "    color1=input(\"enter color %d :\"%i)      #recieving elements of list 1\n",
    "    colorList1.append(color1)               #appending elements of list 1\n",
    "print(\"first color list is :\",colorList1)   #printing first list\n",
    "count2=int(input(\"number of colors in list2 :\"))  #recieving elements of list 2\n",
    "colorList2=list()                                 #creating an empty list\n",
    "i=0                                               #introducing initial condition fo 'for' loop\n",
    "#applying for loop to recieve elements of list 2\n",
    "for i in range(count2):\n",
    "    i=i+1                                  #term to continue for loop\n",
    "    color2=input(\"enter color %d :\"%i)     #recieving elements of list 2\n",
    "    colorList2.append(color2)              #appending elements of list 2\n",
    "print(\"second color list is :\",colorList2) #printing second list\n",
    "\n",
    "s1=set(colorList1)       #store the list 1 in a set s1\n",
    "s2=set(colorList2)       #store the list 2 in a set s2\n",
    "c=s1-s2                  #storing the value of a-b\n",
    "print(\"The colors in first color list and not in second color list are : \",c)  #printing a-b\n",
    "\n",
    "#OUTPUT\n",
    "\n",
    "# number of colors in list 1 :3\n",
    "# enter color 1 :red\n",
    "# enter color 2 :green\n",
    "# enter color 3 :black\n",
    "# first color list is : ['red', 'green', 'black']\n",
    "# number of colors in list2 :4\n",
    "# enter color 1 :blue\n",
    "# enter color 2 :green\n",
    "# enter color 3 :pink\n",
    "# enter color 4 :violet\n",
    "# second color list is : ['blue', 'green', 'pink', 'violet']\n",
    "# The colors in first color list and not in second color list are :  {'red', 'black'}\n",
    "\n",
    "    "
   ]
  },
  {
   "cell_type": "code",
   "execution_count": null,
   "metadata": {},
   "outputs": [],
   "source": []
  }
 ],
 "metadata": {
  "kernelspec": {
   "display_name": "Python 3",
   "language": "python",
   "name": "python3"
  },
  "language_info": {
   "codemirror_mode": {
    "name": "ipython",
    "version": 3
   },
   "file_extension": ".py",
   "mimetype": "text/x-python",
   "name": "python",
   "nbconvert_exporter": "python",
   "pygments_lexer": "ipython3",
   "version": "3.8.5"
  }
 },
 "nbformat": 4,
 "nbformat_minor": 4
}
