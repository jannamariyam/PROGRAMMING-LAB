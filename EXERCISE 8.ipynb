{
 "cells": [
  {
   "cell_type": "code",
   "execution_count": 1,
   "metadata": {},
   "outputs": [
    {
     "name": "stdout",
     "output_type": "stream",
     "text": [
      "Enter the age of first person :3\n",
      "Enter the age of second person :34\n",
      "Enter the age of third person :56\n",
      "Third person is oldest\n",
      "first person is youngest\n"
     ]
    }
   ],
   "source": [
    "#TAKE INPUT OF AGE OF 3 PEOPLE BY USER AND DETERMINE OLDEST AND YOUNGEST AMONG THEM\n",
    "\n",
    "#take ages\n",
    "\n",
    "a1=input(\"Enter the age of first person :\")\n",
    "a2=input(\"Enter the age of second person :\")                      \n",
    "a3=input(\"Enter the age of third person :\")\n",
    "\n",
    "#checking oldest using if_elif condition\n",
    "\n",
    "if a1>a2 and a1>a3:\n",
    "    print(\"first person is oldest\")\n",
    "elif a2>a1 and a2>a3:\n",
    "    print(\"second person is oldest\")                 #by checking ,printing corresponding statement\n",
    "else:\n",
    "    print(\"Third person is oldest\")\n",
    "    \n",
    "#checking youngest using if-elif condition\n",
    "\n",
    "if a1<a2 and a1<a3:\n",
    "    print(\"first person is youngest\")\n",
    "elif a2<a1 and a2<a3:\n",
    "    print(\"second person is youngest\")              #by checking,printing corresponding statement\n",
    "else:\n",
    "    print(\"third person is youngest\")\n",
    "         \n",
    "    \n",
    "    \n",
    "\n"
   ]
  },
  {
   "cell_type": "code",
   "execution_count": 4,
   "metadata": {},
   "outputs": [
    {
     "name": "stdout",
     "output_type": "stream",
     "text": [
      "Enter your mark45\n",
      "Grade = D\n"
     ]
    }
   ],
   "source": [
    "#A SCHOOL HAS FOLLOWING RULES FOR GRADING SYSTEM:\n",
    "#a.below 25 -F,b.25-45=E,45-50=D,50-60=C,60-80=B,above 80=A\n",
    "#ASK THE USER TO ENTER MARKS AND PRINT THE CORRESPONDING GRADE\n",
    "\n",
    "mark=float(input(\"Enter your mark\"))            #applying condition for recieving input\n",
    "\n",
    "#checking the input using if- elif loop and print appropriate statement\n",
    "if mark<25:\n",
    "    print(\"Grade = F\")\n",
    "elif mark>=25 and mark<45:\n",
    "    print(\"Grade = E\")\n",
    "elif mark>=45 and mark<50:\n",
    "    print(\"Grade = D\")\n",
    "elif mark>=50 and mark<60:\n",
    "    print(\"Grade = C\")\n",
    "elif mark>=60 and mark<80:\n",
    "    print(\"Grade = B\")\n",
    "else:\n",
    "    print(\"Grade = A\")\n",
    "\n",
    "    "
   ]
  },
  {
   "cell_type": "code",
   "execution_count": 9,
   "metadata": {},
   "outputs": [
    {
     "name": "stdout",
     "output_type": "stream",
     "text": [
      "Enter the number of items you needed :11\n",
      "cost : 1100\n",
      "discount amount is : 110.0\n",
      "total cost : 990.0\n"
     ]
    }
   ],
   "source": [
    "#A SHOP WILL GIVE DISCOUNT OF 10% IF THE COST OF PURCHASED QUANTITY IS MORE THAN 1000.\n",
    "#ASK USER FOR QUANDITY SUPPOSE,ONE UNTIL WILL COST 100.JUDGE AND PRINT TOTAL COST FOR USER\n",
    "\n",
    "no_of_items=int(input(\"Enter the number of items you needed :\"))   #applying condition for recieving input\n",
    "\n",
    "cost=no_of_items*100                                               #introducing equation for calculating cost\n",
    "\n",
    "print(\"cost :\",cost)                                               #printing the cost\n",
    "\n",
    "#inserting the cost in if-else loop to check the chance of discount\n",
    "\n",
    "if cost>1000:\n",
    "    discount=cost*(10/100)                        #introducing equation to calculate discount\n",
    "    print(\"discount amount is :\",discount)         \n",
    "    total=cost-discount\n",
    "    print(\"total cost :\",total)                   #printing appropriate statement for if condition\n",
    "else:\n",
    "    print(\"You have no discount\")                 #printing appropriate statement for else condition\n",
    "    print(\"total cost :\",cost)                    "
   ]
  },
  {
   "cell_type": "code",
   "execution_count": 1,
   "metadata": {},
   "outputs": [
    {
     "name": "stdout",
     "output_type": "stream",
     "text": [
      "How many years have you been working for this company :6\n",
      "Enter your salary:100000\n",
      "your bonus amount is : 5000.0\n",
      "your net salary amount is : 105000.0\n"
     ]
    }
   ],
   "source": [
    "#A COMPANY DECIDED TO GIVE A BONUS OF 5% TO EMPLOYEE IF HIS/HER YEAR OF SERVICE IS MORE THAN 5 YEARS.\n",
    "#ASK USER FOR THEIR SALARY ,YEAR OF SERVICE AND PRINT THE BONUS AMOUNT\n",
    "\n",
    "#applying condition for recieving input\n",
    "\n",
    "service=float(input(\"How many years have you been working for this company :\")) \n",
    "salary=float(input(\"Enter your salary:\"))\n",
    "\n",
    "#introducing the input service value in if-else loop to chack the chance for recieving bonus\n",
    "\n",
    "if service>5:\n",
    "    bonus=salary*(5/100)\n",
    "    print(\"your bonus amount is :\",bonus)\n",
    "    net_salary=salary+bonus\n",
    "    print(\"your net salary amount is :\",net_salary)         #printing approppriate statement for if condition\n",
    "    \n",
    "else:                                                       #move to else condition when if condition is false\n",
    "    print(\"you do not have any bonus\") \n",
    "    print(\"your salary amount is :\",salary)                 #printing appropriate statement for else condition\n",
    "         \n",
    "    "
   ]
  },
  {
   "cell_type": "code",
   "execution_count": 6,
   "metadata": {},
   "outputs": [
    {
     "name": "stdout",
     "output_type": "stream",
     "text": [
      "List of months= January,February,March,April,May,June,Julu,August,September,October,November,December\n",
      "Enter the name of a month:January\n",
      "number of days: 31 days\n"
     ]
    }
   ],
   "source": [
    "#PYTHON PROGRAM TO CONVERT MONTH NAME TO NUMBER OF DAYS\n",
    "\n",
    "#printing the list\n",
    "\n",
    "print(\"List of months= January,February,March,April,May,June,Julu,August,September,October,November,December\") \n",
    "\n",
    "month_name=input(\"Enter the name of a month:\")   #applying the condition for entering the input\n",
    "\n",
    "\n",
    "#applying the given input into if-elif condition to check the number of days\n",
    "#check conditions and print appropriate statements\n",
    "\n",
    "if month_name==\"February\":\n",
    "    print(\"number of days : 26 or 29 days\")\n",
    "elif month_name in (\"January\",\"March\",\"May\",\"July\",\"August\",\"October\",\"December\"):\n",
    "    print(\"number of days: 31 days\")\n",
    "elif month_name in (\"April\",\"June\",\"September\",\"November\",):\n",
    "    print(\"number of days : 30 days\")\n",
    "else:\n",
    "    print(\"wrong month name\")\n",
    "    \n"
   ]
  },
  {
   "cell_type": "code",
   "execution_count": 16,
   "metadata": {},
   "outputs": [
    {
     "name": "stdout",
     "output_type": "stream",
     "text": [
      "Enter the length of side a :7\n",
      "Enter the length of side b :8\n",
      "Enter the length of side c :3\n",
      "The given triangle with sides a=7.0,b=8.0 and c=3.0 is an scalene triangle\n"
     ]
    }
   ],
   "source": [
    "#PYTHON PROGRAM TO CHECK A TRIANGLE IS EQUILATERAL,ISOSCELESOR SCALENE\n",
    "#NOTE:an equilateral triangle is a triangle in which all 3 sides are equal\n",
    "#a scalene triangle is a triangle that has 3 unequal sides\n",
    "#an isosceles triangle is a triangle with (at least) two equal \n",
    "\n",
    "#applying the conditions for recieving input\n",
    "\n",
    "s1=float(input(\"Enter the length of side a :\"))\n",
    "s2=float(input(\"Enter the length of side b :\"))\n",
    "s3=float(input(\"Enter the length of side c :\"))\n",
    " \n",
    "#inserting the recieved input values in if-elif loop two check the charecter of triangle\n",
    "#by checking the charecters printing the appropriate statements\n",
    "if s1==s2==s3:\n",
    "    print(\"The given triangle with sides a=%0.1f,b=%0.1f and c=%0.1f is an equilteral triangle\"%(s1,s1,s1))\n",
    "elif s1==s2 or s1==s3 or s2==s3:\n",
    "    print(\"The given triangle with sides a=%0.1f,b=%0.1f and c=%0.1f is an isosceles triangle\"%(s1,s2,s3))\n",
    "else:\n",
    "    print(\"The given triangle with sides a=%0.1f,b=%0.1f and c=%0.1f is an scalene triangle\"%(s1,s2,s3))\n"
   ]
  },
  {
   "cell_type": "markdown",
   "metadata": {},
   "source": []
  },
  {
   "cell_type": "markdown",
   "metadata": {},
   "source": [
    "\n"
   ]
  },
  {
   "cell_type": "code",
   "execution_count": 2,
   "metadata": {},
   "outputs": [
    {
     "name": "stdout",
     "output_type": "stream",
     "text": [
      "Enter the first value :3\n",
      "Enter the second value :2\n",
      "Enter the third value :9\n",
      "The median is : 3.0\n"
     ]
    }
   ],
   "source": [
    "#PYTHON PROGRAM TO FIND MEDIAN OF THREE VALUES\n",
    "\n",
    "#applying the conditions for recieving input\n",
    "\n",
    "a=float(input(\"Enter the first value :\"))\n",
    "b=float(input(\"Enter the second value :\"))\n",
    "c=float(input(\"Enter the third value :\"))\n",
    "\n",
    "#inserting the recieved input in if-else loop\n",
    "\n",
    "if a>b:\n",
    "    if a<c:           #insering input into new if-elif loop when if condition is true\n",
    "        median=       #and find correspding median\n",
    "    elif b>c:\n",
    "        median=b\n",
    "    else:\n",
    "        median=c\n",
    "else:         #input values moving into else condition andinserting input into new if-elif loop when first if condition is false\n",
    "    if a>c:       #find corresponding median\n",
    "        median=a\n",
    "    elif b<c:\n",
    "        median=b\n",
    "    else:\n",
    "        median=c\n",
    "print(\"The median is :\",median)           #printing the output"
   ]
  },
  {
   "cell_type": "code",
   "execution_count": null,
   "metadata": {},
   "outputs": [],
   "source": []
  }
 ],
 "metadata": {
  "kernelspec": {
   "display_name": "Python 3",
   "language": "python",
   "name": "python3"
  },
  "language_info": {
   "codemirror_mode": {
    "name": "ipython",
    "version": 3
   },
   "file_extension": ".py",
   "mimetype": "text/x-python",
   "name": "python",
   "nbconvert_exporter": "python",
   "pygments_lexer": "ipython3",
   "version": "3.8.5"
  }
 },
 "nbformat": 4,
 "nbformat_minor": 4
}
