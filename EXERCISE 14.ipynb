{
 "cells": [
  {
   "cell_type": "code",
   "execution_count": 11,
   "metadata": {},
   "outputs": [
    {
     "name": "stdout",
     "output_type": "stream",
     "text": [
      "enter the number of elements in list :5\n",
      "enter number 1 :4\n",
      "enter number 2 :6\n",
      "enter number 3 :1\n",
      "enter number 4 :2\n",
      "enter number 5 :5\n",
      "number list is : [4, 6, 1, 2, 5]\n",
      "sum of elements inside the list is : 18\n"
     ]
    }
   ],
   "source": [
    "#WRITE A PYTHON FUNCTION TO SUM ALL THE NUMBERS IN A LIST\n",
    "\n",
    "noOfEle=int(input(\"enter the number of elements in list :\"))  #recieving number of elements in list\n",
    "nmbrList=list()                                               #creating an empty list\n",
    "i=0                                                           #introducing initial condition for 'for' loop\n",
    "\n",
    "#applying for loop to recieve elements of list(to iterate i over noOfEle input number)\n",
    "for i in range(noOfEle):\n",
    "    i=i+1                                    #term to continue for loop\n",
    "    number=int(input(\"enter number %d :\"%i)) #recieving elements of list\n",
    "    nmbrList.append(number)                  #appending the elements in empty list\n",
    "print(\"number list is :\",nmbrList)           #printing the list\n",
    "\n",
    "#defining a function sumof(nmbrList)\n",
    "def sumof(nmbrList):                        \n",
    "    total=0             #initial condition for 'for' loop\n",
    "    for x in nmbrList:  #applying for loop to sum each elements of list\n",
    "        total=total+x   #term to continue for loop\n",
    "    return total        #return sum value\n",
    "print(\"sum of elements inside the list is :\",sumof(nmbrList)) #print the output corresponding to the applied function\n",
    "\n",
    "\n",
    "# OUTPUT\n",
    "\n",
    "# enter the number of elements in list :5\n",
    "# enter number 1 :4\n",
    "# enter number 2 :6\n",
    "# enter number 3 :1\n",
    "# enter number 4 :2\n",
    "# enter number 5 :5\n",
    "# number list is : [4, 6, 1, 2, 5]\n",
    "# sum of elements inside the list is : 18\n"
   ]
  },
  {
   "cell_type": "markdown",
   "metadata": {},
   "source": []
  },
  {
   "cell_type": "code",
   "execution_count": 12,
   "metadata": {},
   "outputs": [
    {
     "name": "stdout",
     "output_type": "stream",
     "text": [
      "enter a non negative integer :9\n",
      "factorial of the given number 9 is : 362880\n"
     ]
    }
   ],
   "source": [
    "#WRITE A PYTHON FUNCTION TO CALCULATE THE FACTORIAL OF A NUMBER (A NON-NEGATIVE INTEGER).\n",
    "#THE FUNCTION ACCEPTS NUMBER AS AN ARGUMENT\n",
    "\n",
    "n=int(input(\"enter a non negative integer :\"))   #recieving non negative integer as input\n",
    "\n",
    "def factorial(n):                                #defining function factorial(n)\n",
    "    #applying if loop to calculate factorial\n",
    "    if n==0:                #when if condition is true , store 1\n",
    "        return 1\n",
    "    else:                   #when if condition is false,move to else condition\n",
    "        f=n*factorial(n-1)  #introducing equation to find factorial\n",
    "        return f            #return factorial\n",
    "    \n",
    "#print output (here use curly place holders and .format())\n",
    "print(\"factorial of the given number {} is : {}\".format(n,factorial(n)))\n",
    "\n",
    "#OUTPUT\n",
    "\n",
    "# enter a non negative integer :9\n",
    "# factorial of the given number 9 is : 362880"
   ]
  },
  {
   "cell_type": "code",
   "execution_count": 12,
   "metadata": {},
   "outputs": [
    {
     "name": "stdout",
     "output_type": "stream",
     "text": [
      "enter a string :ERas12\n",
      "number of lower case letters : 2\n",
      "number of upper case letters : 2\n"
     ]
    }
   ],
   "source": [
    "#WRITE A PYTHON FUNCTION THAT ACCEPTS A STRING AND CALCULATE THE NUMBER OF UPPER CASE LETTERS AND LOWER CASE LETTERS\n",
    "\n",
    "\n",
    "def string(s):                #defining a function string(s)\n",
    "    count1=0                  #initial condition for 'for' loop to count upper case letters\n",
    "    count2=0                  #initial condition for 'for' loop to count lower case letters\n",
    "    \n",
    "    #applying for loop to iterate char over string s \n",
    "    for char in s:\n",
    "        #applying inner if-elif loop to check the condition of letters \n",
    "        if(char.isupper()):   #checking the letter using .isupper() inside an inner if loop\n",
    "            count1=count1+1   #term to continue counting of uppercase letters\n",
    "        elif(char.islower()): #checking the letter using .islower() inside an inner elif loop\n",
    "            count2=count2+1   #term to continue counting of lowercase letters\n",
    "        else:                 #when if-elif conditions are false,move to else loop\n",
    "            pass              #pass the counting|no counting occures \n",
    "        \n",
    "        \n",
    "    print(\"number of lower case letters :\",count1)    #printing number of lower case letters as output\n",
    "    print(\"number of upper case letters :\",count2)    #printing number of upper case letters as output\n",
    "a=input(\"enter a string :\")     #recieving input string\n",
    "string(a)                       #printing the input string\n",
    "\n",
    "\n",
    "\n",
    "\n",
    "#OUTPUT\n",
    "\n",
    "# enter a string :ERas12\n",
    "# number of lower case letters : 2\n",
    "# number of upper case letters : 2"
   ]
  },
  {
   "cell_type": "code",
   "execution_count": 16,
   "metadata": {},
   "outputs": [
    {
     "name": "stdout",
     "output_type": "stream",
     "text": [
      "enter a number :8\n",
      "8 is not a prime number\n"
     ]
    }
   ],
   "source": [
    "#WRITE A PYTHON FUNCTION THAT TAKES A NUMBER AS A PARAMETER AND CHECK THE NUMBER IS PRIME OR NOT\n",
    "\n",
    "def condition(n):                               #defining a function\n",
    "    if n>1:                                     #introducing  if loop to check whether number is greater than one or not\n",
    "        for i in range(2,n):                    #applying for loop to iterate i over the range 2 to n\n",
    "            if n%i==0:                          #introducing  inner  if loop to check whether the number is prime or not\n",
    "                return(\"%d is not a prime number\"%n) # return the output corresponding to inner if loop when it is true\n",
    "            else:                                    # moving to inner most else loop when inner  if condition is false\n",
    "                return(\"%d is a prime number\"%n)     #return the output corresponding to inner else loop\n",
    "    else:                                            #when if loop is false moving to else condition\n",
    "        return(\"%d is a prime number\"%n)             #return the output corresponding to else loop\n",
    "a=int(input(\"enter a number :\"))                 #recieving input number\n",
    "print(condition(a))                              #printing the output corresponding to defined function\n",
    "\n",
    "        \n",
    "# OUTPUT\n",
    "\n",
    "# enter a number :8\n",
    "# 8 is not a prime number"
   ]
  },
  {
   "cell_type": "code",
   "execution_count": 18,
   "metadata": {},
   "outputs": [
    {
     "name": "stdout",
     "output_type": "stream",
     "text": [
      "enter a year 1 :1692\n",
      "enter another year (year coming after year 1) :1752\n",
      "leap years are :\n",
      "1692\n",
      "1696\n",
      "1704\n",
      "1708\n",
      "1712\n",
      "1716\n",
      "1720\n",
      "1724\n",
      "1728\n",
      "1732\n",
      "1736\n",
      "1740\n",
      "1744\n",
      "1748\n",
      "1752\n",
      "number of leap years between 1692 and 1752 is : 15\n"
     ]
    }
   ],
   "source": [
    "#DISPLAY FUTURE LEAP YEARS FROM CURRENT YEAR TO A FINAL YEAR ENTERED BY USER\n",
    "\n",
    "strt=int(input(\"enter a year 1 :\"))                              #recieving the year from which the counting will be start\n",
    "end=int(input(\"enter another year (year coming after year 1) :\"))#recieving the year upto which counting continue\n",
    "print(\"leap years are :\")                                        #printing the output statement\n",
    "\n",
    "def leap_year(strt):                              #defining a function loop_year(strt)\n",
    "        y=strt                                    #introducing initial condition for 'for' loop\n",
    "        count=0                                   #introducing initial condition for counting\n",
    "        for y in range(strt,end+1):               #applying for loop to iterate y over range(strt,end+1) \n",
    "            if y%4==0 and (y%100!=0 or y%400==0): #introducing if loop to check whether the year is leap year or not\n",
    "                print(y)                          #print the year when if condition is true\n",
    "                y=y+1                             #term to continue reading year in if loop\n",
    "                count=count+1                     #term to continue counting \n",
    "        print(\"number of leap years between %d and %d is : %d\"%(strt,end,count)) #printing number of leap years\n",
    "leap_year(strt)                                   #printing output corresponding to defined function\n",
    "\n",
    "\n",
    "# OUTPUT\n",
    "\n",
    "# enter a year 1 :1692\n",
    "# enter another year (year coming after year 1) :1752\n",
    "# leap years are :\n",
    "# 1692\n",
    "# 1696\n",
    "# 1704\n",
    "# 1708\n",
    "# 1712\n",
    "# 1716\n",
    "# 1720\n",
    "# 1724\n",
    "# 1728\n",
    "# 1732\n",
    "# 1736\n",
    "# 1740\n",
    "# 1744\n",
    "# 1748\n",
    "# 1752\n",
    "# number of leap years between 1692 and 1752 is : 15\n",
    "\n"
   ]
  },
  {
   "cell_type": "code",
   "execution_count": 3,
   "metadata": {},
   "outputs": [
    {
     "name": "stdout",
     "output_type": "stream",
     "text": [
      "enter how many elements are present in your list :3\n",
      "enter number 1 :1\n",
      "enter number 2 :2\n",
      "enter number 3 :3\n",
      "integer list is : [1, 2, 3]\n",
      "odd integer list is : [1, 3]\n"
     ]
    }
   ],
   "source": [
    "#FROM LIST OF INTEGERS,CREATE A LIST REMOVING EVEN NUMBERS\n",
    "\n",
    "num=int(input(\"enter how many elements are present in your list :\")) #recieving number of elements inside list\n",
    "nmbrlist=list()                                                      #creating an empty integer list\n",
    "oddnumlist= list()                                                   #creating an odd integer list\n",
    "i=0                                                                  #introducing initial condition for first for loop\n",
    "for i in range(num):                                                #applying for loop to iterate i over range (num)\n",
    "    number=int(input(\"enter number %d :\"%(i+1)))                         #recieving the elements of list\n",
    "    nmbrlist.append(number)                                          #appending the recieved number in integer list\n",
    "print(\"integer list is :\",nmbrlist)                                  #printing integer list\n",
    "\n",
    "def odd(x):                                                          #defining a function odd(x)\n",
    "        \n",
    "    if x%2 != 0:                                                 #introducing if loop to check whether the number is even or odd\n",
    "        return x                                                 #return the corresponding statement for if loop\n",
    "    else:                                                        #moving into else loop when if loop is false\n",
    "        return                                                   #return null value as none\n",
    "    \n",
    "for x in nmbrlist:                                       #introducing for loop to iterating x over nmbrlist \n",
    "    y=odd(x)                                             #store output corresponding to defined function in y\n",
    "    if y != None:             #introduce if loop to check y is a number or none,when y not equal to none if condition is true \n",
    "        oddnumlist.append(y)  #appending the y value in odd number list\n",
    "print(\"odd integer list is :\",oddnumlist)   #printing the odd number list\n",
    "\n",
    "\n",
    "#OUTPUT\n",
    "\n",
    "\n",
    "# enter how many elements are present in your list :3\n",
    "# enter number 1 :1\n",
    "# enter number 2 :2\n",
    "# enter number 3 :3\n",
    "# integer list is : [1, 2, 3]\n",
    "# odd integer list is : [1, 3]"
   ]
  },
  {
   "cell_type": "markdown",
   "metadata": {},
   "source": [
    "\n",
    "#### "
   ]
  },
  {
   "cell_type": "code",
   "execution_count": null,
   "metadata": {},
   "outputs": [],
   "source": []
  }
 ],
 "metadata": {
  "kernelspec": {
   "display_name": "Python 3",
   "language": "python",
   "name": "python3"
  },
  "language_info": {
   "codemirror_mode": {
    "name": "ipython",
    "version": 3
   },
   "file_extension": ".py",
   "mimetype": "text/x-python",
   "name": "python",
   "nbconvert_exporter": "python",
   "pygments_lexer": "ipython3",
   "version": "3.8.5"
  }
 },
 "nbformat": 4,
 "nbformat_minor": 4
}
