{
 "cells": [
  {
   "cell_type": "code",
   "execution_count": 4,
   "metadata": {},
   "outputs": [
    {
     "name": "stdout",
     "output_type": "stream",
     "text": [
      "Enter the first number :7\n",
      "Enter the second number :4\n",
      "The greatest number is 7.0\n"
     ]
    }
   ],
   "source": [
    "#PROGRAM TO TAKE TWO INTEGER VALUES FROM USER AND PRINT GRAETEST AMOUNG THEM\n",
    "\n",
    "n1=float(input(\"Enter the first number :\"))      #applying condition for receiving input values\n",
    "\n",
    "n2=float(input(\"Enter the second number :\"))\n",
    "if n1>n2:                                        #insert the numbers in if-elif condition to check the greatest number \n",
    "    greatest=n1 \n",
    "elif n2>n1:\n",
    "    greatest=n2\n",
    "else:\n",
    "    greatest=n1=n2 \n",
    "print(\"The greatest number is\",greatest)        #printing the output      "
   ]
  },
  {
   "cell_type": "code",
   "execution_count": 12,
   "metadata": {},
   "outputs": [
    {
     "name": "stdout",
     "output_type": "stream",
     "text": [
      "Enter a number :-9\n",
      "The given number -9.0 is negative\n"
     ]
    }
   ],
   "source": [
    "#PROGRAM TO INPUT A NUMBER AND CHECK IF THE NUMBER IS POSITIVE OR NEGATIVE OR ZERO AND DISPLAY AN APPROPRIATE MESSAGE\n",
    "\n",
    "num=float(input(\"Enter a number :\"))                 #applying condition for entering input\n",
    "\n",
    "if num>0:                                            #inserting input number into if-elif conditions\n",
    "                                                    #to check whether it is +ve or -ve or 0 and print the appropriate statements\n",
    "        print(\"The given number %0.1f is positive\"%num)\n",
    "elif num<0:\n",
    "    print(\"The given number %0.1f is negative\"%num)\n",
    "    \n",
    "else:\n",
    "    print(\"The given number is 0\")"
   ]
  },
  {
   "cell_type": "code",
   "execution_count": 17,
   "metadata": {},
   "outputs": [
    {
     "name": "stdout",
     "output_type": "stream",
     "text": [
      "Enter the value of length:5\n",
      "Enter the value of breadth9\n",
      "The given rectangle with sides 5.0,9.0 is not a square\n"
     ]
    }
   ],
   "source": [
    "#PROGRAM TO TAKE VALUES OF  LENGTH AND BREADTH OF A RACTANGLE FROM USER AND CHECK IF IT IS SQUARE OR NOT\n",
    "\n",
    "l=float(input(\"Enter the value of length:\"))              #applying the condition for entering input\n",
    "b=float(input(\"Enter the value of breadth\"))\n",
    "\n",
    "#inserting the input values in if-else condition to check whether it is square or not\n",
    "#and printing the appropriate statements\n",
    "\n",
    "if l==b:                                  \n",
    "    print(\"The given ractangle with sides %0.1f,%0.1f is a sqaure \"%(l,b))   \n",
    "else:\n",
    "    print(\"The given rectangle with sides %0.1f,%0.1f is not a square\"%(l,b))"
   ]
  },
  {
   "cell_type": "code",
   "execution_count": 35,
   "metadata": {},
   "outputs": [
    {
     "name": "stdout",
     "output_type": "stream",
     "text": [
      "Enter the first number :60\n",
      "Enter the second number :70\n",
      "The product of 60 and 70 is : 4200\n",
      "The sum of 60 and 70 is : 130\n",
      "\n",
      " The program is compleated\n"
     ]
    }
   ],
   "source": [
    "#GIVEN A 2 INTEGER NUMBERS RETURN THEIR PRODUCT AND IF THE PRODUCT IS GREATER THAN 1000,THEN RETURN THEIR SUM\n",
    "\n",
    "n1=int(input(\"Enter the first number :\"))                          #applying the conditions for recieving input\n",
    "n2=int(input(\"Enter the second number :\"))\n",
    "             \n",
    "product=n1*n2                                                      #introducing an equation to calculate product\n",
    "\n",
    "print(\"The product of %0.1d and %0.1d is : %0.1d\"%(n1,n2,product))   #printing the product\n",
    "\n",
    "#inserting product into if-else condition whether it is > 1000 or not\n",
    "\n",
    "if product>1000:                                           \n",
    "    sum=n1+n2                                                        #introducing sum term according to if condition\n",
    "    \n",
    "    print(\"The sum of %0.1d and %0.1d is : %0.1d\"%(n1,n2,sum))       #printing the sum\n",
    "    \n",
    "    print(\"\\n The program is compleated\")                            #final statement curresponding to if statement\n",
    "    \n",
    "else:                                                                #applying else in the condition where if statement is false\n",
    "     \n",
    "    print(\"The programe is compleated\")                              #final statement curresponding to else statement\n"
   ]
  },
  {
   "cell_type": "code",
   "execution_count": 37,
   "metadata": {},
   "outputs": [
    {
     "name": "stdout",
     "output_type": "stream",
     "text": [
      "Enter the number of classes held :100\n",
      "Enter the number of classes attended :45\n",
      "The percentage of class attended is : 45.0 %\n",
      "The student is not allowed to sit in exam\n"
     ]
    }
   ],
   "source": [
    "#A STUDENT WILL NOT BE ALLOWED TO SIT IN EXAM IF HIS /HER ATTENDANCEIS LESS THAN 75%.\n",
    "#take the following input from user NUMBER OF CLASSES HELD,NUMBER OF CLASSES ATTENDED \n",
    "#AND PRINT % OF CLASS ATTENDED AND IF THE STUDENT IS ALLOWED TO SIT IN EXAM OR NOT\n",
    "\n",
    "noc_held=int(input(\"Enter the number of classes held :\"))         #aplying conditions for accepting input values\n",
    "noc_attended=int(input(\"Enter the number of classes attended :\"))\n",
    "\n",
    "percentage=(noc_attended/noc_held)*100                           #introducing equation to calculate percentage\n",
    "\n",
    "print(\"The percentage of class attended is :\",percentage,\"%\")    #printing the percentage\n",
    "\n",
    " #applying the percentage in if-else condition\n",
    "    \n",
    "if percentage>=75:                                               #checking if condition and print appropriate statement\n",
    "    print(\"The student is allowed to sit in exam \")             \n",
    "else:                                                            #move into else condition when if condition is false\n",
    "    print(\"The student is not allowed to sit in exam\")           #printing the appropriate statement for else\n"
   ]
  },
  {
   "cell_type": "markdown",
   "metadata": {},
   "source": []
  },
  {
   "cell_type": "code",
   "execution_count": 3,
   "metadata": {},
   "outputs": [
    {
     "name": "stdout",
     "output_type": "stream",
     "text": [
      "enter some comma seperated numbers :1,5,8,1\n",
      "list : ['1', '5', '8', '1']\n",
      "True\n"
     ]
    }
   ],
   "source": [
    "#GIVEN A LIST OF NUMBERS, PRINT TRUE IF FIRST AND LAST NUMBER OF A LIST IS SAME\n",
    "\n",
    "sequence=input(\"enter some comma seperated numbers :\")    #applying condition for recieving input\n",
    "\n",
    "list=sequence.split(',')                                  #converting the sequqnce to list\n",
    "\n",
    "print(\"list :\",list)                                      #printing the curresponding list\n",
    "\n",
    "if list[0]==list[-1]:                                     #applying into if condition\n",
    "    \n",
    "    print(\"True\")                                         #printing the statement on if condition\n",
    "    \n",
    "else:                                                     #moving to else condition when if condition becomes false\n",
    "    \n",
    "    print(\"False\")                                        #printing the statement on else condition                                      \n",
    "         \n"
   ]
  },
  {
   "cell_type": "code",
   "execution_count": null,
   "metadata": {},
   "outputs": [],
   "source": []
  }
 ],
 "metadata": {
  "kernelspec": {
   "display_name": "Python 3",
   "language": "python",
   "name": "python3"
  },
  "language_info": {
   "codemirror_mode": {
    "name": "ipython",
    "version": 3
   },
   "file_extension": ".py",
   "mimetype": "text/x-python",
   "name": "python",
   "nbconvert_exporter": "python",
   "pygments_lexer": "ipython3",
   "version": "3.8.5"
  }
 },
 "nbformat": 4,
 "nbformat_minor": 4
}
