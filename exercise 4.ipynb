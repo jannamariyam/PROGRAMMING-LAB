{
 "cells": [
  {
   "cell_type": "code",
   "execution_count": 13,
   "metadata": {},
   "outputs": [
    {
     "name": "stdout",
     "output_type": "stream",
     "text": [
      "Enter the value in radian :1\n",
      "degree: 57.27272727272727\n"
     ]
    }
   ],
   "source": [
    "# python program to convert radian to degree\n",
    "pi=22/7 \n",
    "radian=(float(input(\"Enter the value in radian :\")))       #input the value\n",
    "degree=(radian*(180/pi))                                   #applying in equation\n",
    "print(\"degree:\",degree)                                    #printing the output\n"
   ]
  },
  {
   "cell_type": "code",
   "execution_count": 3,
   "metadata": {},
   "outputs": [
    {
     "name": "stdout",
     "output_type": "stream",
     "text": [
      "The x value:1\n",
      "The y value:2\n",
      "The z value:1\n",
      "the discriminant value for curresponding quadratic equation is: 0.0\n"
     ]
    }
   ],
   "source": [
    "# python program to calculate discriminant value                                       #defining the descriminant term\n",
    "x_value=float(input(\"The x value:\"))     \n",
    "y_value=float(input(\"The y value:\"))\n",
    "z_value=float(input(\"The z value:\"))                  #accepting the values curresponding to x,y,z in the quadratic equation\n",
    "a=float(x_value)\n",
    "b=float(y_value)\n",
    "c=float(z_value)\n",
    "discriminant=(b**2)-(4*a*c)                           #applying equation for calculating the descriminant value\n",
    "print(\"the discriminant value for curresponding quadratic equation is:\",discriminant)   #printing output\n",
    "\n",
    "    "
   ]
  },
  {
   "cell_type": "markdown",
   "metadata": {},
   "source": []
  },
  {
   "cell_type": "markdown",
   "metadata": {},
   "source": [
    "# "
   ]
  }
 ],
 "metadata": {
  "kernelspec": {
   "display_name": "Python 3",
   "language": "python",
   "name": "python3"
  },
  "language_info": {
   "codemirror_mode": {
    "name": "ipython",
    "version": 3
   },
   "file_extension": ".py",
   "mimetype": "text/x-python",
   "name": "python",
   "nbconvert_exporter": "python",
   "pygments_lexer": "ipython3",
   "version": "3.8.5"
  }
 },
 "nbformat": 4,
 "nbformat_minor": 4
}
