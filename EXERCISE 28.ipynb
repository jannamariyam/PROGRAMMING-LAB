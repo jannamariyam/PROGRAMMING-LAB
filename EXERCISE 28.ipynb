{
 "cells": [
  {
   "cell_type": "code",
   "execution_count": 5,
   "metadata": {},
   "outputs": [
    {
     "name": "stdout",
     "output_type": "stream",
     "text": [
      "enter a string  :ANU and Sonu ARE best friends\n",
      "number of upper case charecters : 7\n",
      "number of lower case charecters : 17\n"
     ]
    }
   ],
   "source": [
    "#  1.WRITE A PYTHON FUNCTION THAT ACCEPTS A STRING AND CALCULATE THE NUMBER OF UPPERCASE LETTERS AND LOWERCASE LETTERS\n",
    "\n",
    "\n",
    "string=input(\"enter a string  :\")\n",
    "def string_check(s):\n",
    "    d={\"UPPER_CASE\":0,\"LOWER_CASE\":0}\n",
    "    for c in s:\n",
    "        if c.isupper():\n",
    "            d[\"UPPER_CASE\"] += 1\n",
    "        elif c.islower():\n",
    "            d[\"LOWER_CASE\"] += 1\n",
    "        else:\n",
    "            pass\n",
    "\n",
    "    print(\"number of upper case charecters :\",d[\"UPPER_CASE\"])\n",
    "    print(\"number of lower case charecters :\",d[\"LOWER_CASE\"])\n",
    "string_check(string)"
   ]
  },
  {
   "cell_type": "raw",
   "metadata": {},
   "source": []
  },
  {
   "cell_type": "code",
   "execution_count": 1,
   "metadata": {},
   "outputs": [],
   "source": [
    "#2.write a python function that takes a list and returns a new list with unique elements of the first list.Import the module \n",
    "# and input a list to find the unique elements in a list\n",
    "\n"
   ]
  },
  {
   "cell_type": "code",
   "execution_count": null,
   "metadata": {},
   "outputs": [],
   "source": [
    "#3.write a function in a file amstrong.py to check whether a number is an amstrong number .Import the module to generate\n",
    "#amstrong numbers between two limits"
   ]
  },
  {
   "cell_type": "code",
   "execution_count": null,
   "metadata": {},
   "outputs": [],
   "source": []
  }
 ],
 "metadata": {
  "kernelspec": {
   "display_name": "Python 3",
   "language": "python",
   "name": "python3"
  },
  "language_info": {
   "codemirror_mode": {
    "name": "ipython",
    "version": 3
   },
   "file_extension": ".py",
   "mimetype": "text/x-python",
   "name": "python",
   "nbconvert_exporter": "python",
   "pygments_lexer": "ipython3",
   "version": "3.8.5"
  }
 },
 "nbformat": 4,
 "nbformat_minor": 4
}
