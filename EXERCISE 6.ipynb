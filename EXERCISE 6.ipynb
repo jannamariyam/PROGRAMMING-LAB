{
 "cells": [
  {
   "cell_type": "code",
   "execution_count": 2,
   "metadata": {},
   "outputs": [
    {
     "name": "stdout",
     "output_type": "stream",
     "text": [
      "Enter some comma seperated numbers :1,3,5,6\n",
      "List: ['1', '3', '5', '6']\n"
     ]
    }
   ],
   "source": [
    "#PYTHON PRGRAM WHICH ACCEPTS A SEQUENCE OF COMMA-SEPERATED NUMBERS FROM USER AND GENERATE A LIST WITH THOSE NUMBERS\n",
    "\n",
    "values=input(\"Enter some comma seperated numbers :\")    #entering the condition for recieving input and then recieve the sequence\n",
    "\n",
    "list=values.split(\",\")                                  #preparing the list\n",
    "\n",
    "print(\"List:\",list)                                     #printing the list"
   ]
  },
  {
   "cell_type": "code",
   "execution_count": 6,
   "metadata": {},
   "outputs": [
    {
     "name": "stdout",
     "output_type": "stream",
     "text": [
      "Enter the file name :exercise 2.ipynb\n",
      "The extension of the file is :ipynb\n"
     ]
    }
   ],
   "source": [
    "#PYTHON PROGRAM TO ACCEPT A FILE NAME FROM THE USER,PRINT EXTENTION OF THAT\n",
    "\n",
    "file_name=input(\"Enter the file name :\")                    #apply the condition and recieve the input\n",
    "\n",
    "file_extnsn=file_name.split(\".\")                            #split the input string into two using a dot\n",
    "\n",
    "print(\"The extension of the file is :\"+(file_extnsn[-1]))   #accepting the condition for extension and print it  "
   ]
  },
  {
   "cell_type": "code",
   "execution_count": 25,
   "metadata": {},
   "outputs": [
    {
     "name": "stdout",
     "output_type": "stream",
     "text": [
      "enter some comma seperated colors :red,green,pink,black\n",
      "red black\n"
     ]
    }
   ],
   "source": [
    "#PROGRAM TO CREATE A LIST OF COLOURS FROM COMMA-SEPERATED COLOR NAMES ENTERED BY USER,DISPLAY FIRST AND LAST COLORS\n",
    "\n",
    "colors=input(\"enter some comma seperated colors :\")     #apply the condition and recieve the input\n",
    "\n",
    "list=colors.split(\",\")                                  #convert the sequence into a list\n",
    "\n",
    "color_list=list                                         #store the new list into color_list\n",
    "\n",
    "print(\"%s %s\"%(color_list[0],color_list[-1]))          #printing the output by recieving the condition to accept first and \n",
    "                                                              #last term in color_list"
   ]
  },
  {
   "cell_type": "code",
   "execution_count": 4,
   "metadata": {},
   "outputs": [
    {
     "name": "stdout",
     "output_type": "stream",
     "text": [
      "enter the string :inserting\n",
      "insert$ng\n"
     ]
    }
   ],
   "source": [
    "#PYTHON PROGRAM TO GET A STRING FROM A GIVEN STRING WHERE ALL OCCURRENCES OF ITS FIRST CHAR HAVE BEEN CHANGED TO $,EXCEPT THE FIRST CHAR ITSELF[Eg:onion ==> oni$n]\n",
    "\n",
    "aString=input(\"enter the string :\")        #reading a string\n",
    "a=aString[0]\n",
    "aString=aString.replace(a,'$')             #replacing\n",
    "print(a+aString[1:])                       #printing output\n"
   ]
  },
  {
   "cell_type": "code",
   "execution_count": null,
   "metadata": {},
   "outputs": [],
   "source": []
  },
  {
   "cell_type": "code",
   "execution_count": null,
   "metadata": {},
   "outputs": [],
   "source": []
  }
 ],
 "metadata": {
  "kernelspec": {
   "display_name": "Python 3",
   "language": "python",
   "name": "python3"
  },
  "language_info": {
   "codemirror_mode": {
    "name": "ipython",
    "version": 3
   },
   "file_extension": ".py",
   "mimetype": "text/x-python",
   "name": "python",
   "nbconvert_exporter": "python",
   "pygments_lexer": "ipython3",
   "version": "3.8.5"
  }
 },
 "nbformat": 4,
 "nbformat_minor": 4
}
