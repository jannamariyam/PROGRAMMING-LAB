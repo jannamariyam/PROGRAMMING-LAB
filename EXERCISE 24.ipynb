{
 "cells": [
  {
   "cell_type": "code",
   "execution_count": 12,
   "metadata": {},
   "outputs": [
    {
     "name": "stdout",
     "output_type": "stream",
     "text": [
      "100\n"
     ]
    }
   ],
   "source": [
    "class C:\n",
    "    f=100\n",
    "print(C.f)"
   ]
  },
  {
   "cell_type": "code",
   "execution_count": 14,
   "metadata": {},
   "outputs": [
    {
     "name": "stdout",
     "output_type": "stream",
     "text": [
      "102\n"
     ]
    }
   ],
   "source": [
    "C.f=C.f+1\n",
    "print(C.f)"
   ]
  },
  {
   "cell_type": "code",
   "execution_count": 6,
   "metadata": {},
   "outputs": [
    {
     "data": {
      "text/plain": [
       "20"
      ]
     },
     "execution_count": 6,
     "metadata": {},
     "output_type": "execute_result"
    }
   ],
   "source": [
    "class MyData:\n",
    "    pass\n",
    "mathobj = MyData()\n",
    "mathobj.x = 4\n",
    "mathobj.y = 5\n",
    "mathobj.x*mathobj.y"
   ]
  },
  {
   "cell_type": "code",
   "execution_count": 10,
   "metadata": {},
   "outputs": [
    {
     "data": {
      "text/plain": [
       "9"
      ]
     },
     "execution_count": 10,
     "metadata": {},
     "output_type": "execute_result"
    }
   ],
   "source": [
    "mathobj.x + mathobj.y"
   ]
  },
  {
   "cell_type": "code",
   "execution_count": 11,
   "metadata": {},
   "outputs": [
    {
     "data": {
      "text/plain": [
       "-1"
      ]
     },
     "execution_count": 11,
     "metadata": {},
     "output_type": "execute_result"
    }
   ],
   "source": [
    "mathobj.x - mathobj.y"
   ]
  },
  {
   "cell_type": "markdown",
   "metadata": {},
   "source": []
  },
  {
   "cell_type": "code",
   "execution_count": 13,
   "metadata": {},
   "outputs": [],
   "source": [
    "class MyClass:\n",
    "    def myNoActionMethod(self):\n",
    "        pass\n",
    "    \n",
    "myInstance = MyClass()\n",
    "myInstance.myNoActionMethod()"
   ]
  },
  {
   "cell_type": "code",
   "execution_count": 15,
   "metadata": {},
   "outputs": [
    {
     "name": "stdout",
     "output_type": "stream",
     "text": [
      "You invoked printFoo()!\n"
     ]
    }
   ],
   "source": [
    "class MyDataWithMethod:   #define the class\n",
    "    def printFoo(self):   #define the method\n",
    "        \n",
    "        print('You invoked printFoo()!')\n",
    "        \n",
    "myObj = MyDataWithMethod()  #create the instance\n",
    "myObj.printFoo()            #now invoke the method"
   ]
  },
  {
   "cell_type": "code",
   "execution_count": 16,
   "metadata": {},
   "outputs": [
    {
     "name": "stdout",
     "output_type": "stream",
     "text": [
      "Enter the radius :3\n",
      "area : 28.26\n",
      "perimeter : 18.84\n"
     ]
    }
   ],
   "source": [
    "#create circle class with attribute radius and methods to find area and perimeter.\n",
    "\n",
    "class Circle():\n",
    "    def getradius(self,r):\n",
    "        self.radius = r\n",
    "    \n",
    "    def area(self):\n",
    "        return self.radius**2*3.14\n",
    "        \n",
    "    def perimeter(self):\n",
    "        return 2*self.radius*3.14\n",
    "        \n",
    "NewCircle = Circle()\n",
    "radius=int(input(\"Enter the radius :\"))\n",
    "NewCircle.getradius(radius)\n",
    "print(\"area :\",NewCircle.area())\n",
    "print(\"perimeter :\",NewCircle.perimeter())"
   ]
  },
  {
   "cell_type": "code",
   "execution_count": null,
   "metadata": {},
   "outputs": [],
   "source": []
  },
  {
   "cell_type": "code",
   "execution_count": 10,
   "metadata": {},
   "outputs": [
    {
     "name": "stdout",
     "output_type": "stream",
     "text": [
      "Enter the length of first rectangle :4\n",
      "Enter the breadth of first rectangle :2\n",
      "area of first rectangle: 8\n",
      "perimeter of first rectangle : 12\n",
      "Enter the length of second rectangle :6\n",
      "Enter the breadth of second rectangle:3\n",
      "area of second rectangle: 18\n",
      "perimeter of second rectangle : 18\n",
      "Area of second rectangle is greater than area of first rectangle\n",
      "perimeter of second rectangle is greater than perimeter of first rectangle\n"
     ]
    }
   ],
   "source": [
    "#create rectangle class with attributes length and breadth and methods to find area and perimeter.\n",
    "#Compare two rectangle objects by their data.\n",
    "\n",
    "\n",
    "class Rectangle():\n",
    "    def getlength(self,l):\n",
    "        self.length = l\n",
    "        \n",
    "    def getbreadth(self,b):\n",
    "        self.breadth = b\n",
    "    \n",
    "    def area(self):\n",
    "        return (self.length * self.breadth)\n",
    "        \n",
    "    def perimeter(self):\n",
    "        return 2*(self.length+self.breadth)\n",
    "        \n",
    "NewRectangle = Rectangle()\n",
    "length1=int(input(\"Enter the length of first rectangle :\"))\n",
    "NewRectangle.getlength(length1)\n",
    "breadth1=int(input(\"Enter the breadth of first rectangle :\"))\n",
    "NewRectangle.getbreadth(breadth1)\n",
    "print(\"area of first rectangle:\",NewRectangle.area())\n",
    "print(\"perimeter of first rectangle :\",NewRectangle.perimeter())\n",
    "a1=NewRectangle.area()\n",
    "p1=NewRectangle.perimeter()\n",
    "\n",
    "length2=int(input(\"Enter the length of second rectangle :\"))\n",
    "NewRectangle.getlength(length2)\n",
    "breadth2=int(input(\"Enter the breadth of second rectangle:\"))\n",
    "NewRectangle.getbreadth(breadth2)\n",
    "print(\"area of second rectangle:\",NewRectangle.area())\n",
    "print(\"perimeter of second rectangle :\",NewRectangle.perimeter())\n",
    "a2=NewRectangle.area()\n",
    "p2=NewRectangle.perimeter()\n",
    "\n",
    "if(a1>a2):\n",
    "    print(\"Area of first rectangle is greater than area of second rectangle\")\n",
    "else:\n",
    "    print(\"Area of second rectangle is greater than area of first rectangle\")\n",
    "    \n",
    "if(p1>p2):\n",
    "    print(\"perimeter of first rectangle is greater than perimeter of second rectangle\")\n",
    "else:\n",
    "    print(\"perimeter of second rectangle is greater than perimeter of first rectangle\")\n",
    "    \n",
    "\n"
   ]
  },
  {
   "cell_type": "code",
   "execution_count": null,
   "metadata": {},
   "outputs": [],
   "source": []
  },
  {
   "cell_type": "code",
   "execution_count": null,
   "metadata": {},
   "outputs": [],
   "source": []
  }
 ],
 "metadata": {
  "kernelspec": {
   "display_name": "Python 3",
   "language": "python",
   "name": "python3"
  },
  "language_info": {
   "codemirror_mode": {
    "name": "ipython",
    "version": 3
   },
   "file_extension": ".py",
   "mimetype": "text/x-python",
   "name": "python",
   "nbconvert_exporter": "python",
   "pygments_lexer": "ipython3",
   "version": "3.8.5"
  }
 },
 "nbformat": 4,
 "nbformat_minor": 4
}
