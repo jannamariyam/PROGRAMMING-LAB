{
 "cells": [
  {
   "cell_type": "raw",
   "metadata": {},
   "source": [
    "#PART A -  CLASSES AND OOP\n",
    "\n",
    "\n",
    "class C:\n",
    "    f=100\n",
    "print(C.f)"
   ]
  },
  {
   "cell_type": "code",
   "execution_count": 14,
   "metadata": {},
   "outputs": [
    {
     "name": "stdout",
     "output_type": "stream",
     "text": [
      "102\n"
     ]
    }
   ],
   "source": [
    "C.f=C.f+1\n",
    "print(C.f)"
   ]
  },
  {
   "cell_type": "code",
   "execution_count": 6,
   "metadata": {},
   "outputs": [
    {
     "data": {
      "text/plain": [
       "20"
      ]
     },
     "execution_count": 6,
     "metadata": {},
     "output_type": "execute_result"
    }
   ],
   "source": [
    "class MyData:\n",
    "    pass\n",
    "mathobj = MyData()\n",
    "mathobj.x = 4\n",
    "mathobj.y = 5\n",
    "mathobj.x*mathobj.y"
   ]
  },
  {
   "cell_type": "code",
   "execution_count": 10,
   "metadata": {},
   "outputs": [
    {
     "data": {
      "text/plain": [
       "9"
      ]
     },
     "execution_count": 10,
     "metadata": {},
     "output_type": "execute_result"
    }
   ],
   "source": [
    "mathobj.x + mathobj.y"
   ]
  },
  {
   "cell_type": "code",
   "execution_count": 11,
   "metadata": {},
   "outputs": [
    {
     "data": {
      "text/plain": [
       "-1"
      ]
     },
     "execution_count": 11,
     "metadata": {},
     "output_type": "execute_result"
    }
   ],
   "source": [
    "mathobj.x - mathobj.y"
   ]
  },
  {
   "cell_type": "markdown",
   "metadata": {},
   "source": []
  },
  {
   "cell_type": "code",
   "execution_count": 13,
   "metadata": {},
   "outputs": [],
   "source": [
    "class MyClass:\n",
    "    def myNoActionMethod(self):\n",
    "        pass\n",
    "    \n",
    "myInstance = MyClass()\n",
    "myInstance.myNoActionMethod()"
   ]
  },
  {
   "cell_type": "code",
   "execution_count": 15,
   "metadata": {},
   "outputs": [
    {
     "name": "stdout",
     "output_type": "stream",
     "text": [
      "You invoked printFoo()!\n"
     ]
    }
   ],
   "source": [
    "class MyDataWithMethod:   #define the class\n",
    "    def printFoo(self):   #define the method\n",
    "        \n",
    "        print('You invoked printFoo()!')\n",
    "        \n",
    "myObj = MyDataWithMethod()  #create the instance\n",
    "myObj.printFoo()            #now invoke the method"
   ]
  },
  {
   "cell_type": "code",
   "execution_count": 16,
   "metadata": {},
   "outputs": [
    {
     "name": "stdout",
     "output_type": "stream",
     "text": [
      "Enter the radius :3\n",
      "area : 28.26\n",
      "perimeter : 18.84\n"
     ]
    }
   ],
   "source": [
    "#create circle class with attribute radius and methods to find area and perimeter.\n",
    "\n",
    "class Circle():\n",
    "    def getradius(self,r):\n",
    "        self.radius = r\n",
    "    \n",
    "    def area(self):\n",
    "        return self.radius**2*3.14\n",
    "        \n",
    "    def perimeter(self):\n",
    "        return 2*self.radius*3.14\n",
    "        \n",
    "NewCircle = Circle()\n",
    "radius=int(input(\"Enter the radius :\"))\n",
    "NewCircle.getradius(radius)\n",
    "print(\"area :\",NewCircle.area())\n",
    "print(\"perimeter :\",NewCircle.perimeter())"
   ]
  },
  {
   "cell_type": "code",
   "execution_count": null,
   "metadata": {},
   "outputs": [],
   "source": []
  },
  {
   "cell_type": "code",
   "execution_count": 4,
   "metadata": {},
   "outputs": [
    {
     "name": "stdout",
     "output_type": "stream",
     "text": [
      "Enter the length of first rectangle :4\n",
      "Enter the breadth of first rectangle :2\n",
      "area of first rectangle: 8\n",
      "perimeter of first rectangle : 12\n",
      "Enter the length of second rectangle :6\n",
      "Enter the breadth of second rectangle:3\n",
      "area of second rectangle: 18\n",
      "perimeter of second rectangle : 18\n",
      "Area of second rectangle is greater than area of first rectangle\n",
      "perimeter of second rectangle is greater than perimeter of first rectangle\n"
     ]
    }
   ],
   "source": [
    "#PROBLEM 1\n",
    "\n",
    "#create rectangle class with attributes length and breadth and methods to find area and perimeter.\n",
    "#Compare two rectangle objects by their data.\n",
    "\n",
    "\n",
    "class Rectangle():              #create class rectangle\n",
    "    def getlength(self,l):\n",
    "        self.length = l\n",
    "        \n",
    "    def getbreadth(self,b):\n",
    "        self.breadth = b\n",
    "    \n",
    "    def area(self):            #function to calculate area\n",
    "        return (self.length * self.breadth)\n",
    "        \n",
    "    def perimeter(self):       #function to calculate perimeter\n",
    "        return 2*(self.length+self.breadth)\n",
    "        \n",
    "Rectangle1 = Rectangle()     #first rectangle object created \n",
    "length1=int(input(\"Enter the length of first rectangle :\"))\n",
    "Rectangle1.getlength(length1)\n",
    "breadth1=int(input(\"Enter the breadth of first rectangle :\"))\n",
    "Rectangle1.getbreadth(breadth1)\n",
    "print(\"area of first rectangle:\",Rectangle1.area())\n",
    "print(\"perimeter of first rectangle :\",Rectangle1.perimeter())\n",
    "a1=Rectangle1.area()\n",
    "p1=Rectangle1.perimeter()\n",
    "\n",
    "Rectangle2=Rectangle()       #second rectangle object created\n",
    "length2=int(input(\"Enter the length of second rectangle :\"))\n",
    "Rectangle2.getlength(length2)\n",
    "breadth2=int(input(\"Enter the breadth of second rectangle:\"))\n",
    "Rectangle2.getbreadth(breadth2)\n",
    "print(\"area of second rectangle:\",Rectangle2.area())\n",
    "print(\"perimeter of second rectangle :\",Rectangle2.perimeter())\n",
    "a2=Rectangle2.area()\n",
    "p2=Rectangle2.perimeter()\n",
    "\n",
    "#comparing\n",
    "\n",
    "if(a1>a2):\n",
    "    print(\"Area of first rectangle is greater than area of second rectangle\")\n",
    "else:\n",
    "    print(\"Area of second rectangle is greater than area of first rectangle\")\n",
    "    \n",
    "if(p1>p2):\n",
    "    print(\"perimeter of first rectangle is greater than perimeter of second rectangle\")\n",
    "else:\n",
    "    print(\"perimeter of second rectangle is greater than perimeter of first rectangle\")\n",
    "    \n",
    "\n"
   ]
  },
  {
   "cell_type": "code",
   "execution_count": 9,
   "metadata": {},
   "outputs": [
    {
     "name": "stdout",
     "output_type": "stream",
     "text": [
      "Created instance for : John Doe\n",
      "Created instance for : Jane Doe\n"
     ]
    }
   ],
   "source": [
    "class AddBookEntry: \n",
    "    'address book entry class' \n",
    "    def __init__(self,nm,ph): \n",
    "        self.name = nm \n",
    "        self.phone = ph \n",
    "        print('Created instance for :',self.name) \n",
    "    def updatePhone(self, newph): \n",
    "            self.phone = newph \n",
    "            print('Updated phone # for :',self.name) \n",
    "john = AddBookEntry('John Doe','4532-222-1267') \n",
    "jane = AddBookEntry('Jane Doe','1235-111-1267')"
   ]
  },
  {
   "cell_type": "code",
   "execution_count": null,
   "metadata": {},
   "outputs": [],
   "source": []
  },
  {
   "cell_type": "markdown",
   "metadata": {},
   "source": []
  },
  {
   "cell_type": "code",
   "execution_count": 10,
   "metadata": {},
   "outputs": [
    {
     "data": {
      "text/plain": [
       "<__main__.AddBookEntry at 0x1fb0d890b20>"
      ]
     },
     "execution_count": 10,
     "metadata": {},
     "output_type": "execute_result"
    }
   ],
   "source": [
    "john"
   ]
  },
  {
   "cell_type": "code",
   "execution_count": 11,
   "metadata": {},
   "outputs": [
    {
     "data": {
      "text/plain": [
       "'John Doe'"
      ]
     },
     "execution_count": 11,
     "metadata": {},
     "output_type": "execute_result"
    }
   ],
   "source": [
    "john.name\n"
   ]
  },
  {
   "cell_type": "code",
   "execution_count": 6,
   "metadata": {},
   "outputs": [
    {
     "data": {
      "text/plain": [
       "'4532-222-1267'"
      ]
     },
     "execution_count": 6,
     "metadata": {},
     "output_type": "execute_result"
    }
   ],
   "source": [
    "john.phone"
   ]
  },
  {
   "cell_type": "code",
   "execution_count": 7,
   "metadata": {},
   "outputs": [
    {
     "name": "stdout",
     "output_type": "stream",
     "text": [
      "Updated phone # for : John Doe\n"
     ]
    }
   ],
   "source": [
    "john.updatePhone('1234-222-1267')"
   ]
  },
  {
   "cell_type": "code",
   "execution_count": 8,
   "metadata": {},
   "outputs": [
    {
     "data": {
      "text/plain": [
       "'1234-222-1267'"
      ]
     },
     "execution_count": 8,
     "metadata": {},
     "output_type": "execute_result"
    }
   ],
   "source": [
    "john.phone"
   ]
  },
  {
   "cell_type": "code",
   "execution_count": 2,
   "metadata": {},
   "outputs": [
    {
     "data": {
      "text/plain": [
       "'Jane Doe'"
      ]
     },
     "execution_count": 2,
     "metadata": {},
     "output_type": "execute_result"
    }
   ],
   "source": [
    "jane.name"
   ]
  },
  {
   "cell_type": "code",
   "execution_count": 3,
   "metadata": {},
   "outputs": [
    {
     "data": {
      "text/plain": [
       "'1235-111-1267'"
      ]
     },
     "execution_count": 3,
     "metadata": {},
     "output_type": "execute_result"
    }
   ],
   "source": [
    "jane.phone"
   ]
  },
  {
   "cell_type": "code",
   "execution_count": 6,
   "metadata": {},
   "outputs": [
    {
     "name": "stdout",
     "output_type": "stream",
     "text": [
      "30\n"
     ]
    },
    {
     "ename": "AttributeError",
     "evalue": "'MyClass' object has no attribute '__num'",
     "output_type": "error",
     "traceback": [
      "\u001b[1;31m---------------------------------------------------------------------------\u001b[0m",
      "\u001b[1;31mAttributeError\u001b[0m                            Traceback (most recent call last)",
      "\u001b[1;32m<ipython-input-6-cbb0dd274702>\u001b[0m in \u001b[0;36m<module>\u001b[1;34m\u001b[0m\n\u001b[0;32m     10\u001b[0m \u001b[0mob\u001b[0m\u001b[1;33m.\u001b[0m\u001b[0madd\u001b[0m\u001b[1;33m(\u001b[0m\u001b[1;36m20\u001b[0m\u001b[1;33m)\u001b[0m\u001b[1;33m\u001b[0m\u001b[1;33m\u001b[0m\u001b[0m\n\u001b[0;32m     11\u001b[0m \u001b[1;33m\u001b[0m\u001b[0m\n\u001b[1;32m---> 12\u001b[1;33m \u001b[0mprint\u001b[0m\u001b[1;33m(\u001b[0m\u001b[0mob\u001b[0m\u001b[1;33m.\u001b[0m\u001b[0m__num\u001b[0m\u001b[1;33m)\u001b[0m\u001b[1;33m\u001b[0m\u001b[1;33m\u001b[0m\u001b[0m\n\u001b[0m\u001b[0;32m     13\u001b[0m \u001b[1;33m\u001b[0m\u001b[0m\n",
      "\u001b[1;31mAttributeError\u001b[0m: 'MyClass' object has no attribute '__num'"
     ]
    }
   ],
   "source": [
    "#data hiding example\n",
    "\n",
    "class MyClass:\n",
    "    __num = 10\n",
    "    def add(self,a):\n",
    "        sum = self.__num+a\n",
    "        print(sum)\n",
    "        \n",
    "ob = MyClass()\n",
    "ob.add(20)\n",
    "\n",
    "print(ob.__num)\n",
    "        "
   ]
  },
  {
   "cell_type": "code",
   "execution_count": 5,
   "metadata": {},
   "outputs": [
    {
     "name": "stdout",
     "output_type": "stream",
     "text": [
      "Enter the length of first rectangle :4\n",
      "Enter the breadth of first rectangle :2\n",
      "Area of first rectangle : 8\n",
      "perimeter of first rectangle : 12\n",
      "Enter the length of second rectangle :6\n",
      "Enter the breadth of second rectangle3\n",
      "Area of second rectangle : 18\n",
      "perimeter of second rectangle : 18\n",
      "Area of second rectangle is greater than area of first rectangle\n",
      "perimeter of second rectangle is greater than perimeter of first rectangle\n"
     ]
    }
   ],
   "source": [
    "#problem 2\n",
    "\n",
    "#create rectangle class with attributes length and breadth and methods to find area and perimeter.\n",
    "#Compare two rectangle objects by their data.\n",
    "\n",
    "class Rectangle():                  #create class rectangle\n",
    "    def __init__(self,l,b):\n",
    "        self.length = l\n",
    "        self.breadth = b\n",
    "        \n",
    "    def rectangle_area(self):      #function to calculate area\n",
    "        return self.length*self.breadth\n",
    "    \n",
    "    def rectangle_perimeter(self): #function to calculate perimeter\n",
    "        return 2*(self.length + self.breadth)\n",
    "    \n",
    "l1 = int(input(\"Enter the length of first rectangle :\"))      #reading length and breadth\n",
    "b1 = int(input(\"Enter the breadth of first rectangle :\"))\n",
    "FirstRectangle = Rectangle(l1,b1)                             #first rectangle objects are created\n",
    "print(\"Area of first rectangle :\",FirstRectangle.rectangle_area())\n",
    "print(\"perimeter of first rectangle :\",FirstRectangle.rectangle_perimeter())\n",
    "A1=FirstRectangle.rectangle_area()\n",
    "P1=FirstRectangle.rectangle_perimeter()\n",
    "\n",
    "l2 = int(input(\"Enter the length of second rectangle :\"))\n",
    "b2 = int(input(\"Enter the breadth of second rectangle\"))\n",
    "SecondRectangle = Rectangle(l2,b2)                           \n",
    "print(\"Area of second rectangle :\",SecondRectangle.rectangle_area())\n",
    "print(\"perimeter of second rectangle :\",SecondRectangle.rectangle_perimeter())\n",
    "A2=SecondRectangle.rectangle_area()\n",
    "P2=SecondRectangle.rectangle_perimeter()\n",
    "\n",
    "\n",
    "#comparing\n",
    "\n",
    "if(A1>A2):\n",
    "    print(\"Area of first rectangle is greater than area of second rectangle\")\n",
    "else:\n",
    "    print(\"Area of second rectangle is greater than area of first rectangle\")\n",
    "    \n",
    "if(P1>P2):\n",
    "    print(\"perimeter of first rectangle is greater than perimeter of second rectangle\")\n",
    "else:\n",
    "    print(\"perimeter of second rectangle is greater than perimeter of first rectangle\")\n",
    "    \n"
   ]
  },
  {
   "cell_type": "code",
   "execution_count": 4,
   "metadata": {},
   "outputs": [
    {
     "name": "stdout",
     "output_type": "stream",
     "text": [
      "STUDENT INSTANCE CREATED FOR : JANNA MARIYAM K.C\n",
      "NAME            :    JANNA MARIYAM K.C\n",
      "ROLL NUMBER     :    15\n",
      "CLASS           :    MCA S1\n",
      "STUDENT INSTANCE CREATED FOR : AISHWARYA\n",
      "NAME            :    AISHWARYA\n",
      "ROLL NUMBER     :    2\n",
      "CLASS           :    MCA S2\n",
      "STUDENT INSTANCE CREATED FOR : DHANUSH\n",
      "NAME            :    DHANUSH\n",
      "ROLL NUMBER     :    6\n",
      "CLASS           :    MBA S2\n"
     ]
    }
   ],
   "source": [
    "#PROBLEM 3\n",
    "\n",
    "#Define a class student.Include the following details like roll number,name and class.Write methods to assign initial values \n",
    "#and display student details\n",
    "\n",
    "class student:                        #class definition\n",
    "    'student class'\n",
    "    def __init__(self,Name,Rollno,Class):   #define constructor\n",
    "        self.Name = Name\n",
    "        self.Rollno = Rollno\n",
    "        self.Class = Class\n",
    "        print('STUDENT INSTANCE CREATED FOR :',self.Name)\n",
    "        \n",
    "    def showStudent(self):                 #define method\n",
    "        print(\"NAME            :   \",self.Name)\n",
    "        print(\"ROLL NUMBER     :   \",self.Rollno)\n",
    "        print(\"CLASS           :   \",self.Class)\n",
    "        \n",
    "#main program\n",
    "\n",
    "student1 = student(\"JANNA MARIYAM K.C\",\"15\",\"MCA S1\")\n",
    "student1.showStudent()\n",
    "student2 = student(\"AISHWARYA\",\"2\",\"MCA S2\")\n",
    "student2.showStudent()\n",
    "student3 = student(\"DHANUSH\",\"6\",\"MBA S2\")\n",
    "student3.showStudent()\n",
    "        "
   ]
  },
  {
   "cell_type": "code",
   "execution_count": 3,
   "metadata": {},
   "outputs": [],
   "source": [
    "#PART C - INHERITANCE\n",
    "\n",
    "#example 1\n",
    "\n",
    "class MyClass:\n",
    "    'MyClass Class definition'\n",
    "    myVersion = '1.1'\n",
    "    def showMyVersion(self):\n",
    "        print (MyClass.myVersion)"
   ]
  },
  {
   "cell_type": "code",
   "execution_count": 4,
   "metadata": {},
   "outputs": [
    {
     "data": {
      "text/plain": [
       "['__class__',\n",
       " '__delattr__',\n",
       " '__dict__',\n",
       " '__dir__',\n",
       " '__doc__',\n",
       " '__eq__',\n",
       " '__format__',\n",
       " '__ge__',\n",
       " '__getattribute__',\n",
       " '__gt__',\n",
       " '__hash__',\n",
       " '__init__',\n",
       " '__init_subclass__',\n",
       " '__le__',\n",
       " '__lt__',\n",
       " '__module__',\n",
       " '__ne__',\n",
       " '__new__',\n",
       " '__reduce__',\n",
       " '__reduce_ex__',\n",
       " '__repr__',\n",
       " '__setattr__',\n",
       " '__sizeof__',\n",
       " '__str__',\n",
       " '__subclasshook__',\n",
       " '__weakref__',\n",
       " 'myVersion',\n",
       " 'showMyVersion']"
      ]
     },
     "execution_count": 4,
     "metadata": {},
     "output_type": "execute_result"
    }
   ],
   "source": [
    "dir(MyClass)"
   ]
  },
  {
   "cell_type": "code",
   "execution_count": 5,
   "metadata": {},
   "outputs": [
    {
     "data": {
      "text/plain": [
       "mappingproxy({'__module__': '__main__',\n",
       "              '__doc__': 'MyClass Class definition',\n",
       "              'myVersion': '1.1',\n",
       "              'showMyVersion': <function __main__.MyClass.showMyVersion(self)>,\n",
       "              '__dict__': <attribute '__dict__' of 'MyClass' objects>,\n",
       "              '__weakref__': <attribute '__weakref__' of 'MyClass' objects>})"
      ]
     },
     "execution_count": 5,
     "metadata": {},
     "output_type": "execute_result"
    }
   ],
   "source": [
    "MyClass.__dict__"
   ]
  },
  {
   "cell_type": "code",
   "execution_count": 6,
   "metadata": {},
   "outputs": [
    {
     "data": {
      "text/plain": [
       "'MyClass'"
      ]
     },
     "execution_count": 6,
     "metadata": {},
     "output_type": "execute_result"
    }
   ],
   "source": [
    "MyClass.__name__"
   ]
  },
  {
   "cell_type": "code",
   "execution_count": 7,
   "metadata": {},
   "outputs": [
    {
     "data": {
      "text/plain": [
       "'MyClass Class definition'"
      ]
     },
     "execution_count": 7,
     "metadata": {},
     "output_type": "execute_result"
    }
   ],
   "source": [
    "MyClass.__doc__"
   ]
  },
  {
   "cell_type": "code",
   "execution_count": 8,
   "metadata": {},
   "outputs": [
    {
     "data": {
      "text/plain": [
       "(object,)"
      ]
     },
     "execution_count": 8,
     "metadata": {},
     "output_type": "execute_result"
    }
   ],
   "source": [
    "MyClass.__bases__"
   ]
  },
  {
   "cell_type": "code",
   "execution_count": 9,
   "metadata": {},
   "outputs": [
    {
     "data": {
      "text/plain": [
       "'__main__'"
      ]
     },
     "execution_count": 9,
     "metadata": {},
     "output_type": "execute_result"
    }
   ],
   "source": [
    "MyClass.__module__"
   ]
  },
  {
   "cell_type": "code",
   "execution_count": 10,
   "metadata": {},
   "outputs": [],
   "source": [
    "#example 2\n",
    "\n",
    "class myClass:\n",
    "    count = 0             #use static data for count\n",
    "    def __init__(self):   #constructor,incr.count\n",
    "        myClass.count = myClass.count+1\n",
    "    def __del__(self):\n",
    "        myClass.count = myClass.count-1\n",
    "        assert myClass.count>0   #can not have < 0 instances\n",
    "    def howMany(self):\n",
    "        return myClass.count\n",
    "        \n",
    "        "
   ]
  },
  {
   "cell_type": "code",
   "execution_count": 11,
   "metadata": {},
   "outputs": [],
   "source": [
    "a=myClass()"
   ]
  },
  {
   "cell_type": "code",
   "execution_count": 12,
   "metadata": {},
   "outputs": [],
   "source": [
    "b=myClass()"
   ]
  },
  {
   "cell_type": "code",
   "execution_count": 13,
   "metadata": {},
   "outputs": [
    {
     "data": {
      "text/plain": [
       "2"
      ]
     },
     "execution_count": 13,
     "metadata": {},
     "output_type": "execute_result"
    }
   ],
   "source": [
    "b.howMany()"
   ]
  },
  {
   "cell_type": "code",
   "execution_count": 14,
   "metadata": {},
   "outputs": [
    {
     "data": {
      "text/plain": [
       "2"
      ]
     },
     "execution_count": 14,
     "metadata": {},
     "output_type": "execute_result"
    }
   ],
   "source": [
    "a.howMany()"
   ]
  },
  {
   "cell_type": "code",
   "execution_count": 15,
   "metadata": {},
   "outputs": [],
   "source": [
    "del b"
   ]
  },
  {
   "cell_type": "code",
   "execution_count": 16,
   "metadata": {},
   "outputs": [
    {
     "data": {
      "text/plain": [
       "1"
      ]
     },
     "execution_count": 16,
     "metadata": {},
     "output_type": "execute_result"
    }
   ],
   "source": [
    "a.howMany()"
   ]
  },
  {
   "cell_type": "code",
   "execution_count": 9,
   "metadata": {},
   "outputs": [
    {
     "name": "stderr",
     "output_type": "stream",
     "text": [
      "Exception ignored in: <function myClass.__del__ at 0x000001A1E07A0C10>\n",
      "Traceback (most recent call last):\n",
      "  File \"<ipython-input-2-a303fd79df12>\", line 9, in __del__\n",
      "AssertionError: \n"
     ]
    }
   ],
   "source": [
    "del a"
   ]
  },
  {
   "cell_type": "code",
   "execution_count": 9,
   "metadata": {},
   "outputs": [
    {
     "data": {
      "text/plain": [
       "0"
      ]
     },
     "execution_count": 9,
     "metadata": {},
     "output_type": "execute_result"
    }
   ],
   "source": [
    "myClass.count"
   ]
  },
  {
   "cell_type": "code",
   "execution_count": 10,
   "metadata": {},
   "outputs": [],
   "source": [
    "# example 3\n",
    "\n",
    "class C:                          #class declaration\n",
    "    def __init__(self):           #constructor\n",
    "        print('initialized')\n",
    "    def __del__(self):            #destructor\n",
    "        print('deleted')\n"
   ]
  },
  {
   "cell_type": "code",
   "execution_count": 11,
   "metadata": {},
   "outputs": [
    {
     "name": "stdout",
     "output_type": "stream",
     "text": [
      "initialized\n"
     ]
    }
   ],
   "source": [
    "c1=C()           #instantiation"
   ]
  },
  {
   "cell_type": "code",
   "execution_count": 12,
   "metadata": {},
   "outputs": [],
   "source": [
    "c2=c1          #create additional alias"
   ]
  },
  {
   "cell_type": "code",
   "execution_count": 13,
   "metadata": {},
   "outputs": [],
   "source": [
    "c3=c1          #create a third alias"
   ]
  },
  {
   "cell_type": "code",
   "execution_count": 14,
   "metadata": {},
   "outputs": [
    {
     "data": {
      "text/plain": [
       "(1994472149056, 1994472149056, 1994472149056)"
      ]
     },
     "execution_count": 14,
     "metadata": {},
     "output_type": "execute_result"
    }
   ],
   "source": [
    "id(c1),id(c2),id(c3)"
   ]
  },
  {
   "cell_type": "code",
   "execution_count": 15,
   "metadata": {},
   "outputs": [],
   "source": [
    "del c1         #remove one reference"
   ]
  },
  {
   "cell_type": "code",
   "execution_count": 16,
   "metadata": {},
   "outputs": [],
   "source": [
    "del c2         #remove another reference"
   ]
  },
  {
   "cell_type": "code",
   "execution_count": 17,
   "metadata": {},
   "outputs": [
    {
     "name": "stdout",
     "output_type": "stream",
     "text": [
      "deleted\n"
     ]
    }
   ],
   "source": [
    "del c3         #remove final reference,destructor finally invoked"
   ]
  },
  {
   "cell_type": "code",
   "execution_count": 4,
   "metadata": {},
   "outputs": [],
   "source": [
    "# sub class\n",
    "\n",
    "class AddrBookEntry:                     #class definition\n",
    "    'address book entry class'\n",
    "    def __init__(self,nm,ph):            #define constructor\n",
    "        self.name = nm                   #set inst.attr.1\n",
    "        self.phone = ph                  #set inst.attr.2\n",
    "        print('created instance for :',self.name)\n",
    "    def updatePhone(self,newph):         #define method\n",
    "        self.phone = newph\n",
    "        print('updated phone # for :',self.name)"
   ]
  },
  {
   "cell_type": "code",
   "execution_count": 5,
   "metadata": {},
   "outputs": [],
   "source": [
    "class AddrBookEntryWithEmail(AddrBookEntry):\n",
    "    'update address book entry class'\n",
    "    def __init__(self,nm,ph,em):\n",
    "        AddrBookEntry.__init__(self,nm,ph)\n",
    "        self.email = em\n",
    "    def updateEmail(self,newem):\n",
    "        self.email = newem\n",
    "        print('updated e-mail address for :',self.name)\n",
    "        "
   ]
  },
  {
   "cell_type": "code",
   "execution_count": 6,
   "metadata": {},
   "outputs": [
    {
     "name": "stdout",
     "output_type": "stream",
     "text": [
      "created instance for : John Doe\n"
     ]
    }
   ],
   "source": [
    "john=AddrBookEntryWithEmail('John Doe','1234567890','john123@spam.doe')"
   ]
  },
  {
   "cell_type": "code",
   "execution_count": 7,
   "metadata": {},
   "outputs": [
    {
     "data": {
      "text/plain": [
       "<__main__.AddrBookEntryWithEmail at 0x143c8e2cca0>"
      ]
     },
     "execution_count": 7,
     "metadata": {},
     "output_type": "execute_result"
    }
   ],
   "source": [
    "john"
   ]
  },
  {
   "cell_type": "code",
   "execution_count": 8,
   "metadata": {},
   "outputs": [
    {
     "data": {
      "text/plain": [
       "'John Doe'"
      ]
     },
     "execution_count": 8,
     "metadata": {},
     "output_type": "execute_result"
    }
   ],
   "source": [
    "john.name"
   ]
  },
  {
   "cell_type": "code",
   "execution_count": 9,
   "metadata": {},
   "outputs": [
    {
     "data": {
      "text/plain": [
       "'1234567890'"
      ]
     },
     "execution_count": 9,
     "metadata": {},
     "output_type": "execute_result"
    }
   ],
   "source": [
    "john.phone"
   ]
  },
  {
   "cell_type": "code",
   "execution_count": 10,
   "metadata": {},
   "outputs": [
    {
     "data": {
      "text/plain": [
       "'john123@spam.doe'"
      ]
     },
     "execution_count": 10,
     "metadata": {},
     "output_type": "execute_result"
    }
   ],
   "source": [
    "john.email"
   ]
  },
  {
   "cell_type": "code",
   "execution_count": 11,
   "metadata": {},
   "outputs": [
    {
     "name": "stdout",
     "output_type": "stream",
     "text": [
      "updated phone # for : John Doe\n"
     ]
    }
   ],
   "source": [
    "john.updatePhone('9876543210')"
   ]
  },
  {
   "cell_type": "code",
   "execution_count": 12,
   "metadata": {},
   "outputs": [
    {
     "data": {
      "text/plain": [
       "'9876543210'"
      ]
     },
     "execution_count": 12,
     "metadata": {},
     "output_type": "execute_result"
    }
   ],
   "source": [
    "john.phone"
   ]
  },
  {
   "cell_type": "code",
   "execution_count": 13,
   "metadata": {},
   "outputs": [
    {
     "name": "stdout",
     "output_type": "stream",
     "text": [
      "updated e-mail address for : John Doe\n"
     ]
    }
   ],
   "source": [
    "john.updateEmail('john2314@spam.doe')"
   ]
  },
  {
   "cell_type": "code",
   "execution_count": 14,
   "metadata": {},
   "outputs": [
    {
     "data": {
      "text/plain": [
       "'john2314@spam.doe'"
      ]
     },
     "execution_count": 14,
     "metadata": {},
     "output_type": "execute_result"
    }
   ],
   "source": [
    "john.email"
   ]
  },
  {
   "cell_type": "code",
   "execution_count": 2,
   "metadata": {},
   "outputs": [],
   "source": [
    "# __bases__class Attribute\n",
    "\n",
    "class A:pass       #define class A\n",
    "class B(A):pass         #subclass of A\n",
    "class C(B):pass         #subclass of B(and indirectly ,A)\n"
   ]
  },
  {
   "cell_type": "code",
   "execution_count": 3,
   "metadata": {},
   "outputs": [
    {
     "data": {
      "text/plain": [
       "(__main__.B,)"
      ]
     },
     "execution_count": 3,
     "metadata": {},
     "output_type": "execute_result"
    }
   ],
   "source": [
    "C.__bases__"
   ]
  },
  {
   "cell_type": "code",
   "execution_count": 1,
   "metadata": {},
   "outputs": [
    {
     "name": "stdout",
     "output_type": "stream",
     "text": [
      "----------------------------------------------\n",
      "1. New Customer\n",
      "2. Deposit\n",
      "3. Withdrawal\n",
      "4. Display\n",
      "5. Exit\n",
      "Enter your choice :1\n",
      "----------------------------------------------\n",
      "Enter Name :ABHI\n",
      "Enter Account Number :1234\n",
      "Enter Account type(SB/C) :C\n",
      "Enter the amount :13000\n",
      "----------------------------------------------\n",
      "1. New Customer\n",
      "2. Deposit\n",
      "3. Withdrawal\n",
      "4. Display\n",
      "5. Exit\n",
      "Enter your choice :2\n",
      "----------------------------------------------\n",
      "Enter the amount to be deposited :2000\n",
      "----------------------------------------------\n",
      "1. New Customer\n",
      "2. Deposit\n",
      "3. Withdrawal\n",
      "4. Display\n",
      "5. Exit\n",
      "Enter your choice :4\n",
      "----------------------------------------------\n",
      "Customer Name : ABHI\n",
      "Account Number : 1234\n",
      "Account Type : C\n",
      "Balance Amount 15000\n",
      "----------------------------------------------\n",
      "1. New Customer\n",
      "2. Deposit\n",
      "3. Withdrawal\n",
      "4. Display\n",
      "5. Exit\n",
      "Enter your choice :3\n",
      "----------------------------------------------\n",
      "Enter the amount to be withdrawn :1000\n",
      "----------------------------------------------\n",
      "1. New Customer\n",
      "2. Deposit\n",
      "3. Withdrawal\n",
      "4. Display\n",
      "5. Exit\n",
      "Enter your choice :4\n",
      "----------------------------------------------\n",
      "Customer Name : ABHI\n",
      "Account Number : 1234\n",
      "Account Type : C\n",
      "Balance Amount 14000\n",
      "----------------------------------------------\n",
      "1. New Customer\n",
      "2. Deposit\n",
      "3. Withdrawal\n",
      "4. Display\n",
      "5. Exit\n",
      "Enter your choice :5\n",
      "----------------------------------------------\n",
      "Program Terminated\n"
     ]
    }
   ],
   "source": [
    "# problem 4 \n",
    "\n",
    "# create a bank account with members account number,name,type of account and balence.Write constructor and methods to deposit \n",
    "#at the bank and withdraw an amount from the bank.\n",
    "\n",
    "class Customer:\n",
    "    'common base class for Customer'\n",
    "    def __init__(self,name,accno,acctype,balance):\n",
    "        self.name = name\n",
    "        self.accno = accno\n",
    "        self.acctype = acctype\n",
    "        self.balance = balance\n",
    "    def displayCustomer(self):\n",
    "        print(\"Customer Name :\",self.name)\n",
    "        print(\"Account Number :\",self.accno)\n",
    "        print(\"Account Type :\",self.acctype)\n",
    "        print(\"Balance Amount\",self.balance)\n",
    "    def deposit(self,amount):\n",
    "        self.balance = self.balance+amount\n",
    "    def withdrawal(self,amount):\n",
    "        if self.balance-amount<0: \n",
    "            print(\"Insufficiant Funds\")\n",
    "        else:\n",
    "            self.balance=self.balance-amount\n",
    "            \n",
    "ch = 0\n",
    "while ch!=5:\n",
    "    print(\"----------------------------------------------\")\n",
    "    print(\"1. New Customer\")\n",
    "    print(\"2. Deposit\")\n",
    "    print(\"3. Withdrawal\")\n",
    "    print(\"4. Display\")\n",
    "    print(\"5. Exit\")\n",
    "    ch = int(input(\"Enter your choice :\"))\n",
    "    print(\"----------------------------------------------\")\n",
    "    if ch==1:\n",
    "       \n",
    "        n=input(\"Enter Name :\")\n",
    "        no=int(input(\"Enter Account Number :\"))\n",
    "        t=input(\"Enter Account type(SB/C) :\")\n",
    "        b=int(input(\"Enter the amount :\"))\n",
    "        obj=Customer(n,no,t,b)\n",
    "    if ch==2:\n",
    "        b=int(input(\"Enter the amount to be deposited :\"))\n",
    "        obj.deposit(b)\n",
    "    if ch==3:\n",
    "        b=int(input(\"Enter the amount to be withdrawn :\"))\n",
    "        obj.withdrawal(b)\n",
    "    if ch==4:\n",
    "        obj.displayCustomer()\n",
    "else:\n",
    "    print(\"Program Terminated\")\n"
   ]
  },
  {
   "cell_type": "code",
   "execution_count": 6,
   "metadata": {},
   "outputs": [
    {
     "name": "stdout",
     "output_type": "stream",
     "text": [
      "......details.......\n",
      "name of book: PAATHUMMAYUDE AAD\n",
      "title: NOVEL\n",
      "auther of book: VAIKKAM MUHAMMED BASHEER\n",
      "price of book: 200\n",
      "no of pages in book: 100\n"
     ]
    }
   ],
   "source": [
    "# problem 5\n",
    "\n",
    "#CREATE A CLASS PUBLISHER (NAME).DERIVE CLASS BOOK FROM PUBLISHER WITH ATTRIBUTES TITLE AND AUTHOR.DERIVE CLASS PYTHON FROM\n",
    "#BOOK WITH ATTRIBUTES PRICE AND NUMBER OF PAGES.WRITE A PROGRAM THAT DISPLAYS INFORMATION ABOUT A PYTHON BOOK.USE BASE \n",
    "#CLASS CONSTRUCTOR INVOCATION.\n",
    "\n",
    "class publisher():\n",
    "    def __init__(self, name):\n",
    "        self.name=name\n",
    "class book(publisher):\n",
    "    def __init__(self, name,title,author):\n",
    "        publisher.__init__(self, name)\n",
    "        self.title = title\n",
    "        self.author = author\n",
    "class python(book):\n",
    "    def __init__(self, name,title,author,price,n):\n",
    "        book.__init__(self, name,title,author)\n",
    "        self.price = price\n",
    "        self.pages = n\n",
    "    def display(self):\n",
    "        print(\"......details.......\")\n",
    "        print(\"name of book:\",self.name)\n",
    "        print(\"title:\",self.title)\n",
    "        print(\"auther of book:\",self.author)\n",
    "        print(\"price of book:\",self.price)\n",
    "        print(\"no of pages in book:\",self.pages)\n",
    "\n",
    "b=python(\"PAATHUMMAYUDE AAD\",\"NOVEL\",\"VAIKKAM MUHAMMED BASHEER\",\"200\",\"100\")\n",
    "b.display()\n",
    "    "
   ]
  },
  {
   "cell_type": "code",
   "execution_count": 3,
   "metadata": {},
   "outputs": [
    {
     "data": {
      "text/plain": [
       "6"
      ]
     },
     "execution_count": 3,
     "metadata": {},
     "output_type": "execute_result"
    }
   ],
   "source": [
    "#method overriding\n",
    "class Parent(object):\n",
    "    def __init__(self):\n",
    "        self.value = 5\n",
    "\n",
    "    def get_value(self):\n",
    "        return self.value\n",
    "\n",
    "class Child(Parent):\n",
    "    def get_value(self):\n",
    "        return self.value + 1\n",
    "c = Child()\n",
    "c.get_value()"
   ]
  },
  {
   "cell_type": "code",
   "execution_count": 3,
   "metadata": {},
   "outputs": [
    {
     "name": "stdout",
     "output_type": "stream",
     "text": [
      "Hi, I am C-foo()\n"
     ]
    }
   ],
   "source": [
    "class P:\n",
    "    def foo(self):\n",
    "        print ('Hi, I am P-foo()')\n",
    "class C(P):\n",
    "    def foo(self):\n",
    "        print ('Hi, I am C-foo()')\n",
    "c = C()\n",
    "c.foo()"
   ]
  },
  {
   "cell_type": "code",
   "execution_count": 4,
   "metadata": {},
   "outputs": [
    {
     "name": "stdout",
     "output_type": "stream",
     "text": [
      "Hi, I am P-foo()\n"
     ]
    }
   ],
   "source": [
    "P. foo(c) #To call a base class method which is overridden in the subclass"
   ]
  },
  {
   "cell_type": "code",
   "execution_count": 5,
   "metadata": {},
   "outputs": [
    {
     "name": "stdout",
     "output_type": "stream",
     "text": [
      "Hi, I am P-foo()\n",
      "Hi, I am D-foo()\n"
     ]
    }
   ],
   "source": [
    "class D(P):\n",
    "    def foo(self):\n",
    "        super(D,self).foo() #provides the access to methods of the parent class which have been overridden in a child class \n",
    "        print ('Hi, I am D-foo()')\n",
    "d=D()   \n",
    "d.foo()"
   ]
  },
  {
   "cell_type": "code",
   "execution_count": 6,
   "metadata": {},
   "outputs": [
    {
     "name": "stdout",
     "output_type": "stream",
     "text": [
      "calling P's constructor\n",
      "calling C's constructor\n"
     ]
    }
   ],
   "source": [
    "#To invoke the base class __init__\n",
    "class P():\n",
    "    def __init__(self):\n",
    "        print (\"calling P's constructor\")\n",
    "class C(P):\n",
    "    def __init__(self):\n",
    "        P.__init__(self)\n",
    "        print (\"calling C's constructor\")\n",
    "\n",
    "c = C()"
   ]
  },
  {
   "cell_type": "code",
   "execution_count": 7,
   "metadata": {},
   "outputs": [
    {
     "name": "stdout",
     "output_type": "stream",
     "text": [
      "New Final Class\n",
      "Enter Name : janna\n",
      "Enter Code : 234\n",
      "Enter payment : 1345\n",
      "Enter Experience : 2\n",
      "Name :  janna\n",
      "Code :  234\n",
      "Payment :  1345\n",
      "Experience :  2\n"
     ]
    }
   ],
   "source": [
    "# problem 6\n",
    "\n",
    "# create a Program to implement the following.\n",
    "# Create a base class called Person consisting of name and code. Create 2 child classes\n",
    "\n",
    "# A) Account with member pay\n",
    "# B)Admin with experience\n",
    "\n",
    "# Create a class Employee with name, code, experience and pay by inheriting the above classes.\n",
    "\n",
    "class Person:\n",
    "    def getPerson(self,name,code):\n",
    "        self.name=name\n",
    "        self.code=code\n",
    "    def displayPerson(self):\n",
    "        print(\"Name : \",self.name)\n",
    "        print(\"Code : \",self.code)\n",
    "        \n",
    "class Account(Person):\n",
    "    def getAccount(self,pay):\n",
    "        self.pay=pay\n",
    "    def displayAccount(self):\n",
    "        print(\"Payment : \",self.pay)\n",
    "        \n",
    "class Admin(Person):\n",
    "    def getAdmin(self,exp):\n",
    "        self.exp=exp\n",
    "    def displayAdmin(self):\n",
    "        print(\"Experience : \",self.exp)        \n",
    "        \n",
    "class Employee(Account,Admin):\n",
    "    print(\"New Final Class\")\n",
    "    \n",
    "n=input(\"Enter Name : \")\n",
    "c=input(\"Enter Code : \")\n",
    "p=int(input(\"Enter payment : \"))\n",
    "e=int(input(\"Enter Experience : \"))\n",
    "obj=Employee()\n",
    "obj.getPerson(n,c)\n",
    "obj.getAccount(p)\n",
    "obj.getAdmin(e)\n",
    "obj.displayPerson()\n",
    "obj.displayAccount()\n",
    "obj.displayAdmin()"
   ]
  },
  {
   "cell_type": "code",
   "execution_count": 8,
   "metadata": {},
   "outputs": [
    {
     "name": "stdout",
     "output_type": "stream",
     "text": [
      "3\n",
      "PythonFor\n"
     ]
    }
   ],
   "source": [
    "#Overloading binary + operator\n",
    "class A:\n",
    "    def __init__(self, a):\n",
    "        self.a = a\n",
    "# adding two objects\n",
    "    def __add__(self, o):\n",
    "        return self.a + o.a\n",
    "\n",
    "ob1 = A(1)\n",
    "ob2 = A(2)\n",
    "ob3 = A(\"Python\")\n",
    "ob4 = A(\"For\")\n",
    "\n",
    "print(ob1 + ob2)\n",
    "print(ob3 + ob4)"
   ]
  },
  {
   "cell_type": "code",
   "execution_count": 9,
   "metadata": {},
   "outputs": [
    {
     "name": "stdout",
     "output_type": "stream",
     "text": [
      "(3, 5)\n"
     ]
    }
   ],
   "source": [
    "# Python Program to perform addition of two complex numbers using binary + operator overloading.\n",
    "class complex:\n",
    "    def __init__(self, a, b):\n",
    "        self.a = a\n",
    "        self.b = b\n",
    "\n",
    "# adding two objects\n",
    "    def __add__(self, other):\n",
    "        return self.a + other.a, self.b + other.b\n",
    "    def __str__(self):\n",
    "        return self.a, self.b\n",
    "Ob1 = complex(1, 2)\n",
    "Ob2 = complex(2, 3)\n",
    "Ob3 = Ob1 + Ob2\n",
    "print(Ob3)    "
   ]
  },
  {
   "cell_type": "code",
   "execution_count": 10,
   "metadata": {},
   "outputs": [
    {
     "name": "stdout",
     "output_type": "stream",
     "text": [
      "ob2 is greater than ob1\n"
     ]
    }
   ],
   "source": [
    "#Overloading comparison operators in Python\n",
    "class A:\n",
    "    def __init__(self, a):\n",
    "        self.a = a\n",
    "    def __gt__(self, other):\n",
    "        if(self.a>other.a):\n",
    "            return True\n",
    "        else:\n",
    "            return False\n",
    "\n",
    "ob1 = A(2)\n",
    "ob2 = A(3)\n",
    "if(ob1>ob2):\n",
    "    print(\"ob1 is greater than ob2\")\n",
    "else:\n",
    "    print(\"ob2 is greater than ob1\")"
   ]
  },
  {
   "cell_type": "code",
   "execution_count": 7,
   "metadata": {},
   "outputs": [
    {
     "name": "stdout",
     "output_type": "stream",
     "text": [
      "1st Rectangle is larger than the 2nd Rectangle \n"
     ]
    }
   ],
   "source": [
    "# problem 7\n",
    "\n",
    "# Create a class Rectangle with private attributes length and width. Overload ‘<’ operator to compare the area of \n",
    "# 2 rectangles.\n",
    "class Rectangle:\n",
    "    def __init__(self,l,w):\n",
    "        self.l = l\n",
    "        self.w = w\n",
    "    def __lt__(self,other):\n",
    "        area1=self.l*self.w\n",
    "        area2=other.l*other.w\n",
    "        if(area1<area2):\n",
    "            return True\n",
    "        else:\n",
    "            return False\n",
    "        \n",
    "r1 = Rectangle(5,6) \n",
    "r2 = Rectangle(8,3)\n",
    "if(r1<r2):\n",
    "    print(\"2nd Rectangle is larger than the 1st Rectangle \")\n",
    "else:\n",
    "    print(\"1st Rectangle is larger than the 2nd Rectangle \")"
   ]
  },
  {
   "cell_type": "code",
   "execution_count": 8,
   "metadata": {},
   "outputs": [
    {
     "name": "stdout",
     "output_type": "stream",
     "text": [
      "\t\t\t\thour,minut,second\n",
      "adding time: (9, 50, 45)\n"
     ]
    }
   ],
   "source": [
    "#8.... Create a class Time with private attributes hour, minute and second.\n",
    "#Overload ‘+’ operator to find sum of 2 time.\n",
    "class time:\n",
    "    def __init__(self,h,m,s):\n",
    "        self.hour=h\n",
    "        self.minut=m\n",
    "        self.second=s\n",
    "    def __add__(self,other):\n",
    "        h=self.hour + other.hour \n",
    "        m=self.minut + other.minut \n",
    "        s=self.second + other.second\n",
    "        if (s>=60):\n",
    "            m=m+1\n",
    "            s=s-60\n",
    "            \n",
    "        if (m>=60):\n",
    "            h=h+1\n",
    "            m=m-60\n",
    "        return h,m,s   \n",
    "        \n",
    "print(\"\\t\\t\\t\\thour,minut,second\")\n",
    "tym1=time(3,20,5)\n",
    "tym2=time(6,30,40)\n",
    "add = tym1 + tym2\n",
    "\n",
    "print(\"adding time:\",add)"
   ]
  },
  {
   "cell_type": "code",
   "execution_count": null,
   "metadata": {},
   "outputs": [],
   "source": []
  }
 ],
 "metadata": {
  "kernelspec": {
   "display_name": "Python 3",
   "language": "python",
   "name": "python3"
  },
  "language_info": {
   "codemirror_mode": {
    "name": "ipython",
    "version": 3
   },
   "file_extension": ".py",
   "mimetype": "text/x-python",
   "name": "python",
   "nbconvert_exporter": "python",
   "pygments_lexer": "ipython3",
   "version": "3.8.5"
  }
 },
 "nbformat": 4,
 "nbformat_minor": 4
}
