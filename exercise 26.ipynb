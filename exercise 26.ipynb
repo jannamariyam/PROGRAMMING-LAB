{
 "cells": [
  {
   "cell_type": "code",
   "execution_count": 7,
   "metadata": {},
   "outputs": [
    {
     "ename": "ZeroDivisionError",
     "evalue": "division by zero",
     "output_type": "error",
     "traceback": [
      "\u001b[0;31m---------------------------------------------------------------------------\u001b[0m",
      "\u001b[0;31mZeroDivisionError\u001b[0m                         Traceback (most recent call last)",
      "\u001b[0;32m<ipython-input-7-37ec7996f38a>\u001b[0m in \u001b[0;36m<module>\u001b[0;34m()\u001b[0m\n\u001b[1;32m      3\u001b[0m \u001b[0ma\u001b[0m \u001b[0;34m=\u001b[0m \u001b[0;36m8\u001b[0m\u001b[0;34m\u001b[0m\u001b[0m\n\u001b[1;32m      4\u001b[0m \u001b[0mb\u001b[0m \u001b[0;34m=\u001b[0m \u001b[0;36m0\u001b[0m\u001b[0;34m\u001b[0m\u001b[0m\n\u001b[0;32m----> 5\u001b[0;31m \u001b[0mc\u001b[0m\u001b[0;34m=\u001b[0m \u001b[0ma\u001b[0m\u001b[0;34m/\u001b[0m\u001b[0mb\u001b[0m\u001b[0;34m\u001b[0m\u001b[0m\n\u001b[0m\u001b[1;32m      6\u001b[0m \u001b[0mprint\u001b[0m \u001b[0;34m(\u001b[0m\u001b[0;34m\"c\"\u001b[0m\u001b[0;34m)\u001b[0m\u001b[0;34m\u001b[0m\u001b[0m\n",
      "\u001b[0;31mZeroDivisionError\u001b[0m: division by zero"
     ]
    }
   ],
   "source": [
    "#1.WRITE A PROGRAM TO HANDLE ZERO DIVISSION ERROR,WHICH MAY ARISE WHEN TWO NUMBERS ARE BEING DIVIDED\n",
    "\n",
    "a = 8\n",
    "b = 0\n",
    "c= a/b\n",
    "print (\"c\")\n"
   ]
  },
  {
   "cell_type": "code",
   "execution_count": 8,
   "metadata": {},
   "outputs": [
    {
     "name": "stdout",
     "output_type": "stream",
     "text": [
      "Enter your first number :8\n",
      "enter your second number :0\n",
      "Division by zero error occured\n"
     ]
    }
   ],
   "source": [
    "try:\n",
    "    a=int(input(\"Enter your first number :\"))\n",
    "    b=int(input(\"enter your second number :\"))\n",
    "    result=a/b\n",
    "    print(\"result :\",result)\n",
    "except ZeroDivisionError:\n",
    "    print(\"Division by zero error occured\")"
   ]
  },
  {
   "cell_type": "code",
   "execution_count": 8,
   "metadata": {},
   "outputs": [
    {
     "name": "stdout",
     "output_type": "stream",
     "text": [
      "Enter your first number :8\n",
      "Enter your second number :t\n",
      "Division by zero error occured and non digit is error\n"
     ]
    }
   ],
   "source": [
    "#2.HANDLE MULTIPLE EXCEPTIONS ZERO DIVISION ERROR,VALUE ERROR\n",
    "\n",
    "try:\n",
    "    a=int(input(\"Enter your first number :\"))\n",
    "    b=int(input(\"Enter your second number :\"))\n",
    "    result=a/b\n",
    "    print(\"result :\",result)\n",
    "except (ZeroDivisionError,ValueError):\n",
    "    print(\"Division by zero error occured and non digit is error\")"
   ]
  },
  {
   "cell_type": "code",
   "execution_count": null,
   "metadata": {},
   "outputs": [
    {
     "name": "stdout",
     "output_type": "stream",
     "text": [
      "Enter a number :3\n",
      "value is too small\n",
      "Enter a number :46\n",
      "value is too large\n",
      "Enter a number :30\n",
      "value is too large\n",
      "Enter a number :20\n",
      "value is too large\n",
      "Enter a number :10\n",
      "you guesssed it right\n"
     ]
    }
   ],
   "source": [
    "#3.CREATE A USER DEEFINED EXCEPTION VALUE TO A SMALL ERROR,VALUE TOO LARGE ERROR WHEN A USER TYPES A \n",
    "#NUMBER SMALLER THAN THE GIVEN NUMBER,LARGER THAN THE GIVEN NUMBER RESPECTIVELY.HANDLE THESE ERRORS APPROPRIATELY\n",
    "\n",
    "class Error(Exception):\n",
    "    'Base class for other exception'\n",
    "    pass\n",
    "class ValueTooSmallError(Error):\n",
    "    pass\n",
    "class ValueTooLargeError(Error):\n",
    "    pass\n",
    "num=10\n",
    "while True:\n",
    "    try:\n",
    "        in_num=int(input(\"Enter a number :\"))\n",
    "        if in_num<num:\n",
    "            raise ValueTooSmallError\n",
    "        elif in_num>num:\n",
    "            raise ValueTooLargeError\n",
    "        break\n",
    "    except ValueTooSmallError:\n",
    "        print(\"value is too small\")\n",
    "    except ValueTooLargeError:\n",
    "        print(\"value is too large\")\n",
    "print(\"you guesssed it right\") "
   ]
  },
  {
   "cell_type": "code",
   "execution_count": 4,
   "metadata": {},
   "outputs": [
    {
     "name": "stdout",
     "output_type": "stream",
     "text": [
      "list of four even digits perfect square Numbers is : [4624, 6084, 6400, 8464]\n"
     ]
    }
   ],
   "source": [
    "#4.GENERATE A LIST OF FOUR DIGIT NUMBER IN A GIVEN RANGE WITH ALL THEIR DIGITS EVEN AND THE \n",
    "#NUMBER IS  PERFECT SQUARE\n",
    "\n",
    "import math\n",
    "l=[]\n",
    "for i in range(1000,10000):\n",
    "    if(math.sqrt(i)==int(math.sqrt(i))):#checking whether a number is perfect square\n",
    "        c=0#count variable\n",
    "        x=i\n",
    "        #print(i)\n",
    "        while(i>0):\n",
    "            r=i%10\n",
    "            if(r%2==0):\n",
    "                c+=1\n",
    "            i=int(i/10)\n",
    "            if(c==4):\n",
    "                l.append(x)   #added to the list when c=4\n",
    "print(\"list of four even digits perfect square Numbers is :\",l)"
   ]
  },
  {
   "cell_type": "code",
   "execution_count": 2,
   "metadata": {},
   "outputs": [
    {
     "name": "stdout",
     "output_type": "stream",
     "text": [
      "enter a string :according\n",
      "accordingly\n"
     ]
    }
   ],
   "source": [
    "#5.Add 'ing' at the end of a given string.If it already ends with 'ing' then add ly\n",
    "\n",
    "string = input(\"enter a string :\")\n",
    "def add_string(string):\n",
    "    length=len(string)\n",
    "    if string[-3:]=='ing':\n",
    "        string += 'ly'\n",
    "    else:\n",
    "        string += 'ing'\n",
    "    return string\n",
    "print(add_string(string))\n",
    "\n",
    "#output\n",
    "\n",
    "# enter a string :keep\n",
    "# keeping\n",
    "\n",
    "# enter a string :according\n",
    "# accordingly  "
   ]
  },
  {
   "cell_type": "code",
   "execution_count": 14,
   "metadata": {},
   "outputs": [
    {
     "name": "stdout",
     "output_type": "stream",
     "text": [
      "['10', '20', '30']\n",
      "['2', '4', '6']\n",
      "['3', '6', '9']\n"
     ]
    }
   ],
   "source": [
    "#6.Open a CSV file which contains three columns of number.Write out the data to a new CSV file,swapping around\n",
    "#the second and third column and adding a fourth column which contains the sum of first three \n",
    "\n",
    "import csv\n",
    "with open('nmbr.csv','r') as file:\n",
    "    reader=csv.reader(file)\n",
    "    for row in reader:\n",
    "        print(row)\n"
   ]
  },
  {
   "cell_type": "code",
   "execution_count": 13,
   "metadata": {},
   "outputs": [
    {
     "name": "stdout",
     "output_type": "stream",
     "text": [
      "\n",
      "Input File\n",
      "['10', '20', '30']\n",
      "['2', '4', '6']\n",
      "['3', '6', '9']\n",
      "\n",
      "Output File\n",
      "['10', '30', '20', '60']\n",
      "['2', '6', '4', '12']\n",
      "['3', '9', '6', '18']\n"
     ]
    }
   ],
   "source": [
    "import csv\n",
    "print('\\nInput File')\n",
    "with open('nmbr.csv','r') as file,open('newnmbr.csv','w') as new_file:  #open input csv file in read mode\n",
    "                                                                        #open output csv file in write mode\n",
    "    reader=csv.reader(file)                          #read lines in input file\n",
    "    writer=csv.writer(new_file)                      #write lines in output file                \n",
    "    for row in reader:\n",
    "        print(row)                              #printng rows\n",
    "        s=int(row[0])+int(row[1])+int(row[2])   #condition to sum elements in each row\n",
    "        writer.writerow([row[0],row[2],row[1],s])  #write the elements of output file\n",
    "        \n",
    "print('\\nOutput File')\n",
    "with open('newnmbr.csv','r') as new_file:\n",
    "    reader=csv.reader(new_file)\n",
    "    for row in reader:\n",
    "        print(row)"
   ]
  },
  {
   "cell_type": "code",
   "execution_count": null,
   "metadata": {},
   "outputs": [],
   "source": []
  },
  {
   "cell_type": "code",
   "execution_count": null,
   "metadata": {
    "collapsed": true
   },
   "outputs": [],
   "source": []
  }
 ],
 "metadata": {
  "kernelspec": {
   "display_name": "Python 3",
   "language": "python",
   "name": "python3"
  },
  "language_info": {
   "codemirror_mode": {
    "name": "ipython",
    "version": 3
   },
   "file_extension": ".py",
   "mimetype": "text/x-python",
   "name": "python",
   "nbconvert_exporter": "python",
   "pygments_lexer": "ipython3",
   "version": "3.6.3"
  }
 },
 "nbformat": 4,
 "nbformat_minor": 2
}
