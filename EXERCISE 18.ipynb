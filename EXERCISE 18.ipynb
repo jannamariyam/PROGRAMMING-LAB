{
 "cells": [
  {
   "cell_type": "code",
   "execution_count": 1,
   "metadata": {},
   "outputs": [
    {
     "name": "stdout",
     "output_type": "stream",
     "text": [
      "Area of rectangle : 20\n",
      "Perimeter of rectangle : 18\n",
      "Area of circle : 28.274333882308138\n",
      "Perimeter of circle : 18.84955592153876\n"
     ]
    }
   ],
   "source": [
    "#CREATE MODULES RECTANGLE,CIRCLE INCLUDE METHODS TO FIND AREA AND PERIMETER OF RESPECTIVE FIGURES IN EACH MODULE\n",
    "#WRITE PROGRAMS THAT FINDS AREA AND PERIMETER OF FIGURES BY DIFFERENT IMPORTING STATEMENTS.(INCLUDE SELECTIVE IMPORT OF \n",
    "#MODULES AND IMPORT * STATEMENTS)\n",
    "\n",
    "import rectangle\n",
    "import circle\n",
    " \n",
    "print(\"Area of rectangle :\",rectangle.rArea(4,5))\n",
    "print(\"Perimeter of rectangle :\",rectangle.rPrmtr(4,5))\n",
    "\n",
    "print(\"Area of circle :\",circle.cArea(3))\n",
    "print(\"Perimeter of circle :\",circle.cPrmtr(3))\n",
    "\n"
   ]
  },
  {
   "cell_type": "code",
   "execution_count": 1,
   "metadata": {},
   "outputs": [
    {
     "name": "stdout",
     "output_type": "stream",
     "text": [
      "5\n"
     ]
    }
   ],
   "source": [
    "#example\n",
    "\n",
    "import test\n",
    "print(test.sum(2,3))"
   ]
  },
  {
   "cell_type": "code",
   "execution_count": 3,
   "metadata": {},
   "outputs": [
    {
     "name": "stdout",
     "output_type": "stream",
     "text": [
      "The value of pi is 3.141592653589793\n"
     ]
    }
   ],
   "source": [
    "#example\n",
    "\n",
    "import math as m\n",
    "print(\"The value of pi is\",m.pi)"
   ]
  },
  {
   "cell_type": "code",
   "execution_count": null,
   "metadata": {},
   "outputs": [],
   "source": []
  }
 ],
 "metadata": {
  "kernelspec": {
   "display_name": "Python 3",
   "language": "python",
   "name": "python3"
  },
  "language_info": {
   "codemirror_mode": {
    "name": "ipython",
    "version": 3
   },
   "file_extension": ".py",
   "mimetype": "text/x-python",
   "name": "python",
   "nbconvert_exporter": "python",
   "pygments_lexer": "ipython3",
   "version": "3.8.5"
  }
 },
 "nbformat": 4,
 "nbformat_minor": 4
}
