{
 "cells": [
  {
   "cell_type": "code",
   "execution_count": 4,
   "metadata": {},
   "outputs": [
    {
     "name": "stdout",
     "output_type": "stream",
     "text": [
      "enter a number,n :3\n",
      "The value of 3 + 33 + 333 is : 369\n"
     ]
    }
   ],
   "source": [
    "#PROGRAM TO ACCEPTS AN INTEGER(n) AND COMPUTES THE VALUE OF n+nn+nnn\n",
    "#returns sum of n+nn+nnn\n",
    "#To insert input values\n",
    "n=int(input(\"enter a number,n :\"))\n",
    "n1=int(\"%s\"%n)\n",
    "n2=int(\"%s%s\"%(n,n))\n",
    "n3=int(\"%s%s%s\"%(n,n,n))\n",
    "#applying in equation\n",
    "sum=n1+n2+n3\n",
    "print(\"The value of\",n1,\"+\",n2,\"+\",n3,\"is :\",sum)\n",
    "\n",
    "\n",
    "    \n",
    " \n",
    "    "
   ]
  },
  {
   "cell_type": "code",
   "execution_count": 5,
   "metadata": {},
   "outputs": [
    {
     "name": "stdout",
     "output_type": "stream",
     "text": [
      "Enter your first name :Janna\n",
      "Enter your last name :Mariyam\n",
      " Mariyam   Janna\n"
     ]
    }
   ],
   "source": [
    "#program for input first and last name and print first and last name in reverse order with a space between them\n",
    "first_name=str(input(\"Enter your first name :\"))\n",
    "last_name=str(input(\"Enter your last name :\"))\n",
    "print(\"\",last_name,\" \",first_name)"
   ]
  },
  {
   "cell_type": "code",
   "execution_count": 1,
   "metadata": {},
   "outputs": [
    {
     "name": "stdout",
     "output_type": "stream",
     "text": [
      "The radius of the circle :4\n",
      "The area of the circle with radius 4.0 is 50.26548245743669\n"
     ]
    }
   ],
   "source": [
    "#program to input the radius of a circle and compute the area (import math)\n",
    "from math import pi\n",
    "r=float(input(\"The radius of the circle :\"))\n",
    "#applying into the equation\n",
    "A=pi*r**2\n",
    "print(\"The area of the circle with radius\",r,\"is\",A)\n"
   ]
  },
  {
   "cell_type": "markdown",
   "metadata": {},
   "source": [
    " "
   ]
  },
  {
   "cell_type": "code",
   "execution_count": null,
   "metadata": {},
   "outputs": [],
   "source": []
  },
  {
   "cell_type": "markdown",
   "metadata": {},
   "source": []
  },
  {
   "cell_type": "code",
   "execution_count": null,
   "metadata": {},
   "outputs": [],
   "source": []
  }
 ],
 "metadata": {
  "kernelspec": {
   "display_name": "Python 3",
   "language": "python",
   "name": "python3"
  },
  "language_info": {
   "codemirror_mode": {
    "name": "ipython",
    "version": 3
   },
   "file_extension": ".py",
   "mimetype": "text/x-python",
   "name": "python",
   "nbconvert_exporter": "python",
   "pygments_lexer": "ipython3",
   "version": "3.8.5"
  }
 },
 "nbformat": 4,
 "nbformat_minor": 4
}
