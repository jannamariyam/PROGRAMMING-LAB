{
 "cells": [
  {
   "cell_type": "code",
   "execution_count": 2,
   "metadata": {},
   "outputs": [
    {
     "name": "stdout",
     "output_type": "stream",
     "text": [
      "['SN', 'Name', 'City']\n",
      "['1', 'Michael', 'New Jersey']\n",
      "['2', 'Jack', 'California']\n"
     ]
    }
   ],
   "source": [
    "# program to read from a csv file \n",
    "\n",
    "import csv\n",
    "with open('newcsv.csv','r') as file:\n",
    "    reader = csv.reader(file)\n",
    "    for row in reader:\n",
    "        print(row)"
   ]
  },
  {
   "cell_type": "code",
   "execution_count": 3,
   "metadata": {},
   "outputs": [],
   "source": [
    "#program to write a csv file\n",
    "\n",
    "import csv\n",
    "with open('protagonist.csv','w',newline='')as file:\n",
    "    writer = csv.writer(file)\n",
    "    writer.writerow([\"SN\",\"Movie\",\"Protagonist\"])\n",
    "    writer.writerow([1,\"Lord of Rings\",\"Frodo Baggins\"])\n",
    "    writer.writerow([2,\"Harry Porter\",\"Harry Potter\"])"
   ]
  },
  {
   "cell_type": "code",
   "execution_count": 4,
   "metadata": {},
   "outputs": [
    {
     "name": "stdout",
     "output_type": "stream",
     "text": [
      "['SN', 'Movie', 'Protagonist']\n",
      "['1', 'Lord of Rings', 'Frodo Baggins']\n",
      "['2', 'Harry Porter', 'Harry Potter']\n"
     ]
    }
   ],
   "source": [
    "import csv\n",
    "with open('protagonist.csv','r') as file:\n",
    "    reader = csv.reader(file)\n",
    "    for row in reader:\n",
    "        print(row)"
   ]
  },
  {
   "cell_type": "code",
   "execution_count": 6,
   "metadata": {},
   "outputs": [],
   "source": [
    "#program to write a csv file using writerows\n",
    "\n",
    "import csv\n",
    "csv_rowlist = [[\"SN\",\"Movie\",\"Protagonist\"],[3,\"Lord of the Rings\",\"Frodo Baggins\"],[4,\"Harry Potter\",\"Harry Potter\"]]\n",
    "with open('new_protagonist.csv','w',newline='')as file:\n",
    "    writer = csv.writer(file)\n",
    "    writer.writerows(csv_rowlist)"
   ]
  },
  {
   "cell_type": "code",
   "execution_count": 7,
   "metadata": {},
   "outputs": [
    {
     "name": "stdout",
     "output_type": "stream",
     "text": [
      "['SN', 'Movie', 'Protagonist']\n",
      "['3', 'Lord of the Rings', 'Frodo Baggins']\n",
      "['4', 'Harry Potter', 'Harry Potter']\n"
     ]
    }
   ],
   "source": [
    "import csv\n",
    "with open('new_protagonist.csv','r') as file:\n",
    "    reader= csv.reader(file)\n",
    "    for row in reader:\n",
    "        print(row)"
   ]
  },
  {
   "cell_type": "code",
   "execution_count": 8,
   "metadata": {},
   "outputs": [],
   "source": [
    "# above condition without newline=''\n",
    "\n",
    "import csv\n",
    "csv_rowlist = [[\"SN\",\"Movie\",\"Protagonist\"],[3,\"Lord of the Rings\",\"Frodo Baggins\"],[4,\"Harry Potter\",\"Harry Potter\"]]\n",
    "with open('new1_protogonist.csv','w') as file:\n",
    "    writer = csv.writer(file)\n",
    "    writer.writerows(csv_rowlist)\n",
    "    "
   ]
  },
  {
   "cell_type": "code",
   "execution_count": 31,
   "metadata": {},
   "outputs": [
    {
     "name": "stdout",
     "output_type": "stream",
     "text": [
      "['SN', 'Movie', 'Protagonist']\n",
      "[]\n",
      "['3', 'Lord of the Rings', 'Frodo Baggins']\n",
      "[]\n",
      "['4', 'Harry Potter', 'Harry Potter']\n",
      "[]\n"
     ]
    }
   ],
   "source": [
    "import csv\n",
    "with open('new1_protogonist.csv','r') as file:\n",
    "    reader=csv.reader(file)\n",
    "    for row in reader:\n",
    "        print(row)"
   ]
  },
  {
   "cell_type": "code",
   "execution_count": 38,
   "metadata": {},
   "outputs": [],
   "source": [
    "#write csv file having pipe delimiter\n",
    "\n",
    "import csv\n",
    "data_list=[[\"SN\",\"Name\",\"Contribution\"],\n",
    "           [1,\"Linux Torvalds\",\"Linux Kernel\"],\n",
    "           [2,\"Tim Berners-Lee\",\"World Wide Web\"], \n",
    "           [3,\"Guido van Rossum\",\"Python Programming\"]]\n",
    "with open('innovators.csv','w',newline='')as file:\n",
    "    writer = csv.writer(file,delimiter='|')\n",
    "    writer.writerows(data_list)"
   ]
  },
  {
   "cell_type": "code",
   "execution_count": 39,
   "metadata": {},
   "outputs": [
    {
     "name": "stdout",
     "output_type": "stream",
     "text": [
      "['SN|Name|Contribution']\n",
      "['1|Linux Torvalds|Linux Kernel']\n",
      "['2|Tim Berners-Lee|World Wide Web']\n",
      "['3|Guido van Rossum|Python Programming']\n"
     ]
    }
   ],
   "source": [
    "import csv\n",
    "with open('innovators.csv','r')as file:\n",
    "    reader = csv.reader(file)\n",
    "    for row in reader:\n",
    "        print(row)"
   ]
  },
  {
   "cell_type": "code",
   "execution_count": 11,
   "metadata": {},
   "outputs": [
    {
     "name": "stdout",
     "output_type": "stream",
     "text": [
      "{'Name': 'Jack', 'Age': '23', 'Profession': 'Doctor'}\n",
      "{'Name': 'Miller', 'Age': '22', 'Profession': 'Engineer'}\n"
     ]
    }
   ],
   "source": [
    "# read as dictionary\n",
    "\n",
    "import csv\n",
    "with open(\"peoples.csv\",'r')as file:\n",
    "    csv_file = csv.DictReader(file)\n",
    "    for row in csv_file:\n",
    "        print(dict(row))"
   ]
  },
  {
   "cell_type": "code",
   "execution_count": 16,
   "metadata": {},
   "outputs": [
    {
     "name": "stdout",
     "output_type": "stream",
     "text": [
      "1 5.5 10\n",
      "2 3.5 5\n"
     ]
    }
   ],
   "source": [
    "# read as dictionary\n",
    "\n",
    "import csv\n",
    "\n",
    "with open('values.csv','r')as f:\n",
    "    reader=csv.DictReader(f)\n",
    "    for row in reader:\n",
    "        print(row['min'],row['avg'],row['max'])"
   ]
  },
  {
   "cell_type": "code",
   "execution_count": 18,
   "metadata": {},
   "outputs": [
    {
     "name": "stdout",
     "output_type": "stream",
     "text": [
      "1 5.5\n",
      "2 3.5\n"
     ]
    }
   ],
   "source": [
    "# read as dictionary\n",
    "\n",
    "import csv\n",
    "\n",
    "with open('values.csv','r')as f:\n",
    "    \n",
    "    reader = csv.DictReader(f)\n",
    "    \n",
    "    for row in reader:\n",
    "        print(row['min'],row['avg'])\n"
   ]
  },
  {
   "cell_type": "code",
   "execution_count": 14,
   "metadata": {},
   "outputs": [],
   "source": [
    "# write as dictionary\n",
    "\n",
    "import csv\n",
    "\n",
    "with open('names.csv','w')as f:\n",
    "    \n",
    "    fnames = ['first_name','last_name']\n",
    "    writer = csv.DictWriter(f,fieldnames=fnames)\n",
    "    \n",
    "    writer.writeheader()\n",
    "    writer.writerow({'first_name':'John','last_name':'smith'})\n",
    "    writer.writerow({'first_name':'Robert','last_name':'Brown'})\n",
    "    writer.writerow({'first_name':'Julia','last_name':'Griffin'})"
   ]
  },
  {
   "cell_type": "code",
   "execution_count": 15,
   "metadata": {},
   "outputs": [
    {
     "name": "stdout",
     "output_type": "stream",
     "text": [
      "John smith\n",
      "Robert Brown\n",
      "Julia Griffin\n"
     ]
    }
   ],
   "source": [
    "import csv\n",
    "\n",
    "with open('names.csv','r')as f:\n",
    "    \n",
    "    reader = csv.DictReader(f)\n",
    "    \n",
    "    for row in reader:\n",
    "        print(row['first_name'],row['last_name'])"
   ]
  },
  {
   "cell_type": "code",
   "execution_count": 20,
   "metadata": {},
   "outputs": [],
   "source": [
    "# work \n",
    "# create an employee csv file with fields- EmployeeId,EmployeeName,DOB,,Salary.\n",
    "\n",
    "import csv\n",
    "with open('EmployeeDetails.csv','w',newline='')as file:\n",
    "    writer=csv.writer(file)\n",
    "    writer.writerow([\"EmployeeId\",\"EmployeeName\",\"DOB\",\"Salary\"])\n",
    "    writer.writerow([102,\"Arun\",\"12-01-1992\",\"45000\"])\n",
    "    writer.writerow([123,\"Sara\",\"05-07-1995\",\"34000\"])\n",
    "    writer.writerow([135,\"Abu Said\",\"06-02-1994\",\"52000\"])\n",
    "    writer.writerow([113,\"Lakshmi\",\"19-11-1990\",\"68000\"])"
   ]
  },
  {
   "cell_type": "code",
   "execution_count": 21,
   "metadata": {},
   "outputs": [
    {
     "name": "stdout",
     "output_type": "stream",
     "text": [
      "['EmployeeId', 'EmployeeName', 'DOB', 'Salary']\n",
      "['102', 'Arun', '12-01-1992', '45000']\n",
      "['123', 'Sara', '05-07-1995', '34000']\n",
      "['135', 'Abu Said', '06-02-1994', '52000']\n",
      "['113', 'Lakshmi', '19-11-1990', '68000']\n"
     ]
    }
   ],
   "source": [
    "import csv\n",
    "with open('EmployeeDetails.csv','r')as file:\n",
    "    reader = csv.reader(file)\n",
    "    for row in reader:\n",
    "        print(row)"
   ]
  },
  {
   "cell_type": "code",
   "execution_count": 29,
   "metadata": {},
   "outputs": [],
   "source": [
    "#work 1\n",
    "\n",
    "# write a python program to write a python dictionary to a csv file.After writing the csv file read the csv file and display \n",
    "# the content\n",
    "\n",
    "import csv\n",
    "\n",
    "with open('Employee.csv','w') as f:\n",
    "    fnames = ['EmployeeId','EmployeeName','DOB','Salary']\n",
    "    writer = csv.DictWriter(f,fieldnames=fnames)\n",
    "    \n",
    "    writer.writeheader()\n",
    "    writer.writerow({'EmployeeId':102,'EmployeeName':'Arun','DOB':'12-01-1992','Salary':\"45000\"})\n",
    "    writer.writerow({'EmployeeId':123,'EmployeeName':'Sara','DOB':'05-07-1995','Salary':'34000'})\n",
    "    writer.writerow({'EmployeeId':135,'EmployeeName':'Abu Said','DOB':'06-02-1994','Salary':'52000'})\n",
    "    writer.writerow({'EmployeeId':113,'EmployeeName':'Lakshmi','DOB':'19-11-1990','Salary':'68000'})\n",
    "    \n",
    "                     "
   ]
  },
  {
   "cell_type": "code",
   "execution_count": 30,
   "metadata": {},
   "outputs": [
    {
     "name": "stdout",
     "output_type": "stream",
     "text": [
      "102 Arun 12-01-1992 45000\n",
      "123 Sara 05-07-1995 34000\n",
      "135 Abu Said 06-02-1994 52000\n",
      "113 Lakshmi 19-11-1990 68000\n"
     ]
    }
   ],
   "source": [
    "#read as dictionary\n",
    "\n",
    "import csv\n",
    "\n",
    "with open('Employee.csv','r')as f:\n",
    "    \n",
    "    reader = csv.DictReader(f)\n",
    "    \n",
    "    for row in reader:\n",
    "        print(row['EmployeeId'],row['EmployeeName'],row['DOB'],row['Salary'])"
   ]
  },
  {
   "cell_type": "code",
   "execution_count": 40,
   "metadata": {},
   "outputs": [],
   "source": [
    "#work 2\n",
    "\n",
    "#python program to read each row from a given csv file and print a list of strings\n",
    "\n",
    "import csv\n",
    "data_list=[[\"EmployeeId\",\"EmployeeName\",\"DOB\",\"Salary\"],\n",
    "           [102,\"Arun\",\"12-01-1992\",\"45000\"],\n",
    "           [123,\"Sara\",\"05-07-1995\",\"34000\"],\n",
    "           [135,\"Abu Said\",\"06-02-1994\",\"52000\"],\n",
    "           [113,\"Lakshmi\",\"19-11-1990\",\"68000\"]]\n",
    "with open('EmployeeDetails.csv','w',newline='')as file:\n",
    "    writer = csv.writer(file,delimiter='|')\n",
    "    writer.writerows(data_list)\n",
    "\n"
   ]
  },
  {
   "cell_type": "code",
   "execution_count": 41,
   "metadata": {},
   "outputs": [
    {
     "name": "stdout",
     "output_type": "stream",
     "text": [
      "['EmployeeId|EmployeeName|DOB|Salary']\n",
      "['102|Arun|12-01-1992|45000']\n",
      "['123|Sara|05-07-1995|34000']\n",
      "['135|Abu Said|06-02-1994|52000']\n",
      "['113|Lakshmi|19-11-1990|68000']\n"
     ]
    }
   ],
   "source": [
    "import csv\n",
    "with open('EmployeeDetails.csv','r')as file:\n",
    "    reader = csv.reader(file)\n",
    "    for row in reader:\n",
    "        print(row)"
   ]
  },
  {
   "cell_type": "code",
   "execution_count": 44,
   "metadata": {},
   "outputs": [],
   "source": [
    "#work 3\n",
    "\n",
    "#create a department csv file with fields - DeptId, DeptName, Totalemployees, location.\n",
    "\n",
    "import csv\n",
    "with open('department.csv','w',newline='')as file:\n",
    "    writer=csv.writer(file)\n",
    "    writer.writerow([\"DeptId\",\"DeptName\",\"Totalemployees\",\"location\"])\n",
    "    writer.writerow([13,\"Physics\",\"6\",\"North-East Block:First Floor\"])\n",
    "    writer.writerow([54,\"Chemistry\",\"7\",\"South Block:First Floor\"])\n",
    "    writer.writerow([24,\"Computer science\",\"6\",\"North Block:Second Floor\"])\n",
    "    writer.writerow([11,\"English\",\"12\",\"South Block:Third Floor\"])"
   ]
  },
  {
   "cell_type": "code",
   "execution_count": 46,
   "metadata": {},
   "outputs": [
    {
     "name": "stdout",
     "output_type": "stream",
     "text": [
      "['DeptId', 'DeptName', 'Totalemployees', 'location']\n",
      "['13', 'Physics', '6', 'North-East Block:First Floor']\n",
      "['54', 'Chemistry', '7', 'South Block:First Floor']\n",
      "['24', 'Computer science', '6', 'North Block:Second Floor']\n",
      "['11', 'English', '12', 'South Block:Third Floor']\n"
     ]
    }
   ],
   "source": [
    "import csv\n",
    "with open('department.csv','r')as file:\n",
    "    reader = csv.reader(file)\n",
    "    for row in reader:\n",
    "        print(row)"
   ]
  },
  {
   "cell_type": "code",
   "execution_count": null,
   "metadata": {},
   "outputs": [],
   "source": []
  },
  {
   "cell_type": "code",
   "execution_count": 47,
   "metadata": {},
   "outputs": [
    {
     "name": "stdout",
     "output_type": "stream",
     "text": [
      "13 Physics\n",
      "54 Chemistry\n",
      "24 Computer science\n",
      "11 English\n"
     ]
    }
   ],
   "source": [
    "#Write a python program to read specific columns(DeptId,DeptName) of the given csv file and print the content of the columns\n",
    "\n",
    "import csv\n",
    "\n",
    "with open('department.csv','r')as f:\n",
    "    \n",
    "    reader = csv.DictReader(f)\n",
    "    \n",
    "    for row in reader:\n",
    "        print(row['DeptId'],row['DeptName'])"
   ]
  },
  {
   "cell_type": "code",
   "execution_count": 1,
   "metadata": {},
   "outputs": [
    {
     "name": "stdout",
     "output_type": "stream",
     "text": [
      "python\n",
      "so\n",
      "\n"
     ]
    }
   ],
   "source": [
    "# work 4\n",
    "\n",
    "#python program to copy odd lines of one file to another\n",
    "fn = open('first.txt','r')     #open file in read mode\n",
    "fn1 = open('second.txt','w')   #open another file in write mode\n",
    "cont = fn.readlines()          #read the content of first file line by line\n",
    "type(cont)\n",
    "for i in range(0,len(cont)):\n",
    "    if(i%2==0):\n",
    "        fn1.write(cont[i])\n",
    "fn1.close()                   #close the file\n",
    "fn1=open('second.txt','r')    #open the file in read mode\n",
    "cont1=fn1.read()              #read the content of file\n",
    "print(cont1)                  #print the content\n",
    "fn.close()                    #close all files\n",
    "fn1.close()"
   ]
  },
  {
   "cell_type": "code",
   "execution_count": null,
   "metadata": {},
   "outputs": [],
   "source": []
  },
  {
   "cell_type": "code",
   "execution_count": null,
   "metadata": {},
   "outputs": [],
   "source": []
  }
 ],
 "metadata": {
  "kernelspec": {
   "display_name": "Python 3",
   "language": "python",
   "name": "python3"
  },
  "language_info": {
   "codemirror_mode": {
    "name": "ipython",
    "version": 3
   },
   "file_extension": ".py",
   "mimetype": "text/x-python",
   "name": "python",
   "nbconvert_exporter": "python",
   "pygments_lexer": "ipython3",
   "version": "3.8.5"
  }
 },
 "nbformat": 4,
 "nbformat_minor": 4
}
