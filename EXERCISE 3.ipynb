{
 "cells": [
  {
   "cell_type": "code",
   "execution_count": 6,
   "metadata": {},
   "outputs": [
    {
     "name": "stdout",
     "output_type": "stream",
     "text": [
      "Enter the temperature in celsius scale :37.5\n",
      "37.5 degree celsius is equal to 99.5 degree farenheit\n"
     ]
    }
   ],
   "source": [
    "#PYTHON PROGRAM TO CONVERT CELSIUS TO FARENHEIT[T(F)=(T(C)*9/5)+32]\n",
    "celsius=float(input(\"Enter the temperature in celsius scale :\"))\n",
    "#applying equation\n",
    "x=celsius*9/5\n",
    "farenheit=x+32\n",
    "#to print in farenheit\n",
    "print('%0.1f degree celsius is equal to %0.1f degree farenheit' %(celsius,farenheit))\n"
   ]
  },
  {
   "cell_type": "code",
   "execution_count": 2,
   "metadata": {},
   "outputs": [
    {
     "name": "stdout",
     "output_type": "stream",
     "text": [
      "Enter the distance in kilometers :5\n",
      "5.000 kilometers s equal to 3.107 miles\n"
     ]
    }
   ],
   "source": [
    "#PYTHON PROGRAM TO CONVERT KILOMETERS INTO MILES[1km=0.62137 miles]\n",
    "km=float(input(\"Enter the distance in kilometers :\"))\n",
    "#conversion factor\n",
    "conv_fac=0.621371\n",
    "#calculate miles\n",
    "miles=km*conv_fac\n",
    "print('%0.3f kilometers s equal to %0.3f miles'%(km,miles))\n",
    "\n"
   ]
  },
  {
   "cell_type": "code",
   "execution_count": 3,
   "metadata": {},
   "outputs": [
    {
     "name": "stdout",
     "output_type": "stream",
     "text": [
      "enter the value of x :5\n",
      "enter the value of y :2\n",
      "value of x : 2.0\n",
      "value of y : 5.0\n"
     ]
    }
   ],
   "source": [
    "#PYTHON PROGRAM TO SWAP TWO VARIABLES\n",
    "#to enter input values\n",
    "x=float(input(\"enter the value of x :\"))\n",
    "y=float(input(\"enter the value of y :\"))\n",
    "#swapping of two variables using arithemetic operations\n",
    "x=x+y\n",
    "y=x-y\n",
    "x=x-y\n",
    "#to print output\n",
    "print(\"value of x :\",x)\n",
    "print(\"value of y :\",y)"
   ]
  },
  {
   "cell_type": "code",
   "execution_count": null,
   "metadata": {},
   "outputs": [],
   "source": []
  }
 ],
 "metadata": {
  "kernelspec": {
   "display_name": "Python 3",
   "language": "python",
   "name": "python3"
  },
  "language_info": {
   "codemirror_mode": {
    "name": "ipython",
    "version": 3
   },
   "file_extension": ".py",
   "mimetype": "text/x-python",
   "name": "python",
   "nbconvert_exporter": "python",
   "pygments_lexer": "ipython3",
   "version": "3.8.5"
  }
 },
 "nbformat": 4,
 "nbformat_minor": 4
}
