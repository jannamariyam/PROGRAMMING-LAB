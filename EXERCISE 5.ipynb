{
 "cells": [
  {
   "cell_type": "code",
   "execution_count": 2,
   "metadata": {},
   "outputs": [
    {
     "name": "stdout",
     "output_type": "stream",
     "text": [
      "Enter the first number:5\n",
      "Enter the second number:7\n",
      "Enter the third number:8\n",
      "maximum number is: 8\n"
     ]
    }
   ],
   "source": [
    "#PROGRAM TO FIND THE BIGGEST OF THREE NUMBERS\n",
    "\n",
    "a=int(input(\"Enter the first number:\"))     #recieving the three input values\n",
    "b=int(input(\"Enter the second number:\"))\n",
    "c=int(input(\"Enter the third number:\"))\n",
    "\n",
    "print(\"maximum number is:\",max(a,b,c))  #printing maximum number using max()\n"
   ]
  },
  {
   "cell_type": "code",
   "execution_count": 3,
   "metadata": {},
   "outputs": [
    {
     "data": {
      "text/plain": [
       "'NYTHOP'"
      ]
     },
     "execution_count": 3,
     "metadata": {},
     "output_type": "execute_result"
    }
   ],
   "source": [
    "#PYTHON PROGRAM TO CHANGE A GIVEN STRING TO A NEW STRING WHERE THE FIRST AND LAST CHARECTERS HAVE BEEN CHANGED\n",
    "\n",
    "aString=\"PYTHON\"  \n",
    "aString[-1:]+aString[1:-1]+aString[:1]        \n"
   ]
  },
  {
   "cell_type": "code",
   "execution_count": 4,
   "metadata": {},
   "outputs": [
    {
     "data": {
      "text/plain": [
       "'Inan'"
      ]
     },
     "execution_count": 4,
     "metadata": {},
     "output_type": "execute_result"
    }
   ],
   "source": [
    "#PYTHON PROGRAM TO GET A STRING MADE OF THE FIRST 2 AND THE LAST 2 CHARECTERS FROM A GIVEN STRING\n",
    "\n",
    "aString=\"Indian\"    \n",
    "aString[0:2]+aString[-2:]       \n"
   ]
  },
  {
   "cell_type": "code",
   "execution_count": 5,
   "metadata": {},
   "outputs": [
    {
     "name": "stdout",
     "output_type": "stream",
     "text": [
      "String : abcd wxyz\n",
      "new_string : wxcd   abyz\n"
     ]
    }
   ],
   "source": [
    "#PYTHON PROGRAM TO GET A SINGLE STRING FROM 2 GIVEN STRINGS,SEPERATED BY A SPACE AND SWAP THE FIRST TWO CHARECTERS OF EACH STRING\n",
    "\n",
    "aString=\"abcd\"    #string 1\n",
    "bString=\"wxyz\"    #string 2\n",
    "print(\"String :\",aString+' '+bString)\n",
    "print(\"new_string :\",bString[:2]+aString[2:],' ',aString[:2]+bString[2:])   # printing new string\n"
   ]
  },
  {
   "cell_type": "code",
   "execution_count": 1,
   "metadata": {},
   "outputs": [
    {
     "name": "stdout",
     "output_type": "stream",
     "text": [
      "What is your name?\n",
      "Janna Mariyam K.C\n",
      "MY NAME IS : JANNA MARIYAM K.C\n",
      "My name is: janna mariyam k.c\n"
     ]
    }
   ],
   "source": [
    "#PROGRAM FOR A PYTHON SCRIPT THAT TAKES INPUT FROM THE USER AND DISPLAYS THAT INPUT BACK IN UPPER AND LOWER CASES\n",
    "\n",
    "users_input=input(\"What is your name?\\n\")            #giving information about what to recieve then recieve it\n",
    "\n",
    "print(\"MY NAME IS :\",users_input.upper())            #printing the recieved input in upper case\n",
    "\n",
    "print(\"My name is:\",users_input.lower())             #printing the recieved input in lower case"
   ]
  },
  {
   "cell_type": "code",
   "execution_count": null,
   "metadata": {},
   "outputs": [],
   "source": []
  }
 ],
 "metadata": {
  "kernelspec": {
   "display_name": "Python 3",
   "language": "python",
   "name": "python3"
  },
  "language_info": {
   "codemirror_mode": {
    "name": "ipython",
    "version": 3
   },
   "file_extension": ".py",
   "mimetype": "text/x-python",
   "name": "python",
   "nbconvert_exporter": "python",
   "pygments_lexer": "ipython3",
   "version": "3.8.5"
  }
 },
 "nbformat": 4,
 "nbformat_minor": 4
}
