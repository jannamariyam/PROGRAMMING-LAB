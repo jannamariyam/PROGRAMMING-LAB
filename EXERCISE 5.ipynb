{
 "cells": [
  {
   "cell_type": "code",
   "execution_count": 12,
   "metadata": {},
   "outputs": [
    {
     "name": "stdout",
     "output_type": "stream",
     "text": [
      "Enter the first number:3\n",
      "Enter the second number:5\n",
      "Enter the third number:6\n",
      "maximum number is: 6\n"
     ]
    }
   ],
   "source": [
    "#PROGRAM TO FIND THE BIGGEST OF THREE NUMBERS\n",
    "def maximum(a,b,c):                         #introducing maximum function\n",
    "    \n",
    "    x=[a,b,c]                               #Add 3 numbers to list\n",
    "    \n",
    "    return max(x)                           #return the highest value from given list\n",
    "\n",
    "a=int(input(\"Enter the first number:\"))     #recieving the three input values\n",
    "b=int(input(\"Enter the second number:\"))\n",
    "c=int(input(\"Enter the third number:\"))\n",
    "\n",
    "print(\"maximum number is:\",maximum(a,b,c))  #printing maximum number\n"
   ]
  },
  {
   "cell_type": "code",
   "execution_count": 9,
   "metadata": {},
   "outputs": [
    {
     "name": "stdout",
     "output_type": "stream",
     "text": [
      "nythop\n"
     ]
    }
   ],
   "source": [
    "#PYTHON PROGRAM TO CHANGE A GIVEN STRING TO A NEW STRING WHERE THE FIRST AND LAST CHARECTERS HAVE BEEN CHANGED\n",
    "\n",
    "def change_string(aString):                                #introducing the change string function\n",
    "    \n",
    "    return aString[-1:]+aString[1:-1]+aString[:1]          #return and add the last charecter with other charecters except first\n",
    "                                                              #and finally add the first char into it\n",
    "    \n",
    "print(change_string('python'))                             #printing the output after recieving the input string\n",
    "\n",
    "\n"
   ]
  },
  {
   "cell_type": "code",
   "execution_count": 3,
   "metadata": {},
   "outputs": [
    {
     "name": "stdout",
     "output_type": "stream",
     "text": [
      "Inan\n"
     ]
    }
   ],
   "source": [
    "#PYTHON PROGRAM TO GET A STRING MADE OF THE FIRST 2 AND THE LAST 2 CHARECTERS FROM A GIVEN STRING\n",
    "\n",
    "def new_string(aString):                   #introducing the new string function\n",
    "    \n",
    "    return aString[0:2]+aString[-2:]       #return and add the first 2 charecters and last 2 charecters of the string\n",
    "\n",
    "print(new_string('Indian'))                #printing the output after recieving the input string"
   ]
  },
  {
   "cell_type": "code",
   "execution_count": 4,
   "metadata": {},
   "outputs": [
    {
     "name": "stdout",
     "output_type": "stream",
     "text": [
      "wxcd abyz\n"
     ]
    }
   ],
   "source": [
    "#PYTHON PROGRAM TO GET A SINGLE STRING FROM 2 GIVEN STRINGS,SEPERATED BY A SPACE AND SWAP THE FIRST TWO CHARECTERS OF EACH STRING\n",
    "\n",
    "def char_mixing(p,q):                  #introducing the char mixing function\n",
    "    \n",
    "    new_p=q[0:2]+p[2:]                 #return p,q then interchange the first two terms of 2 strings\n",
    "    \n",
    "    new_q=p[0:2]+q[2:]\n",
    "    \n",
    "    return new_p+' '+new_q             #return the changed string seperated by a space\n",
    "\n",
    "print(char_mixing('abcd', 'wxyz'))     #printing the output\n",
    "\n"
   ]
  },
  {
   "cell_type": "code",
   "execution_count": 1,
   "metadata": {},
   "outputs": [
    {
     "name": "stdout",
     "output_type": "stream",
     "text": [
      "What is your name?\n",
      "Janna Mariyam K.C\n",
      "MY NAME IS : JANNA MARIYAM K.C\n",
      "My name is: janna mariyam k.c\n"
     ]
    }
   ],
   "source": [
    "#PROGRAM FOR A PYTHON SCRIPT THAT TAKES INPUT FROM THE USER AND DISPLAYS THAT INPUT BACK IN UPPER AND LOWER CASES\n",
    "\n",
    "users_input=input(\"What is your name?\\n\")            #giving information about what to recieve then recieve it\n",
    "\n",
    "print(\"MY NAME IS :\",users_input.upper())            #printing the recieved input in upper case\n",
    "\n",
    "print(\"My name is:\",users_input.lower())             #printing the recieved input in lower case"
   ]
  },
  {
   "cell_type": "code",
   "execution_count": null,
   "metadata": {},
   "outputs": [],
   "source": []
  }
 ],
 "metadata": {
  "kernelspec": {
   "display_name": "Python 3",
   "language": "python",
   "name": "python3"
  },
  "language_info": {
   "codemirror_mode": {
    "name": "ipython",
    "version": 3
   },
   "file_extension": ".py",
   "mimetype": "text/x-python",
   "name": "python",
   "nbconvert_exporter": "python",
   "pygments_lexer": "ipython3",
   "version": "3.8.5"
  }
 },
 "nbformat": 4,
 "nbformat_minor": 4
}
