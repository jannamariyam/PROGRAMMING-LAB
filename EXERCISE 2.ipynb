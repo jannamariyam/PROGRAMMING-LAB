{
 "cells": [
  {
   "cell_type": "code",
   "execution_count": 1,
   "metadata": {},
   "outputs": [
    {
     "name": "stdout",
     "output_type": "stream",
     "text": [
      "enter the value of n :3\n",
      "enter the number of terms for summation :3\n",
      "369\n"
     ]
    }
   ],
   "source": [
    "#PROGRAM TO ACCEPTS AN INTEGER(n) AND COMPUTES THE VALUE OF n+nn+nnn\n",
    "#returns sum of n+nn+nnn....\n",
    "def series(n,m):\n",
    "    #converting the number into string\n",
    "    str_n=str(n)\n",
    "    #initialising result as number and string\n",
    "    sums=n\n",
    "    sum_str=str(n)\n",
    "    #adding remaining terms\n",
    "    for i in range(1,m):\n",
    "        #concatenatng string making n,nn,nnn....\n",
    "        sum_str=sum_str+str_n\n",
    "        #before adding converting into integer\n",
    "        sums=sums+int(sum_str)\n",
    "    return sums\n",
    "#driver code\n",
    "n=int(input(\"enter the value of n :\"))\n",
    "m=int(input(\"enter the number of terms for summation :\"))\n",
    "total=series(n,m)\n",
    "print(total)\n",
    "\n",
    "    \n",
    " \n",
    "    "
   ]
  },
  {
   "cell_type": "code",
   "execution_count": 3,
   "metadata": {},
   "outputs": [
    {
     "name": "stdout",
     "output_type": "stream",
     "text": [
      "Enter your first name :Janna\n",
      "Enter your last name :Mariyam\n",
      " Mariyam   Janna\n"
     ]
    }
   ],
   "source": [
    "#program for input first and last name and print first and last name in reverse order with a space between them\n",
    "first_name=str(input(\"Enter your first name :\"))\n",
    "last_name=str(input(\"Enter your last name :\"))\n",
    "print(\"\",last_name,\" \",first_name)"
   ]
  },
  {
   "cell_type": "code",
   "execution_count": 4,
   "metadata": {},
   "outputs": [
    {
     "name": "stdout",
     "output_type": "stream",
     "text": [
      "input the radius of the circle :4\n",
      "The area of the circle with radius4.0is:50.26548245743669\n"
     ]
    }
   ],
   "source": [
    "#program to input the radius of a circle and compute the area (import math)\n",
    "from math import pi\n",
    "r=float(input(\"input the radius of the circle :\"))\n",
    "print(\"The area of the circle with radius\"+str(r)+\"is:\"+str(pi*r**2))"
   ]
  },
  {
   "cell_type": "code",
   "execution_count": 5,
   "metadata": {},
   "outputs": [
    {
     "name": "stdout",
     "output_type": "stream",
     "text": [
      "radius=2\n",
      "The area of the circle with radius  2.0 is = 12.566370614359172\n"
     ]
    }
   ],
   "source": [
    "#another method for finding area of circle\n",
    "from math import pi\n",
    "r=float(input(\"radius=\"))\n",
    "A=pi*r**2\n",
    "print(\"The area of the circle with radius \",r,\"is =\",A)"
   ]
  },
  {
   "cell_type": "code",
   "execution_count": null,
   "metadata": {},
   "outputs": [],
   "source": []
  }
 ],
 "metadata": {
  "kernelspec": {
   "display_name": "Python 3",
   "language": "python",
   "name": "python3"
  },
  "language_info": {
   "codemirror_mode": {
    "name": "ipython",
    "version": 3
   },
   "file_extension": ".py",
   "mimetype": "text/x-python",
   "name": "python",
   "nbconvert_exporter": "python",
   "pygments_lexer": "ipython3",
   "version": "3.8.5"
  }
 },
 "nbformat": 4,
 "nbformat_minor": 4
}
