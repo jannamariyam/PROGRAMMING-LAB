{
 "cells": [
  {
   "cell_type": "code",
   "execution_count": 3,
   "metadata": {},
   "outputs": [
    {
     "name": "stdout",
     "output_type": "stream",
     "text": [
      "Enter a string :EXERCISE 10\n",
      "Letters : 8\n",
      "Digits : 2\n"
     ]
    }
   ],
   "source": [
    "#PYTHON PROGRAM THAT ACCEPTS A STRING AND CALCULATE THE NUMBER OF DIGITS AND LETTERS(USING isdigit(),isalpha())\n",
    "\n",
    "#applying condition for recieving input\n",
    "s=input(\"Enter a string :\")\n",
    "\n",
    "#introducing the initial condition for 'for' loop\n",
    "d=0\n",
    "l=0\n",
    "\n",
    "#assuming value c is inside the string by using for loop\n",
    "for c in s :\n",
    "    if c.isdigit():          #check whether c is a digit or alphabet by using if-elif loop inside for loop\n",
    "        d=d+1\n",
    "    elif c.isalpha():\n",
    "        l=l+1\n",
    "    else:\n",
    "        pass\n",
    "print(\"Letters :\",l)        #print the corresponding output\n",
    "print(\"Digits :\",d)"
   ]
  },
  {
   "cell_type": "code",
   "execution_count": 3,
   "metadata": {},
   "outputs": [
    {
     "name": "stdout",
     "output_type": "stream",
     "text": [
      "0 1 3 4 6 7 8 9 10 "
     ]
    }
   ],
   "source": [
    "#PYTHON PROGRAM THAT PRINTS ALL THE NUMBERS FROM 0 TO 10 EXCEPT 2 AND 5(USE'continue' STATEMENT\n",
    "\n",
    "#considering a value i in for loop with range 11\n",
    "for i in range(11):\n",
    "    if(i==2 or i==5):   #removing i=2 or i=5 by using continue statement\n",
    "        continue\n",
    "    print(i,end=\" \")            #printing the output"
   ]
  },
  {
   "cell_type": "code",
   "execution_count": 1,
   "metadata": {},
   "outputs": [
    {
     "name": "stdout",
     "output_type": "stream",
     "text": [
      "How many numbers are present in your list :4\n",
      "Enter number\n",
      "2\n",
      "Enter number\n",
      "4\n",
      "Enter number\n",
      "5\n",
      "Enter number\n",
      "8\n",
      "Sum of elements in your list is : 19\n"
     ]
    }
   ],
   "source": [
    "#FIND THE SUM OF ALL ITEMS IN A LIST (USER SHOULD ENTER ELEMENTS OF LIST)\n",
    "\n",
    "#creating an empty list\n",
    "list=[]\n",
    "\n",
    "#applying the condition for recieving input\n",
    "#and recieves the number of elements in the list\n",
    "n=int(input(\"How many numbers are present in your list :\"))\n",
    "\n",
    "#considering a number i in n ,introducing into for loop\n",
    "for i in range (n):\n",
    "    numbers=int(input(\"Enter number\\n\"))               #applying the condition for entering input numbers\n",
    "    list.append(numbers)                               #placing the given numbers in empty list\n",
    "print(\"Sum of elements in your list is :\",sum(list))   #printing sum as output\n"
   ]
  },
  {
   "cell_type": "markdown",
   "metadata": {},
   "source": [
    "# "
   ]
  },
  {
   "cell_type": "code",
   "execution_count": 7,
   "metadata": {},
   "outputs": [
    {
     "name": "stdout",
     "output_type": "stream",
     "text": [
      "enter the number of rows in pyramid :8\n",
      "\n",
      "1 \n",
      "2 4 \n",
      "3 6 9 \n",
      "4 8 12 16 \n",
      "5 10 15 20 25 \n",
      "6 12 18 24 30 36 \n",
      "7 14 21 28 35 42 49 \n",
      "8 16 24 32 40 48 56 64 "
     ]
    }
   ],
   "source": [
    "#DISPLAY THE PYRAMID WITH STEP NUMBER ACCEPTED FROM USER\n",
    "#eg;\n",
    "# 1\n",
    "# 2 4\n",
    "# 3 6 9\n",
    "# 4 8 12 16\n",
    "\n",
    "#applying the initial cndition for recieving input\n",
    "n=int(input(\"enter the number of rows in pyramid :\")) #recieving the number of steps as number of rows \n",
    "for i in range(1,n+1):       #main for loop (i) repeates from range 1 to n+1 (avoid zero)\n",
    "    print(\"\");               #blank print() is used to start in new line when i value changes\n",
    "    for j in range(1,i+1):   #inner for loop (j) have values from 1 to i+1(avoid zero)\n",
    "        print(i*j,end=\" \")   #printing pyramid values [i value is constant in inner loop and it is multiplied to j value]\n",
    " \n"
   ]
  },
  {
   "cell_type": "code",
   "execution_count": 8,
   "metadata": {},
   "outputs": [
    {
     "name": "stdout",
     "output_type": "stream",
     "text": [
      "Enter a string :janna\n",
      "frequency of' j ' : 1\n",
      "frequency of' a ' : 2\n",
      "frequency of' n ' : 2\n"
     ]
    }
   ],
   "source": [
    "#COUNT THE NUMBER OF CHARECTERS(CHARECTER FREQUENCY) IN A STRING\n",
    "\n",
    "#applying initial condition for recieving input\n",
    "s=input(\"Enter a string :\")\n",
    "string=str(s)\n",
    "charlist=list()             #introducing a charecter list to declare each charecter\n",
    "finallist=list()            #introducing another list of charecters with out repeatation\n",
    "for i in string:            #outer loop variable 'i' access each charecter from string\n",
    "    count=0                 #count variable is used to store charecter frequency\n",
    "    for j in string:        #inner loop variable 'j' access charecter\n",
    "        if i==j:            #if loop is used to check the presence of same charecters\n",
    "            count=count+1   #if condition inside 'if' is true count value will be increased by one\n",
    "    charlist.append(\"frequency of' %s ' : %d\"%(i,count))  #each charecter is appended into charlist\n",
    "for i in charlist:          #variable 'i'in for loop recieves each value from charlist\n",
    "    if i not in finallist:  #by using 'if' loop blocks the repeatation of charecter in final list\n",
    "        finallist.append(i) #appending 'i' value in final list\n",
    "for i in finallist:\n",
    "    print(i)                #printing values\n",
    "        \n",
    "\n",
    "    "
   ]
  },
  {
   "cell_type": "code",
   "execution_count": 4,
   "metadata": {},
   "outputs": [
    {
     "name": "stdout",
     "output_type": "stream",
     "text": [
      "enter number of rows :5\n",
      "* \n",
      "* * \n",
      "* * * \n",
      "* * * * \n",
      "* * * * * \n",
      "* * * * \n",
      "* * * \n",
      "* * \n",
      "* \n",
      "\n"
     ]
    }
   ],
   "source": [
    "#CONSTRUCT FOLLOWING PATTERN USING NESTED LOOP\n",
    "# *\n",
    "# * *\n",
    "# * * *\n",
    "# * * * *\n",
    "# * * * * *\n",
    "# * * * *\n",
    "# * * *\n",
    "# * * \n",
    "# * \n",
    " \n",
    "#applying condition for recieving input\n",
    "n=int(input(\"enter number of rows :\")) \n",
    "\n",
    "#outer loop will print number of rows\n",
    "for i in range(0,n):\n",
    "\n",
    "    #inner loop for printing stars\n",
    "    for j in range(0,i+1):\n",
    "        print(\"*\",end=\" \")\n",
    "    print()         #change the line after each iteration\n",
    "\n",
    "#for second pattern\n",
    "for i in range(n,0,-1):\n",
    "    for j in range(0,i-1):\n",
    "         print(\"*\",end=\" \")\n",
    "    print()\n"
   ]
  },
  {
   "cell_type": "code",
   "execution_count": null,
   "metadata": {},
   "outputs": [],
   "source": []
  },
  {
   "cell_type": "code",
   "execution_count": null,
   "metadata": {},
   "outputs": [],
   "source": []
  },
  {
   "cell_type": "code",
   "execution_count": null,
   "metadata": {},
   "outputs": [],
   "source": []
  }
 ],
 "metadata": {
  "kernelspec": {
   "display_name": "Python 3",
   "language": "python",
   "name": "python3"
  },
  "language_info": {
   "codemirror_mode": {
    "name": "ipython",
    "version": 3
   },
   "file_extension": ".py",
   "mimetype": "text/x-python",
   "name": "python",
   "nbconvert_exporter": "python",
   "pygments_lexer": "ipython3",
   "version": "3.8.5"
  }
 },
 "nbformat": 4,
 "nbformat_minor": 4
}
