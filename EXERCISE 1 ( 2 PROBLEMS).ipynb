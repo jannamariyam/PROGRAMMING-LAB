{
 "cells": [
  {
   "cell_type": "code",
   "execution_count": 2,
   "metadata": {},
   "outputs": [
    {
     "name": "stdout",
     "output_type": "stream",
     "text": [
      "enter the value of side length,a=5\n",
      "area of the given square with side 5.0 is = 25.0\n"
     ]
    }
   ],
   "source": [
    "#PROGRAM TO COMPUTE AREA OF THE SQUARE\n",
    "a=float(input(\"enter the value of side length,a=\"))\n",
    "A=a*a\n",
    "square_area=float(A)\n",
    "print(\"area of the given square with side\",a,\"is =\",A)"
   ]
  },
  {
   "cell_type": "code",
   "execution_count": 3,
   "metadata": {},
   "outputs": [
    {
     "name": "stdout",
     "output_type": "stream",
     "text": [
      "enter the breadth of the triangle , b =6\n",
      "enter the height of the triangle, h =5\n",
      "area of the given right angled triangle is = 15.0\n"
     ]
    }
   ],
   "source": [
    "#PROGRAM TO COMPUTE THE AREA OF THE GIVEN RIGHT ANGLED TRIANGLE\n",
    "b=float(input (\"enter the breadth of the triangle , b =\"))\n",
    "h=float(input(\"enter the height of the triangle, h =\"))\n",
    "A=0.5*b*h\n",
    "triangle_area=float(A)\n",
    "print(\"area of the given right angled triangle is =\",A)"
   ]
  },
  {
   "cell_type": "code",
   "execution_count": null,
   "metadata": {},
   "outputs": [],
   "source": []
  }
 ],
 "metadata": {
  "kernelspec": {
   "display_name": "Python 3",
   "language": "python",
   "name": "python3"
  },
  "language_info": {
   "codemirror_mode": {
    "name": "ipython",
    "version": 3
   },
   "file_extension": ".py",
   "mimetype": "text/x-python",
   "name": "python",
   "nbconvert_exporter": "python",
   "pygments_lexer": "ipython3",
   "version": "3.8.5"
  }
 },
 "nbformat": 4,
 "nbformat_minor": 4
}
