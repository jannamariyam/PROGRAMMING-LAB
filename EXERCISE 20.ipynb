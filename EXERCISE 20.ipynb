{
 "cells": [
  {
   "cell_type": "code",
   "execution_count": 1,
   "metadata": {},
   "outputs": [
    {
     "name": "stdout",
     "output_type": "stream",
     "text": [
      "Current Date: 2021-02-01 12:01:14.985640\n",
      "One year from now Date: 2022-02-01 12:01:14.985640\n",
      "Three days before Date: 2021-01-29 12:01:14.985640\n"
     ]
    }
   ],
   "source": [
    "from datetime import datetime, timedelta\n",
    "current_datetime = datetime.now()\n",
    "# future dates\n",
    "one_year_future_date = current_datetime + timedelta(days=365)\n",
    "\n",
    "print('Current Date:', current_datetime)\n",
    "print('One year from now Date:', one_year_future_date)\n",
    "\n",
    "# past dates\n",
    "three_days_before_date = current_datetime - timedelta(days=3)\n",
    "print('Three days before Date:', three_days_before_date)"
   ]
  },
  {
   "cell_type": "code",
   "execution_count": 2,
   "metadata": {},
   "outputs": [
    {
     "name": "stdout",
     "output_type": "stream",
     "text": [
      "Current Date: 2021-02-01\n",
      "Tomorrow Date: 2021-02-02\n"
     ]
    }
   ],
   "source": [
    "dt = current_datetime.date()\n",
    "print('Current Date:', dt)\n",
    "dt_tomorrow = dt + timedelta(days=1)\n",
    "print('Tomorrow Date:', dt_tomorrow)"
   ]
  },
  {
   "cell_type": "code",
   "execution_count": 3,
   "metadata": {},
   "outputs": [
    {
     "name": "stdout",
     "output_type": "stream",
     "text": [
      "999999999 days, 23:59:59.999999\n",
      "-999999999 days, 0:00:00\n",
      "0:00:00.000001\n"
     ]
    }
   ],
   "source": [
    "print(timedelta.max)\n",
    "print(timedelta.min)\n",
    "print(timedelta.resolution)"
   ]
  },
  {
   "cell_type": "code",
   "execution_count": 4,
   "metadata": {},
   "outputs": [
    {
     "name": "stdout",
     "output_type": "stream",
     "text": [
      "Seconds in an year: 31536000.0\n"
     ]
    }
   ],
   "source": [
    "print('Seconds in an year:',timedelta(days=365).total_seconds())"
   ]
  },
  {
   "cell_type": "code",
   "execution_count": 5,
   "metadata": {},
   "outputs": [
    {
     "name": "stdout",
     "output_type": "stream",
     "text": [
      "True\n",
      "Current Time: 2021-02-01 12:01:14.985640\n",
      "One Min from Current Time: 2021-02-01 12:02:14.985640\n"
     ]
    }
   ],
   "source": [
    "ct = current_datetime + timedelta(seconds=60) - timedelta(seconds=60)\n",
    "print(current_datetime == ct)\n",
    "ct = current_datetime + timedelta(seconds=10) * 6\n",
    "print('Current Time:', current_datetime)\n",
    "print('One Min from Current Time:', ct)"
   ]
  },
  {
   "cell_type": "code",
   "execution_count": 6,
   "metadata": {},
   "outputs": [
    {
     "name": "stdout",
     "output_type": "stream",
     "text": [
      "Five days before Date: 2021-01-27 12:01:14.985640\n"
     ]
    }
   ],
   "source": [
    "#Write a python program To Subtract five days from current date.\n",
    "a = current_datetime - timedelta(days=5)\n",
    "print('Five days before Date:', a)"
   ]
  },
  {
   "cell_type": "code",
   "execution_count": 7,
   "metadata": {},
   "outputs": [
    {
     "name": "stdout",
     "output_type": "stream",
     "text": [
      "Current Date: 2021-02-01\n",
      "Tomorrow Date: 2021-02-02\n",
      "Yesterday Date: 2021-01-31\n"
     ]
    }
   ],
   "source": [
    "#Write a python program To print yesterday, today and tomorrow\n",
    "dt = current_datetime.date()\n",
    "print('Current Date:', dt)\n",
    "dt_tomorrow = dt + timedelta(days=1)\n",
    "print('Tomorrow Date:', dt_tomorrow)\n",
    "dt_yesterday = dt - timedelta(days=1)\n",
    "print('Yesterday Date:', dt_yesterday)"
   ]
  },
  {
   "cell_type": "code",
   "execution_count": 8,
   "metadata": {},
   "outputs": [
    {
     "name": "stdout",
     "output_type": "stream",
     "text": [
      "Date: 2021-02-01\n",
      "Date: 2021-02-02\n",
      "Date: 2021-02-03\n",
      "Date: 2021-02-04\n",
      "Date: 2021-02-05\n"
     ]
    }
   ],
   "source": [
    "#Write a python program To print next 5 days starting from today\n",
    "for i in range(0,5):\n",
    "    day = dt + timedelta(days=i)\n",
    "    print('Date:', day)"
   ]
  },
  {
   "cell_type": "code",
   "execution_count": 9,
   "metadata": {},
   "outputs": [
    {
     "name": "stdout",
     "output_type": "stream",
     "text": [
      "47\n"
     ]
    }
   ],
   "source": [
    "#Write a python program To get days between two given dates\n",
    "from datetime import date\n",
    "d0 = date(2021, 8, 10)\n",
    "d1 = date(2021, 9, 26)\n",
    "delta = d1 - d0\n",
    "print(delta.days)"
   ]
  },
  {
   "cell_type": "code",
   "execution_count": null,
   "metadata": {},
   "outputs": [],
   "source": []
  }
 ],
 "metadata": {
  "kernelspec": {
   "display_name": "Python 3",
   "language": "python",
   "name": "python3"
  },
  "language_info": {
   "codemirror_mode": {
    "name": "ipython",
    "version": 3
   },
   "file_extension": ".py",
   "mimetype": "text/x-python",
   "name": "python",
   "nbconvert_exporter": "python",
   "pygments_lexer": "ipython3",
   "version": "3.8.5"
  }
 },
 "nbformat": 4,
 "nbformat_minor": 4
}
