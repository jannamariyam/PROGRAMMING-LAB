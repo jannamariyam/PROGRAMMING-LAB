{
 "cells": [
  {
   "cell_type": "code",
   "execution_count": 1,
   "metadata": {},
   "outputs": [
    {
     "name": "stdout",
     "output_type": "stream",
     "text": [
      "Enter your name:JANNA\n",
      "Hello, JANNA !\n"
     ]
    }
   ],
   "source": [
    "#program to print \"Hello\" followed by a coma,users name and an exclamation mark\n",
    "name=str(input(\"Enter your name:\"))\n",
    "print(\"Hello,\",name,\"!\")\n",
    "\n"
   ]
  },
  {
   "cell_type": "code",
   "execution_count": 3,
   "metadata": {},
   "outputs": [
    {
     "name": "stdout",
     "output_type": "stream",
     "text": [
      "Enter your number :5\n",
      "previous number of the entered number is : 4\n",
      "very next number of the entered number is : 6\n"
     ]
    }
   ],
   "source": [
    "#PROGRAM TO READS AN INTEGER NUMBER AND PRINT ITS PREVIOUS AND NEXT NUMBERS\n",
    "X=int(input(\"Enter your number :\"))\n",
    "P=X-1\n",
    "N=X+1\n",
    "previous_number=int(P)\n",
    "next_number=int(N)\n",
    "print(\"previous number of the entered number is :\",P)\n",
    "print(\"very next number of the entered number is :\",N)"
   ]
  },
  {
   "cell_type": "code",
   "execution_count": 6,
   "metadata": {},
   "outputs": [
    {
     "name": "stdout",
     "output_type": "stream",
     "text": [
      "enter the principal amound :200000\n",
      "rate of interest :15\n",
      "time taken in terms of year :2\n",
      "simple interest of the given principal amount 200000.0 with rate of interest 15.0 and  time period T 2.0 is : 60000.0\n"
     ]
    }
   ],
   "source": [
    "#PROGRAM FOR CALCULATING SIMPLE INTEREST\n",
    "P=float(input(\"enter the principal amound :\"))\n",
    "principal_amount=float(P)\n",
    "r=float(input(\"rate of interest :\"))\n",
    "t=float(input(\"time taken in terms of year :\"))\n",
    "A=(P*r*t)/100\n",
    "simple_interest=float(A)\n",
    "print(\"simple interest of the given principal amount\",P,\"with rate of interest\",r,\"and  time period T\",t,\"is :\",A)\n"
   ]
  },
  {
   "cell_type": "code",
   "execution_count": null,
   "metadata": {},
   "outputs": [],
   "source": []
  },
  {
   "cell_type": "markdown",
   "metadata": {},
   "source": []
  },
  {
   "cell_type": "code",
   "execution_count": null,
   "metadata": {},
   "outputs": [],
   "source": []
  }
 ],
 "metadata": {
  "kernelspec": {
   "display_name": "Python 3",
   "language": "python",
   "name": "python3"
  },
  "language_info": {
   "codemirror_mode": {
    "name": "ipython",
    "version": 3
   },
   "file_extension": ".py",
   "mimetype": "text/x-python",
   "name": "python",
   "nbconvert_exporter": "python",
   "pygments_lexer": "ipython3",
   "version": "3.8.5"
  }
 },
 "nbformat": 4,
 "nbformat_minor": 4
}
