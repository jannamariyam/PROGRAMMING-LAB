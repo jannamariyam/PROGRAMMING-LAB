{
 "cells": [
  {
   "cell_type": "code",
   "execution_count": 25,
   "metadata": {},
   "outputs": [],
   "source": [
    "#writing to a file\n",
    "\n",
    "f=open(\"myfile.txt\",\"w\")\n",
    "f.write(\"Hello!Learn python files.\")\n",
    "f.close()"
   ]
  },
  {
   "cell_type": "code",
   "execution_count": 26,
   "metadata": {},
   "outputs": [],
   "source": [
    "#write lines to a file\n",
    "\n",
    "lines=[\"Hello world.\\n\",\"Welcome to the world of Python.\\n\"]\n",
    "f=open(\"myfiles.txt\",\"w\")\n",
    "f.writelines(lines)\n",
    "f.close()"
   ]
  },
  {
   "cell_type": "code",
   "execution_count": 27,
   "metadata": {},
   "outputs": [],
   "source": [
    "f=open(\"myfile1.txt\",\"w\")\n",
    "f.write(\"Hello! Learn python files.\")\n",
    "f.close()"
   ]
  },
  {
   "cell_type": "code",
   "execution_count": 28,
   "metadata": {},
   "outputs": [
    {
     "name": "stdout",
     "output_type": "stream",
     "text": [
      "Hello!Learn python files.\n"
     ]
    }
   ],
   "source": [
    "#reading lines\n",
    "\n",
    "f=open(\"myfile.txt\",\"r\")\n",
    "line=f.readline()\n",
    "print(line)\n",
    "f.close()"
   ]
  },
  {
   "cell_type": "code",
   "execution_count": 29,
   "metadata": {},
   "outputs": [
    {
     "name": "stdout",
     "output_type": "stream",
     "text": [
      "Hello!Learn python files.\n"
     ]
    }
   ],
   "source": [
    "#reading lines\n",
    "\n",
    "f=open(\"myfile.txt\",\"r\")\n",
    "for line in f:\n",
    "    print(line)\n",
    "f.close()"
   ]
  },
  {
   "cell_type": "code",
   "execution_count": 30,
   "metadata": {},
   "outputs": [],
   "source": [
    "#append text to a file\n",
    "\n",
    "f=open(\"myfile.txt\",\"a+\")\n",
    "f.write(\"Hello!  Learn Python.\")\n",
    "line=f.readline()\n",
    "f.close()"
   ]
  },
  {
   "cell_type": "code",
   "execution_count": 31,
   "metadata": {},
   "outputs": [
    {
     "name": "stdout",
     "output_type": "stream",
     "text": [
      "Hello!Learn python files.Hello!  Learn Python.\n"
     ]
    }
   ],
   "source": [
    "f=open(\"myfile.txt\",\"r\")\n",
    "for line in f:\n",
    "    print(line)\n",
    "f.close()"
   ]
  },
  {
   "cell_type": "code",
   "execution_count": 32,
   "metadata": {},
   "outputs": [
    {
     "name": "stdout",
     "output_type": "stream",
     "text": [
      "Learn python files.Hello!  Learn Python.\n"
     ]
    }
   ],
   "source": [
    "#seek method\n",
    "\n",
    "f=open(\"myfile.txt\",\"r+\")\n",
    "f.seek(6,0)\n",
    "lines=f.readlines()\n",
    "for line in lines:\n",
    "    print(line)\n",
    "f.close()    "
   ]
  },
  {
   "cell_type": "code",
   "execution_count": 33,
   "metadata": {},
   "outputs": [],
   "source": [
    "#Write a program to copy a text file to another file.\n",
    "f1=open(\"myfile.txt\",\"r\")\n",
    "line1=f1.readline()\n",
    "f2=open(\"myfile1.txt\",\"a+\")\n",
    "f2.write(line1)\n",
    "f2.close()\n",
    "f1.close()"
   ]
  },
  {
   "cell_type": "code",
   "execution_count": 34,
   "metadata": {},
   "outputs": [
    {
     "name": "stdout",
     "output_type": "stream",
     "text": [
      "file copied\n"
     ]
    }
   ],
   "source": [
    "r1=open(\"myfile.txt\",\"r\")\n",
    "w1=open(\"myfile.txt\",\"w\")\n",
    "for line in r1.readlines():\n",
    "    w1.write(line)\n",
    "r1.close()\n",
    "w1.close()\n",
    "print(\"file copied\")"
   ]
  },
  {
   "cell_type": "code",
   "execution_count": 35,
   "metadata": {},
   "outputs": [
    {
     "name": "stdout",
     "output_type": "stream",
     "text": [
      "This is the number of lines in the file\n",
      "5\n"
     ]
    }
   ],
   "source": [
    "#Write a program to count the number of lines in a file.\n",
    "f1=open(\"myfile2.txt\",\"r\")\n",
    "count=0\n",
    "for i in f1.readlines():  \n",
    "        count=count+1\n",
    "print(\"This is the number of lines in the file\") \n",
    "print(count)"
   ]
  },
  {
   "cell_type": "code",
   "execution_count": 36,
   "metadata": {},
   "outputs": [],
   "source": [
    "#Write a program to append a file with the contents of another file.\n",
    "f1=open(\"myfile3.txt\",\"w\")\n",
    "f1.write(\"Hello\")\n",
    "f2=open(\"myfile4.txt\",\"a+\")\n",
    "f2.write(\" World!\")\n",
    "line=f2.readline()\n",
    "f1.write(line)\n",
    "f2.close()\n",
    "f1.close()"
   ]
  },
  {
   "cell_type": "code",
   "execution_count": 1,
   "metadata": {},
   "outputs": [
    {
     "name": "stdout",
     "output_type": "stream",
     "text": [
      "line 1\n",
      "line 2\n",
      "line 3\n",
      "line 4\n",
      "line 5\n"
     ]
    }
   ],
   "source": [
    "#Write a python program to read a file line by line and store it into a list\n",
    "f1=open(\"myfile2.txt\",\"r\")\n",
    "line=f1.read()\n",
    "lines=line.split(\"\\n\")\n",
    "for i in lines:\n",
    "    print(i)\n",
    "f1.close()    "
   ]
  },
  {
   "cell_type": "code",
   "execution_count": 9,
   "metadata": {},
   "outputs": [
    {
     "name": "stdout",
     "output_type": "stream",
     "text": [
      "['line 1', 'line 2', 'line 3', 'line 4', 'line 5']\n"
     ]
    }
   ],
   "source": [
    "f= open(\"myfile2.txt\")\n",
    "lines=f.read().split(\"\\n\")\n",
    "f.close()\n",
    "print(lines)\n",
    "   "
   ]
  },
  {
   "cell_type": "code",
   "execution_count": 11,
   "metadata": {},
   "outputs": [
    {
     "name": "stdout",
     "output_type": "stream",
     "text": [
      "['line 1', 'line 2', 'line 3', 'line 4', 'line 5']\n"
     ]
    }
   ],
   "source": [
    "with open('myfile2.txt') as f:\n",
    "    content=f.read().splitlines()   \n",
    "    print(content)"
   ]
  },
  {
   "cell_type": "code",
   "execution_count": 1,
   "metadata": {},
   "outputs": [
    {
     "name": "stdout",
     "output_type": "stream",
     "text": [
      "Enter the file :text1.txt\n",
      "['Embryology']\n"
     ]
    }
   ],
   "source": [
    "#Write a python program to find the longest words.\n",
    "f=input(\"Enter the file :\")\n",
    "with open(f,\"r\") as f1:\n",
    "    words=f1.read().split()       #split each words in the sentence using space\n",
    "max_len=len(max(words,key=len))           #to find the length of longest word from the given file\n",
    "long_word=[word for word in words if len(word)==max_len] #list the words with length max_len\n",
    "print(long_word)\n",
    "f1.close()                        #closing the file"
   ]
  },
  {
   "cell_type": "code",
   "execution_count": 3,
   "metadata": {},
   "outputs": [
    {
     "name": "stdout",
     "output_type": "stream",
     "text": [
      "9\n",
      "['HYDRANGEA']\n"
     ]
    }
   ],
   "source": [
    "with open(\"myfile5.txt\",\"r\") as fn:\n",
    "    words=fn.read().split()\n",
    "max_len=len(max(words,key=len))\n",
    "print(max_len)\n",
    "long_word=[word for word in words if len(word)==max_len]\n",
    "print(long_word)\n",
    "fn.close()"
   ]
  },
  {
   "cell_type": "code",
   "execution_count": 6,
   "metadata": {},
   "outputs": [
    {
     "name": "stdout",
     "output_type": "stream",
     "text": [
      "Longest word :  HYDRANGEA\n"
     ]
    }
   ],
   "source": [
    "#Write a python program to find the longest words.\n",
    "f=open(\"myfile5.txt\",\"r+\")\n",
    "line=f.read()\n",
    "lines=line.split( )\n",
    "length=len(lines)\n",
    "l=lines[0]\n",
    "for i in range(1,length):\n",
    "    if(len(lines[i])>len(l)):\n",
    "        l=lines[i]\n",
    "print(\"Longest word : \",l)   "
   ]
  },
  {
   "cell_type": "code",
   "execution_count": null,
   "metadata": {},
   "outputs": [],
   "source": []
  }
 ],
 "metadata": {
  "kernelspec": {
   "display_name": "Python 3",
   "language": "python",
   "name": "python3"
  },
  "language_info": {
   "codemirror_mode": {
    "name": "ipython",
    "version": 3
   },
   "file_extension": ".py",
   "mimetype": "text/x-python",
   "name": "python",
   "nbconvert_exporter": "python",
   "pygments_lexer": "ipython3",
   "version": "3.8.5"
  }
 },
 "nbformat": 4,
 "nbformat_minor": 4
}
