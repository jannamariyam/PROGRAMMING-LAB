{
 "cells": [
  {
   "cell_type": "code",
   "execution_count": 1,
   "metadata": {},
   "outputs": [
    {
     "name": "stdout",
     "output_type": "stream",
     "text": [
      "Surface area of the cuboid =  52\n",
      "Perimeter of the cuboid =  36\n",
      "Area of the sphere =  113.09733552923255\n",
      "Perimeter of the sphere =  113.09733552923254\n"
     ]
    }
   ],
   "source": [
    "from graphics.Dgraphics import cuboid\n",
    "from graphics.Dgraphics import sphere\n",
    "cuboid.area3(2,3,4)\n",
    "cuboid.per3(2,3,4)\n",
    "sphere.area4(3)\n",
    "sphere.per4(3)"
   ]
  },
  {
   "cell_type": "code",
   "execution_count": 2,
   "metadata": {},
   "outputs": [
    {
     "name": "stdout",
     "output_type": "stream",
     "text": [
      "Area of rectangle =  12\n",
      "Perimeter of rectangle =  14\n",
      "Area of circle =  78.53981633974483\n",
      "Perimeter of circle =  31.41592653589793\n"
     ]
    }
   ],
   "source": [
    "from graphics import*\n",
    "rectangle.area1(3,4)\n",
    "rectangle.per1(3,4)\n",
    "circle.area2(5)\n",
    "circle.per2(5)"
   ]
  },
  {
   "cell_type": "code",
   "execution_count": null,
   "metadata": {},
   "outputs": [],
   "source": []
  }
 ],
 "metadata": {
  "kernelspec": {
   "display_name": "Python 3",
   "language": "python",
   "name": "python3"
  },
  "language_info": {
   "codemirror_mode": {
    "name": "ipython",
    "version": 3
   },
   "file_extension": ".py",
   "mimetype": "text/x-python",
   "name": "python",
   "nbconvert_exporter": "python",
   "pygments_lexer": "ipython3",
   "version": "3.8.5"
  }
 },
 "nbformat": 4,
 "nbformat_minor": 4
}
